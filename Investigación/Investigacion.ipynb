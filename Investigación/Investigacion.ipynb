{
 "cells": [
  {
   "cell_type": "markdown",
   "metadata": {},
   "source": [
    "# 📌 Investigación: Funciones en Python en el Desarrollo de Software\n",
    "## Autor: Héctor Luis Guerrero Quirós\n",
    "### Fecha: 13-02-2025\n",
    "\n",
    "---\n",
    "\n",
    "## **Exploración Teórica y Aplicación Práctica de las Funciones en Python**\n",
    "\n",
    "## 1. Planteamiento del Problema\n",
    "\n",
    "Las funciones en Python son una herramienta esencial en la programación estructurada y funcional. Su correcto uso permite mejorar la reutilización del código, modularización y escalabilidad de los programas. Sin embargo, muchos estudiantes desconocen las mejores prácticas en su implementación y el impacto en la eficiencia del código.\n",
    "  \n",
    "## 2. Pregunta de Investigación\n",
    "\n",
    "¿Cómo influyen las funciones en Python en la modularización y eficiencia de los programas en desarrollo de software? \n",
    "\n",
    "--- "
   ]
  },
  {
   "cell_type": "markdown",
   "metadata": {},
   "source": [
    "## 🟢 Sección 1. Introducción\n"
   ]
  },
  {
   "cell_type": "markdown",
   "metadata": {},
   "source": [
    "### ✅ Breve introducción de la investigación: \n",
    "\n",
    "En la programación, las funciones son bloques de código reutilizables que permiten organizar, estructurar y mejorar la eficiencia de un programa. En Python, las funciones facilitan la modularidad del código al dividir tareas complejas en fragmentos más manejables y reutilizables.\n",
    "\n",
    "Una función en Python se define utilizando la palabra clave *def*, seguida del nombre de la función y paréntesis que pueden incluir parámetros. Dentro del cuerpo de la función, se escribe el código que ejecutará cuando sea llamada. Se puede usar la palabra clave *return* para devolver un valor específico. Por ejemplo:"
   ]
  },
  {
   "cell_type": "code",
   "execution_count": null,
   "metadata": {},
   "outputs": [
    {
     "name": "stdout",
     "output_type": "stream",
     "text": [
      "El resultado de la suma es: 8\n"
     ]
    }
   ],
   "source": [
    "def sumar(x, y):\n",
    "    return x + y\n",
    "\n",
    "resultado = sumar(5, 3)\n",
    "\n",
    "print(f'El resultado de la suma es: {resultado}')"
   ]
  },
  {
   "cell_type": "markdown",
   "metadata": {},
   "source": [
    "El uso de funciones ofrece múltiples beneficios, como la reducción de código repetitivo, la mejora en la legibilidad y mantenimiento del programa, y la facilidad para depurar errores. Además, Python incluye funciones predefinidas, como *print()*, *len()*, y *max()*, así como la posibilidad de crear funciones anónimas mediante lambda.\n",
    "\n",
    "Por tanto, las funciones en Python son una herramienta fundamental para la escritura de código limpio, estructurado y eficiente, permitiendo a los programadores optimizar sus soluciones y mejorar la escalabilidad de sus aplicaciones."
   ]
  },
  {
   "cell_type": "markdown",
   "metadata": {},
   "source": [
    "### ✅ Importancia del uso de funciones en Python:"
   ]
  },
  {
   "cell_type": "markdown",
   "metadata": {},
   "source": [
    "El uso de funciones en Python es crucial en diversos campos, ya que permite la automatización de tareas repetitivas, el análisis de grandes volúmenes de datos y la implementación de modelos complejos de manera estructurada. Algunas aplicaciones:"
   ]
  },
  {
   "cell_type": "markdown",
   "metadata": {},
   "source": [
    "**Finanzas:** En el análisis financiero, las funciones permiten calcular indicadores como el valor presente neto (VPN), la tasa interna de retorno (TIR) y la volatilidad de activos."
   ]
  },
  {
   "cell_type": "code",
   "execution_count": 5,
   "metadata": {},
   "outputs": [
    {
     "name": "stdout",
     "output_type": "stream",
     "text": [
      "219.47131082213673\n"
     ]
    }
   ],
   "source": [
    "def calcular_vpn(tasa_descuento, flujos):\n",
    "    return sum(flujo / (1 + tasa_descuento) ** i for i, flujo in enumerate(flujos))\n",
    "\n",
    "flujos = [-1000, 200, 300, 400, 500]\n",
    "\n",
    "print(calcular_vpn(0.05, flujos))"
   ]
  },
  {
   "cell_type": "markdown",
   "metadata": {},
   "source": [
    "**Economía:** En la modelización económica, las funciones facilitan el cálculo de indicadores macroeconómicos, como el PIB per cápita o la elasticidad de la demanda."
   ]
  },
  {
   "cell_type": "code",
   "execution_count": 6,
   "metadata": {},
   "outputs": [
    {
     "name": "stdout",
     "output_type": "stream",
     "text": [
      "4000.0\n"
     ]
    }
   ],
   "source": [
    "def pib_per_capita(pib, poblacion):\n",
    "    return pib / poblacion\n",
    "\n",
    "print(pib_per_capita(2000000000, 500000))  # PIB per cápita"
   ]
  },
  {
   "cell_type": "markdown",
   "metadata": {},
   "source": [
    "**Análisis de Datos:** En la ciencia de datos, las funciones permiten limpiar, transformar y analizar grandes conjuntos de datos de manera eficiente."
   ]
  },
  {
   "cell_type": "code",
   "execution_count": 2,
   "metadata": {},
   "outputs": [
    {
     "name": "stdout",
     "output_type": "stream",
     "text": [
      "200.0\n"
     ]
    }
   ],
   "source": [
    "import pandas as pd\n",
    "\n",
    "def calcular_media_columna(df, columna):\n",
    "    return df[columna].mean()\n",
    "\n",
    "datos = pd.DataFrame({'Ventas': [100, 200, 150, 300, 250]})\n",
    "print(calcular_media_columna(datos, 'Ventas'))  # Media de ventas"
   ]
  },
  {
   "cell_type": "markdown",
   "metadata": {},
   "source": [
    "## 🟢 Sección 2. Desarrollo de la investigación\n",
    "\n",
    "Investigar y documentar los siguientes temas explicándolos y proporcionando ejemplos en Python.\n",
    "  \n",
    "### ✅ Definición y Próposito de las Funciones en Python.\n"
   ]
  },
  {
   "cell_type": "markdown",
   "metadata": {},
   "source": [
    "#### -- ¿Qué son las funciones?\n",
    "\n",
    "Como se menciono al inicio del presente notebook, una función en Python es un bloque de código reutilizable que encapsula una secuencia de instrucciones para realizar una tarea específica. Se define utilizando la palabra clave *def*, seguida del nombre de la función, paréntesis que pueden contener parámetros de entrada y un cuerpo de instrucciones indentado. Las funciones pueden retornar valores utilizando la palabra clave *return*. Este mecanismo fomenta la modularidad y la reutilización del código, mejorando la legibilidad y mantenimiento de los programas.\n",
    "\n",
    "Desde una perspectiva computacional, las funciones permiten la abstracción y la descomposición de problemas en partes más manejables, lo que es fundamental en la programación estructurada y orientada a objetos."
   ]
  },
  {
   "cell_type": "markdown",
   "metadata": {},
   "source": [
    "#### -- Beneficios de modularizar código con funciones.\n",
    "\n",
    "Modularizar código con funciones en Python ofrece varios beneficios clave desde el punto de vista académico y práctico. A continuación, se presentan los principales:\n",
    "\n",
    "##### **1)** Reutilización del código\n",
    "        - Permite evitar la repetición de código al encapsular lógica reutilizable dentro de funciones.\n",
    "        - Facilita la implementación de funcionalidades en múltiples partes de un programa sin necesidad de reescribir código.\n",
    "\n",
    "##### **2)** Mantenimiento y escalabilidad\n",
    "        - Los cambios en el código son más sencillos de gestionar, ya que se pueden realizar modificaciones en una función sin afectar otras partes del programa.\n",
    "        - Un sistema modular facilita la ampliación del código sin necesidad de modificar grandes secciones.\n",
    "\n",
    "##### **3)** Legibilidad y organización\n",
    "        - El uso de funciones mejora la claridad del código, ya que cada función realiza una tarea específica y bien definida.\n",
    "        - Un código modular es más comprensible, lo que reduce la complejidad y facilita su revisión por parte de otros desarrolladores.\n",
    "\n",
    "##### **4)** Depuración y pruebas más sencillas\n",
    "        - Es más fácil detectar errores en funciones específicas que en un bloque de código monolítico.\n",
    "        - Se pueden escribir pruebas unitarias para cada función, permitiendo validar su correcto funcionamiento de manera independiente.\n",
    "\n",
    "##### **5)** Abstracción y encapsulamiento\n",
    "        - Permite ocultar la complejidad de una tarea al usuario de la función, quien solo necesita conocer su nombre, parámetros y resultado esperado.\n",
    "        - Favorece la separación de preocupaciones dentro de un programa, lo que mejora la estructura y el diseño del código.\n",
    "\n",
    "##### **6)** Mejora el desempeño y la eficiencia\n",
    "        - Un código bien modularizado optimiza la ejecución, ya que se evitan cálculos redundantes y se pueden reutilizar resultados previos.\n",
    "        - Al combinar funciones con estructuras como caché o memoización, se pueden mejorar los tiempos de procesamiento.    \n",
    "\n",
    "A continuación, se procede a presentar un ejemplo práctico de modularización:   "
   ]
  },
  {
   "cell_type": "code",
   "execution_count": null,
   "metadata": {},
   "outputs": [
    {
     "name": "stdout",
     "output_type": "stream",
     "text": [
      "78.53999999999999 314.15999999999997\n"
     ]
    }
   ],
   "source": [
    "# Cálculo del área de un círculo (sin modularización)\n",
    "\n",
    "radio1 = 5\n",
    "area1 = 3.1416 * (radio1 ** 2)\n",
    "\n",
    "radio2 = 10\n",
    "area2 = 3.1416 * (radio2 ** 2)\n",
    "\n",
    "print(area1, area2)\n",
    "\n",
    "# Sin funciones (código repetitivo y poco eficiente):"
   ]
  },
  {
   "cell_type": "code",
   "execution_count": 2,
   "metadata": {},
   "outputs": [
    {
     "name": "stdout",
     "output_type": "stream",
     "text": [
      "78.53999999999999\n",
      "314.15999999999997\n"
     ]
    }
   ],
   "source": [
    "def calcular_area_circulo(radio):\n",
    "    \"\"\"Devuelve el área de un círculo dado su radio.\"\"\"\n",
    "    return 3.1416 * (radio ** 2)\n",
    "\n",
    "print(calcular_area_circulo(5))  # Salida: 78.54\n",
    "print(calcular_area_circulo(10)) # Salida: 314.16\n",
    "\n",
    "# Con funciones (código modular, reutilizable y claro)"
   ]
  },
  {
   "cell_type": "markdown",
   "metadata": {},
   "source": [
    "El ejemplo anterior, muestra que este enfoque modulariza el cálculo del área y permite reutilizar la función sin necesidad de reescribir la fórmula.\n",
    "\n",
    "Por tanto, modularizar código con funciones en Python mejora la reutilización, organización, mantenimiento, legibilidad y eficiencia del código, haciendo que los programas sean más escalables y fáciles de depurar."
   ]
  },
  {
   "cell_type": "markdown",
   "metadata": {},
   "source": [
    "#### -- Importancia de la reutilización del código.\n",
    "\n",
    "La reutilización del código es un principio fundamental en la programación y el desarrollo de software, ya que permite aprovechar fragmentos de código ya escritos para resolver problemas similares en diferentes contextos. Este enfoque tiene varias ventajas clave:"
   ]
  },
  {
   "cell_type": "markdown",
   "metadata": {},
   "source": [
    "##### 1. Ahorro de tiempo y esfuerzo\n",
    "\n",
    "        - Al reutilizar funciones o módulos previamente desarrollados, se evita escribir código desde cero.\n",
    "        - Permite a los programadores centrarse en la lógica de negocio en lugar de reescribir soluciones repetitivas.\n",
    "\n",
    "**📌 Ejemplo:** En un proyecto de análisis de datos, si ya se tiene una función para calcular la media aritmética de una lista, no es necesario implementarla cada vez que se requiera.\n",
    "\n",
    "##### 2. Mantenimiento y actualización simplificados\n",
    "\n",
    "        - Si un fragmento de código se reutiliza en múltiples partes de un programa, solo es necesario actualizarlo en un solo lugar en caso de cambios o mejoras.\n",
    "        - Reduce la probabilidad de introducir errores al modificar el código.\n",
    "\n",
    "**📌 Ejemplo:** Si una función de validación de correos electrónicos se usa en varias partes de un sistema, un cambio en su lógica afectará automáticamente todas sus instancias sin necesidad de modificaciones individuales.\n",
    "\n",
    "##### 3. Reducción de errores y mayor confiabilidad\n",
    "\n",
    "        - Un código reutilizado ha sido probado y depurado previamente, lo que disminuye la cantidad de errores en nuevas implementaciones.\n",
    "        - Evita inconsistencias en la lógica, ya que se usa la misma implementación en todo el programa.\n",
    "\n",
    "**📌 Ejemplo:** Una función para conectarse a una base de datos SQL, probada y validada, puede ser utilizada en diferentes partes del sistema sin riesgos de errores por reescritura.\n",
    "\n",
    "##### 4. Mejora la modularidad y escalabilidad\n",
    "\n",
    "        - Facilita la creación de programas modulares, donde los componentes pueden integrarse o sustituirse fácilmente.\n",
    "        - Permite que los equipos de desarrollo trabajen de manera colaborativa en distintas partes del proyecto sin interferencias.\n",
    "\n",
    "**📌 Ejemplo:** Un equipo de desarrollo que trabaja en un sistema de comercio electrónico puede reutilizar funciones para procesar pagos, validar usuarios y calcular impuestos sin tener que escribir código nuevo.\n",
    "\n",
    "##### 5. Optimización del rendimiento\n",
    "\n",
    "        - Un código modular y reutilizable reduce la carga computacional, ya que evita cálculos redundantes.\n",
    "        - En sistemas grandes, permite optimizar recursos al reutilizar algoritmos eficientes en diferentes partes del programa.\n",
    "\n",
    "**📌 Ejemplo:** En una aplicación web, una función de caché puede reutilizarse para almacenar resultados de consultas a la base de datos y mejorar la velocidad de respuesta.\n",
    "\n",
    "##### 6. Facilita la implementación de buenas prácticas de programación\n",
    "\n",
    "        - Fomenta el uso de principios como DRY (Don't Repeat Yourself), que busca evitar la repetición innecesaria de código.\n",
    "        - Mejora la calidad del código al permitir pruebas unitarias más efectivas.\n",
    "\n",
    "**📌 Ejemplo:** En el desarrollo basado en microservicios, cada servicio expone funciones reutilizables que pueden ser consumidas por diferentes aplicaciones sin necesidad de duplicar código."
   ]
  },
  {
   "cell_type": "markdown",
   "metadata": {},
   "source": [
    "#### Ejemplo práctico de reutilización de código."
   ]
  },
  {
   "cell_type": "markdown",
   "metadata": {},
   "source": [
    "Sin reutilización (Código repetitivo):"
   ]
  },
  {
   "cell_type": "code",
   "execution_count": 3,
   "metadata": {},
   "outputs": [
    {
     "name": "stdout",
     "output_type": "stream",
     "text": [
      "90.0 170.0\n"
     ]
    }
   ],
   "source": [
    "# Cálculo de descuento para dos productos (sin reutilización)\n",
    "\n",
    "precio1 = 100\n",
    "descuento1 = 0.10\n",
    "precio_final1 = precio1 - (precio1 * descuento1)\n",
    "\n",
    "precio2 = 200\n",
    "descuento2 = 0.15\n",
    "precio_final2 = precio2 - (precio2 * descuento2)\n",
    "\n",
    "print(precio_final1, precio_final2)"
   ]
  },
  {
   "cell_type": "markdown",
   "metadata": {},
   "source": [
    "Este código repite la misma lógica varias veces."
   ]
  },
  {
   "cell_type": "markdown",
   "metadata": {},
   "source": [
    "Conn reutilización:"
   ]
  },
  {
   "cell_type": "code",
   "execution_count": 4,
   "metadata": {},
   "outputs": [
    {
     "name": "stdout",
     "output_type": "stream",
     "text": [
      "90.0\n",
      "170.0\n"
     ]
    }
   ],
   "source": [
    "def aplicar_descuento(precio, descuento):\n",
    "    \"\"\"Calcula el precio final aplicando un descuento.\"\"\"\n",
    "    return precio - (precio * descuento)\n",
    "\n",
    "print(aplicar_descuento(100, 0.10))  # Salida: 90.0\n",
    "print(aplicar_descuento(200, 0.15))  # Salida: 170.0\n"
   ]
  },
  {
   "cell_type": "markdown",
   "metadata": {},
   "source": [
    "Aquí la función aplicar_descuento() encapsula la lógica, permitiendo su reutilización de manera eficiente y clara."
   ]
  },
  {
   "cell_type": "markdown",
   "metadata": {},
   "source": [
    "En consecuencia, la reutilización del código no solo mejora la productividad y reduce errores, sino que también optimiza el mantenimiento y la escalabilidad de las aplicaciones. Implementar código reutilizable permite desarrollar sistemas más robustos, eficientes y fáciles de entender, lo que es clave en entornos de desarrollo moderno."
   ]
  },
  {
   "cell_type": "markdown",
   "metadata": {},
   "source": [
    "### ✅ Tipo de Funciones en Python."
   ]
  },
  {
   "cell_type": "markdown",
   "metadata": {},
   "source": [
    "#### -- Funciones con y sin retorno.\n",
    "\n",
    "En Python, las funciones pueden clasificarse en con retorno y sin retorno, dependiendo de si devuelven un valor o no."
   ]
  },
  {
   "cell_type": "markdown",
   "metadata": {},
   "source": [
    "**1.** Funciones con retorno\n",
    "\n",
    "Estas funciones devuelven un valor utilizando la palabra clave return. El valor devuelto puede ser almacenado en una variable o usado directamente en una expresión.\n",
    "\n",
    "    📌 Características:\n",
    "\n",
    "        - Utilizan return para enviar un resultado al programa que las llama.\n",
    "        - Pueden devolver cualquier tipo de dato (int, str, list, dict, etc.).\n",
    "        - Permiten reutilizar el resultado en diferentes partes del código.\n",
    "\n",
    "✅ Ejemplo de función con retorno:"
   ]
  },
  {
   "cell_type": "code",
   "execution_count": 5,
   "metadata": {},
   "outputs": [
    {
     "name": "stdout",
     "output_type": "stream",
     "text": [
      "8\n"
     ]
    }
   ],
   "source": [
    "def suma(a, b):\n",
    "    \"\"\"Devuelve la suma de dos números.\"\"\"\n",
    "    return a + b\n",
    "\n",
    "resultado = suma(5, 3)  # Almacena el valor retornado en una variable\n",
    "print(resultado)  # Salida: 8"
   ]
  },
  {
   "cell_type": "markdown",
   "metadata": {},
   "source": [
    " Aquí la función suma(a, b) devuelve la suma de los dos números, que luego se almacena en resultado y se imprime."
   ]
  },
  {
   "cell_type": "markdown",
   "metadata": {},
   "source": [
    "#### -- Funciones con parámetros y valores predeterminados."
   ]
  },
  {
   "cell_type": "markdown",
   "metadata": {},
   "source": [
    "**2.** Funciones sin retorno\n",
    "\n",
    "Estas funciones no devuelven un valor explícito, sino que ejecutan una acción, como imprimir en pantalla o modificar variables globales.\n",
    "\n",
    "    📌 Características:\n",
    "\n",
    "        - No utilizan return o lo usan sin devolver un valor (return solo o return None).\n",
    "        - Ejecutan acciones dentro del programa sin necesidad de retornar datos.\n",
    "        - Útiles para mostrar mensajes, modificar estructuras de datos o realizar efectos secundarios.\n",
    "\n",
    "✅ Ejemplo de función sin retorno:"
   ]
  },
  {
   "cell_type": "code",
   "execution_count": 6,
   "metadata": {},
   "outputs": [
    {
     "name": "stdout",
     "output_type": "stream",
     "text": [
      "Hola, Aarón. ¡Bienvenido!\n"
     ]
    }
   ],
   "source": [
    "def mostrar_mensaje(nombre):\n",
    "    \"\"\"Muestra un mensaje de bienvenida en pantalla.\"\"\"\n",
    "    print(f\"Hola, {nombre}. ¡Bienvenido!\")\n",
    "\n",
    "mostrar_mensaje(\"Aarón\")  # Salida: Hola, Aarón. ¡Bienvenido!"
   ]
  },
  {
   "cell_type": "markdown",
   "metadata": {},
   "source": [
    "Aquí la función mostrar_mensaje(nombre) no devuelve ningún valor, solo imprime un mensaje en pantalla."
   ]
  },
  {
   "cell_type": "markdown",
   "metadata": {},
   "source": [
    "### 📌 Diferencia clave entre funciones con y sin retorno: \n",
    "  \n",
    "| Característica             | Función con retorno | Función sin retorno | \n",
    "|--------------------------------------------------|-------|--------------------------------| \n",
    "| **Usa *return***                                 | ✅ Sí | ❌ No o devuelve *None* | \n",
    "| **Retorna un valor**                             | ✅ Sí | ❌ No | \n",
    "| **Puede almacenar el resultado en una variable** | ✅ Sí | ❌ No |\n",
    "| **Uso principal**                                | Cálculos, transformaciones | Mensajes, efectos secundarios | "
   ]
  },
  {
   "cell_type": "markdown",
   "metadata": {},
   "source": [
    "Ejemplo combinado:"
   ]
  },
  {
   "cell_type": "code",
   "execution_count": 7,
   "metadata": {},
   "outputs": [
    {
     "name": "stdout",
     "output_type": "stream",
     "text": [
      "16\n",
      "El cuadrado de 4 es 16\n"
     ]
    }
   ],
   "source": [
    "def calcular_cuadrado(n):\n",
    "    \"\"\"Devuelve el cuadrado de un número (con retorno).\"\"\"\n",
    "    return n ** 2\n",
    "\n",
    "def imprimir_cuadrado(n):\n",
    "    \"\"\"Imprime el cuadrado de un número (sin retorno).\"\"\"\n",
    "    print(f\"El cuadrado de {n} es {n ** 2}\")\n",
    "\n",
    "resultado = calcular_cuadrado(4)  # Función con retorno\n",
    "print(resultado)  # Salida: 16\n",
    "\n",
    "imprimir_cuadrado(4)  # Función sin retorno\n",
    "# Salida: El cuadrado de 4 es 16"
   ]
  },
  {
   "cell_type": "markdown",
   "metadata": {},
   "source": [
    "El ejemplo anterior nos permite identificar: \n",
    "\n",
    "    - calcular_cuadrado(4) devuelve 16, que se almacena en resultado.\n",
    "    - imprimir_cuadrado(4) solo imprime el resultado, pero no devuelve nada."
   ]
  },
  {
   "cell_type": "markdown",
   "metadata": {},
   "source": [
    "Por tanto, las funciones con retorno son útiles cuando se necesita usar el resultado posteriormente en el código, mientras que las funciones sin retorno son ideales para mostrar información o realizar acciones sin necesidad de devolver un valor."
   ]
  },
  {
   "cell_type": "markdown",
   "metadata": {},
   "source": [
    "#### -- Uso de *args* y *kwargs*.\n",
    "\n",
    "En Python, *args* y **kwargs* son mecanismos para manejar un número variable de argumentos en funciones. Estos permiten escribir funciones más flexibles y reutilizables."
   ]
  },
  {
   "cell_type": "markdown",
   "metadata": {},
   "source": [
    "**1.** *args:* Argumentos Posicionales Variables\n",
    "\n",
    "El parámetro *args permite a una función recibir un número indefinido de argumentos posicionales como una tupla.\n",
    "\n",
    "📌 Características:\n",
    "\n",
    "    - Se usa cuando no se conoce de antemano cuántos argumentos se pasarán a la función.\n",
    "    - Los argumentos se agrupan en una tupla dentro de la función.\n",
    "\n",
    "✅ Ejemplo de *args:*"
   ]
  },
  {
   "cell_type": "code",
   "execution_count": 8,
   "metadata": {},
   "outputs": [
    {
     "name": "stdout",
     "output_type": "stream",
     "text": [
      "12\n",
      "15\n"
     ]
    }
   ],
   "source": [
    "def suma(*numeros):\n",
    "    \"\"\"Devuelve la suma de todos los números pasados como argumento.\"\"\"\n",
    "    return sum(numeros)\n",
    "\n",
    "print(suma(2, 4, 6))       # Salida: 12\n",
    "print(suma(1, 2, 3, 4, 5)) # Salida: 15"
   ]
  },
  {
   "cell_type": "markdown",
   "metadata": {},
   "source": [
    "Aquí la función suma(*numeros) puede recibir cualquier cantidad de valores y los trata como una tupla."
   ]
  },
  {
   "cell_type": "markdown",
   "metadata": {},
   "source": [
    "**2.** *kwargs:* Argumentos Nombrados Variables\n",
    "\n",
    "El parámetro **kwargs permite recibir un número indefinido de argumentos nombrados como un diccionario.\n",
    "\n",
    "📌 Características:\n",
    "\n",
    "    - Se usa cuando no se conoce de antemano qué nombres de argumentos serán pasados.\n",
    "    - Los argumentos se almacenan en un diccionario {clave: valor}.\n",
    "\n",
    "✅ Ejemplo de **kwargs**:"
   ]
  },
  {
   "cell_type": "code",
   "execution_count": 9,
   "metadata": {},
   "outputs": [
    {
     "name": "stdout",
     "output_type": "stream",
     "text": [
      "nombre: Aarón\n",
      "edad: 25\n",
      "ciudad: San José\n"
     ]
    }
   ],
   "source": [
    "def mostrar_info(**datos):\n",
    "    \"\"\"Muestra información con parámetros nombrados.\"\"\"\n",
    "    for clave, valor in datos.items():\n",
    "        print(f\"{clave}: {valor}\")\n",
    "\n",
    "mostrar_info(nombre=\"Aarón\", edad=25, ciudad=\"San José\")\n",
    "# Salida:\n",
    "# nombre: Aarón\n",
    "# edad: 25\n",
    "# ciudad: San José"
   ]
  },
  {
   "cell_type": "markdown",
   "metadata": {},
   "source": [
    "Aquí **datos almacena los argumentos como un diccionario, lo que permite acceder a cada par clave-valor."
   ]
  },
  {
   "cell_type": "markdown",
   "metadata": {},
   "source": [
    "*3.* Uso combinado de **args** y **kwargs**\n",
    "\n",
    "También se pueden usar juntos para recibir tanto argumentos posicionales como nombrados.\n",
    "\n",
    "✅ Ejemplo con **args** y **kwargs**:"
   ]
  },
  {
   "cell_type": "code",
   "execution_count": 10,
   "metadata": {},
   "outputs": [
    {
     "name": "stdout",
     "output_type": "stream",
     "text": [
      "Nombres: Aarón, Sequeira\n",
      "edad: 25\n",
      "ciudad: San José\n"
     ]
    }
   ],
   "source": [
    "def informacion_persona(*nombres, **detalles):\n",
    "    \"\"\"Muestra nombres y detalles de una persona.\"\"\"\n",
    "    print(\"Nombres:\", \", \".join(nombres))\n",
    "    for clave, valor in detalles.items():\n",
    "        print(f\"{clave}: {valor}\")\n",
    "\n",
    "informacion_persona(\"Aarón\", \"Sequeira\", edad=25, ciudad=\"San José\")\n",
    "# Salida:\n",
    "# Nombres: Aarón, Sequeira\n",
    "# edad: 25\n",
    "# ciudad: San José"
   ]
  },
  {
   "cell_type": "markdown",
   "metadata": {},
   "source": [
    "Aquí *nombres almacena los nombres en una tupla y **detalles almacena la información en un diccionario."
   ]
  },
  {
   "cell_type": "markdown",
   "metadata": {},
   "source": [
    "### 📌 Diferencias entre *args y **kwargs: \n",
    "  \n",
    "| Característica             | *args (Argumentos Posicionales) | **kwargs (Argumentos Nombrados) | \n",
    "|----------------------------|---------------------------------|---------------------------------| \n",
    "| **Tipo de datos**          | Tupla () | Diccionario {} | \n",
    "| **Uso**                    | Se usa para recibir múltiples valores sin nombre | Se usa para recibir múltiples valores con clave | \n",
    "| **Acceso a valores**       | Se accede por índice (args[0], args[1]) | Se accede por clave (kwargs['nombre']) |"
   ]
  },
  {
   "cell_type": "markdown",
   "metadata": {},
   "source": [
    "En resumen:\n",
    "\n",
    "    - *args se usa cuando se desea pasar una cantidad variable de argumentos sin nombres específicos.\n",
    "    - **kwargs se usa cuando se necesita recibir pares clave-valor con nombres dinámicos.\n",
    "    - Ambos pueden combinarse para escribir funciones más flexibles y reutilizables."
   ]
  },
  {
   "cell_type": "markdown",
   "metadata": {},
   "source": [
    "#### -- Funciones anónicas *(Lambda)*.\n",
    "\n",
    "Las funciones lambda en Python son funciones anónimas, es decir, funciones sin nombre que se definen en una sola línea. Se usan principalmente para operaciones sencillas y rápidas donde no se necesita una función completa con def.\n",
    "\n",
    "**📌 Características de lambda**:\n",
    "\n",
    "    - Se definen con la palabra clave lambda, seguida de los parámetros y una única expresión.\n",
    "    - No requieren return, ya que el resultado de la expresión se devuelve automáticamente.\n",
    "    - Son útiles para funciones cortas y simples, como filtros, mapeos y ordenaciones.\n",
    "    - No pueden contener múltiples expresiones o sentencias complejas.\n",
    "\n",
    "✅ Ejemplo básico de lambda:"
   ]
  },
  {
   "cell_type": "code",
   "execution_count": 11,
   "metadata": {},
   "outputs": [
    {
     "name": "stdout",
     "output_type": "stream",
     "text": [
      "8\n"
     ]
    }
   ],
   "source": [
    "# Función lambda que suma dos números\n",
    "suma = lambda a, b: a + b\n",
    "\n",
    "print(suma(3, 5))  # Salida: 8"
   ]
  },
  {
   "cell_type": "markdown",
   "metadata": {},
   "source": [
    "Aquí lambda a, b: a + b define una función anónima que recibe dos parámetros (a y b) y devuelve su suma."
   ]
  },
  {
   "cell_type": "markdown",
   "metadata": {},
   "source": [
    "✅ Uso de lambda con map(), filter() y sorted()\n",
    "\n",
    "Las funciones lambda son útiles en combinación con funciones como map(), filter() y sorted()."
   ]
  },
  {
   "cell_type": "markdown",
   "metadata": {},
   "source": [
    "1. lambda con map() (Aplicar una función a cada elemento de una lista)"
   ]
  },
  {
   "cell_type": "code",
   "execution_count": 12,
   "metadata": {},
   "outputs": [
    {
     "name": "stdout",
     "output_type": "stream",
     "text": [
      "[1, 4, 9, 16]\n"
     ]
    }
   ],
   "source": [
    "numeros = [1, 2, 3, 4]\n",
    "cuadrados = list(map(lambda x: x ** 2, numeros))\n",
    "\n",
    "print(cuadrados)  # Salida: [1, 4, 9, 16]"
   ]
  },
  {
   "cell_type": "markdown",
   "metadata": {},
   "source": [
    "🔹 map(lambda x: x ** 2, numeros) aplica la función lambda a cada elemento de la lista."
   ]
  },
  {
   "cell_type": "markdown",
   "metadata": {},
   "source": [
    "2. lambda con filter() (Filtrar elementos de una lista)"
   ]
  },
  {
   "cell_type": "code",
   "execution_count": 13,
   "metadata": {},
   "outputs": [
    {
     "name": "stdout",
     "output_type": "stream",
     "text": [
      "[2, 4, 6]\n"
     ]
    }
   ],
   "source": [
    "numeros = [1, 2, 3, 4, 5, 6]\n",
    "pares = list(filter(lambda x: x % 2 == 0, numeros))\n",
    "\n",
    "print(pares)  # Salida: [2, 4, 6]"
   ]
  },
  {
   "cell_type": "markdown",
   "metadata": {},
   "source": [
    "🔹 filter(lambda x: x % 2 == 0, numeros) selecciona solo los números pares."
   ]
  },
  {
   "cell_type": "markdown",
   "metadata": {},
   "source": [
    "3. lambda con sorted() (Ordenar por un criterio específico)"
   ]
  },
  {
   "cell_type": "code",
   "execution_count": 14,
   "metadata": {},
   "outputs": [
    {
     "name": "stdout",
     "output_type": "stream",
     "text": [
      "[('Juan', 20), ('Aarón', 25), ('María', 30)]\n"
     ]
    }
   ],
   "source": [
    "personas = [(\"Aarón\", 25), (\"María\", 30), (\"Juan\", 20)]\n",
    "ordenado_por_edad = sorted(personas, key=lambda x: x[1])\n",
    "\n",
    "print(ordenado_por_edad)\n",
    "# Salida: [('Juan', 20), ('Aarón', 25), ('María', 30)]"
   ]
  },
  {
   "cell_type": "markdown",
   "metadata": {},
   "source": [
    "🔹 sorted(personas, key=lambda x: x[1]) ordena la lista según la edad."
   ]
  },
  {
   "cell_type": "markdown",
   "metadata": {},
   "source": [
    "📌 Diferencia entre lambda y def:\n",
    "\n",
    "| Característica    |          Función lambda           | Función def | \n",
    "|-------------------|-----------------------------------|--------------| \n",
    "| **Definición**    | En una sola línea (lambda x: x+2) | En múltiples líneas (def suma(x): return x+2)            | \n",
    "| **Nombre**        | Anónima (sin nombre)              | Tiene un nombre definido                                 | \n",
    "| **Complejidad**   | Solo permite una expresión        | Puede contener múltiples sentencias                      |\n",
    "| **Retorno**       | Automático                        | Requiere return (excepto si la función no devuelve nada) | "
   ]
  },
  {
   "cell_type": "markdown",
   "metadata": {},
   "source": [
    "Por tanto, las funciones lambda son útiles para operaciones simples y rápidas, especialmente cuando se usan con map(), filter() y sorted(). Sin embargo, para funciones más complejas, es mejor usar def."
   ]
  },
  {
   "cell_type": "markdown",
   "metadata": {},
   "source": [
    "#### -- Funciones recursivas.\n",
    "\n",
    "Una función recursiva es aquella que se llama a sí misma dentro de su propia definición. Se utilizan para resolver problemas que pueden dividirse en subproblemas más pequeños del mismo tipo.\n",
    "\n",
    "📌 Características de las funciones recursivas\n",
    "\n",
    "    - Deben tener un caso base que detenga la recursión.\n",
    "    - Cada llamada reduce el problema, acercándolo al caso base.\n",
    "    - Se usan en problemas matemáticos y estructurales, como el cálculo de factoriales, la serie de Fibonacci y el recorrido de estructuras de datos como árboles."
   ]
  },
  {
   "cell_type": "markdown",
   "metadata": {},
   "source": [
    "✅ Ejemplo de función recursiva: Factorial\n",
    "\n",
    "El factorial de un número **n!** se define como:\n",
    "\n",
    "𝑛! = 𝑛 × (𝑛 − 1)!\n",
    "\n",
    "con el caso base 0! = 1."
   ]
  },
  {
   "cell_type": "code",
   "execution_count": 15,
   "metadata": {},
   "outputs": [
    {
     "name": "stdout",
     "output_type": "stream",
     "text": [
      "120\n"
     ]
    }
   ],
   "source": [
    "def factorial(n):\n",
    "    \"\"\"Devuelve el factorial de un número usando recursión.\"\"\"\n",
    "    if n == 0 or n == 1:  # Caso base\n",
    "        return 1\n",
    "    else:\n",
    "        return n * factorial(n - 1)  # Llamada recursiva\n",
    "\n",
    "print(factorial(5))  # Salida: 120"
   ]
  },
  {
   "cell_type": "markdown",
   "metadata": {},
   "source": [
    "🔹 Explicación:\n",
    "\n",
    "1. factorial(5) llama a factorial(4).\n",
    "2. factorial(4) llama a factorial(3), y así sucesivamente.\n",
    "3. Cuando n == 0 o n == 1, la función retorna 1 (caso base).\n",
    "4. Luego, las llamadas se resuelven en orden inverso multiplicando los valores."
   ]
  },
  {
   "cell_type": "markdown",
   "metadata": {},
   "source": [
    "✅ Ejemplo de función recursiva: Serie de Fibonacci\n",
    "\n",
    "La serie de Fibonacci se define como:\n",
    "\n",
    "𝐹(𝑛) = 𝐹(𝑛−1) + 𝐹(𝑛−2)\n",
    "\n",
    "con los casos base:\n",
    "\n",
    "𝐹(0) = 0, 𝐹(1) = 1"
   ]
  },
  {
   "cell_type": "code",
   "execution_count": 16,
   "metadata": {},
   "outputs": [
    {
     "name": "stdout",
     "output_type": "stream",
     "text": [
      "8\n"
     ]
    }
   ],
   "source": [
    "def fibonacci(n):\n",
    "    \"\"\"Devuelve el n-ésimo número de la serie de Fibonacci usando recursión.\"\"\"\n",
    "    if n == 0:\n",
    "        return 0\n",
    "    elif n == 1:\n",
    "        return 1\n",
    "    else:\n",
    "        return fibonacci(n - 1) + fibonacci(n - 2)\n",
    "\n",
    "print(fibonacci(6))  # Salida: 8"
   ]
  },
  {
   "cell_type": "markdown",
   "metadata": {},
   "source": [
    "🔹 Explicación:\n",
    "\n",
    "1. fibonacci(6) llama a fibonacci(5) y fibonacci(4).\n",
    "2. Esto sigue hasta llegar a fibonacci(1) y fibonacci(0), que son los casos base.\n",
    "3. Luego, los resultados se suman para obtener F(6) = 8."
   ]
  },
  {
   "cell_type": "markdown",
   "metadata": {},
   "source": [
    "📌 Ventajas y desventajas de la recursión:\n",
    "\n",
    "| Ventajas | Desventajas | \n",
    "|----------|-------------| \n",
    "| Código más claro y elegante para problemas recursivos | Puede consumir mucha memoria (pila de llamadas) | \n",
    "| Facilita el diseño de algoritmos para estructuras como árboles y grafos | Puede ser más lenta que una versión iterativa | \n",
    "| Divide el problema en subproblemas más pequeños | Si no hay un caso base adecuado, puede causar un bucle infinito |"
   ]
  },
  {
   "cell_type": "markdown",
   "metadata": {},
   "source": [
    "Por tanto, las funciones recursivas son una herramienta poderosa para resolver problemas de manera elegante, pero deben usarse con precaución para evitar problemas de eficiencia. Son ideales para problemas que se pueden descomponer en subproblemas más pequeños, como el cálculo de factoriales, la serie de Fibonacci y el recorrido de estructuras de datos como árboles y grafos."
   ]
  },
  {
   "cell_type": "markdown",
   "metadata": {},
   "source": [
    "#### -- Generadores *(yield)*.\n",
    "\n",
    "Los generadores son un tipo especial de función en Python que permite iterar sobre datos sin almacenarlos en memoria, lo que los hace eficientes en términos de rendimiento y uso de memoria.\n",
    "\n",
    "En lugar de usar return, los generadores utilizan la palabra clave yield, que permite pausar y reanudar la ejecución de la función cada vez que se solicita un nuevo valor.\n",
    "\n",
    "📌 Características de los generadores\n",
    "\n",
    "    - Utilizan yield en lugar de return para generar valores de manera perezosa (lazy evaluation).\n",
    "    - Ahorran memoria, ya que los valores no se almacenan en una lista, sino que se generan cuando se necesitan.\n",
    "    - Pueden ser iterados con for o next(), generando valores uno a uno.\n",
    "\n",
    "✅ Ejemplo básico de un generador"
   ]
  },
  {
   "cell_type": "code",
   "execution_count": 17,
   "metadata": {},
   "outputs": [
    {
     "name": "stdout",
     "output_type": "stream",
     "text": [
      "1\n",
      "2\n",
      "3\n",
      "4\n",
      "5\n"
     ]
    }
   ],
   "source": [
    "def contar_hasta(n):\n",
    "    \"\"\"Generador que cuenta desde 1 hasta n.\"\"\"\n",
    "    contador = 1\n",
    "    while contador <= n:\n",
    "        yield contador  # Pausa y devuelve el valor actual\n",
    "        contador += 1  # Incrementa el contador\n",
    "\n",
    "# Usando el generador\n",
    "for numero in contar_hasta(5):\n",
    "    print(numero)\n",
    "\n",
    "# Salida:\n",
    "# 1\n",
    "# 2\n",
    "# 3\n",
    "# 4\n",
    "# 5"
   ]
  },
  {
   "cell_type": "markdown",
   "metadata": {},
   "source": [
    "🔹 Explicación:\n",
    "\n",
    "1. La función contar_hasta(n) no devuelve todos los valores a la vez, sino que genera un número a la vez con yield.\n",
    "2. Cada vez que el for solicita un nuevo valor, la ejecución se reanuda desde el último yield.\n",
    "3. Esto ahorra memoria, ya que no se necesita crear una lista con todos los números."
   ]
  },
  {
   "cell_type": "markdown",
   "metadata": {},
   "source": [
    "✅ Uso de next() con generadores\n",
    "\n",
    "Podemos usar next() para obtener los valores uno por uno manualmente."
   ]
  },
  {
   "cell_type": "code",
   "execution_count": 18,
   "metadata": {},
   "outputs": [
    {
     "name": "stdout",
     "output_type": "stream",
     "text": [
      "1\n",
      "2\n",
      "3\n"
     ]
    }
   ],
   "source": [
    "generador = contar_hasta(3)\n",
    "print(next(generador))  # Salida: 1\n",
    "print(next(generador))  # Salida: 2\n",
    "print(next(generador))  # Salida: 3\n",
    "# print(next(generador))  # Generaría un error StopIteration"
   ]
  },
  {
   "cell_type": "markdown",
   "metadata": {},
   "source": [
    "🔹 Cada vez que llamamos a next(), el generador reanuda la ejecución desde el último yield."
   ]
  },
  {
   "cell_type": "markdown",
   "metadata": {},
   "source": [
    "✅ Ejemplo de generador infinito\n",
    "\n",
    "Un generador puede ser infinito si no tiene un caso base."
   ]
  },
  {
   "cell_type": "code",
   "execution_count": 19,
   "metadata": {},
   "outputs": [
    {
     "name": "stdout",
     "output_type": "stream",
     "text": [
      "0\n",
      "2\n",
      "4\n",
      "6\n",
      "8\n"
     ]
    }
   ],
   "source": [
    "def numeros_pares():\n",
    "    \"\"\"Generador infinito de números pares.\"\"\"\n",
    "    numero = 0\n",
    "    while True:\n",
    "        yield numero\n",
    "        numero += 2  # Siguiente número par\n",
    "\n",
    "# Generamos los primeros 5 números pares\n",
    "pares = numeros_pares()\n",
    "for _ in range(5):\n",
    "    print(next(pares))\n",
    "\n",
    "# Salida:\n",
    "# 0\n",
    "# 2\n",
    "# 4\n",
    "# 6\n",
    "# 8"
   ]
  },
  {
   "cell_type": "markdown",
   "metadata": {},
   "source": [
    "🔹 Este generador nunca se detiene, generando números pares indefinidamente."
   ]
  },
  {
   "cell_type": "markdown",
   "metadata": {},
   "source": [
    "✅ Comparación entre Generadores y Listas\n",
    "\n",
    "Si usáramos una lista para almacenar 1 millón de números, consumiría mucha memoria. Un generador optimiza esto.\n",
    "\n",
    "Ejemplo con lista (uso intensivo de memoria)"
   ]
  },
  {
   "cell_type": "code",
   "execution_count": 20,
   "metadata": {},
   "outputs": [
    {
     "name": "stdout",
     "output_type": "stream",
     "text": [
      "499999500000\n"
     ]
    }
   ],
   "source": [
    "numeros = [x for x in range(10**6)]  # Crea una lista de 1 millón de números\n",
    "print(sum(numeros))  # Suma todos los números"
   ]
  },
  {
   "cell_type": "markdown",
   "metadata": {},
   "source": [
    "🔹 Aquí la lista ocupa gran cantidad de RAM."
   ]
  },
  {
   "cell_type": "markdown",
   "metadata": {},
   "source": [
    "Ejemplo con generador (memoria eficiente)"
   ]
  },
  {
   "cell_type": "code",
   "execution_count": 21,
   "metadata": {},
   "outputs": [
    {
     "name": "stdout",
     "output_type": "stream",
     "text": [
      "499999500000\n"
     ]
    }
   ],
   "source": [
    "numeros = (x for x in range(10**6))  # Generador en lugar de lista\n",
    "print(sum(numeros))  # Suma todos los números"
   ]
  },
  {
   "cell_type": "markdown",
   "metadata": {},
   "source": [
    "🔹 Este generador no almacena los valores en memoria, los genera bajo demanda."
   ]
  },
  {
   "cell_type": "markdown",
   "metadata": {},
   "source": [
    "📌 Diferencias clave entre return y yield\n",
    "\n",
    "| Característica    | return (Función normal) | yield (Generador) | \n",
    "|-------------------|-------------------------|-------------------| \n",
    "| **Devuelve**      | Un único valor)                          | Múltiples valores uno a uno | \n",
    "| **Estado**        | Se ejecuta una vez y termina             | Se pausa y reanuda | \n",
    "| **Uso de memoria**| Puede consumir más memoria               | Optimiza la memoria |\n",
    "| **Iteración**     | \tNo puede ser usado directamente en for | Se puede iterar con for o next() | "
   ]
  },
  {
   "cell_type": "markdown",
   "metadata": {},
   "source": [
    "🎯 En conclusión:\n",
    "\n",
    "    - Los generadores (yield) son ideales para manejar grandes volúmenes de datos sin consumir mucha memoria.\n",
    "    - Son más eficientes que las listas cuando los datos se generan sobre la marcha.\n",
    "    - Se pueden usar con for o next() para iteración perezosa.\n",
    "    - Son útiles en casos como la lectura de archivos, la generación de secuencias infinitas y la optimización de memoria en cálculos masivos.\n",
    "\n",
    "👉 ¿Cuándo usar generadores?\n",
    "\n",
    "Cuando trabajes con grandes volúmenes de datos, streams o cálculos bajo demanda, en lugar de cargar todo en memoria. 🚀"
   ]
  },
  {
   "cell_type": "markdown",
   "metadata": {},
   "source": [
    "#### -- Closures y decoradores.\n",
    "\n",
    "Los Closures y Decoradores son conceptos avanzados en Python que permiten la creación de funciones más dinámicas y reutilizables."
   ]
  },
  {
   "cell_type": "markdown",
   "metadata": {},
   "source": [
    "1️⃣ Closures en Python\n",
    "\n",
    "Un closure es una función definida dentro de otra función que recuerda las variables del ámbito externo, incluso si la función externa ha terminado su ejecución.\n",
    "\n",
    "📌 Características de un Closure:\n",
    "\n",
    "    - Una función anidada (función dentro de otra función).\n",
    "    - Captura variables del entorno exterior aunque la función externa haya finalizado.\n",
    "    - Útil para crear funciones especializadas a partir de una función base.\n",
    "\n",
    "✅ Ejemplo de Closure"
   ]
  },
  {
   "cell_type": "code",
   "execution_count": 22,
   "metadata": {},
   "outputs": [
    {
     "name": "stdout",
     "output_type": "stream",
     "text": [
      "15\n",
      "50\n"
     ]
    }
   ],
   "source": [
    "def crear_multiplicador(factor):\n",
    "    \"\"\"Devuelve una función que multiplica por un factor dado.\"\"\"\n",
    "    def multiplicador(numero):\n",
    "        return numero * factor  # Recuerda el valor de \"factor\"\n",
    "    return multiplicador  # Retorna la función sin ejecutarla\n",
    "\n",
    "# Crear una función que multiplica por 3\n",
    "\n",
    "multiplicar_por_3 = crear_multiplicador(3)\n",
    "print(multiplicar_por_3(5))  # Salida: 15\n",
    "\n",
    "# Crear una función que multiplica por 10\n",
    "\n",
    "multiplicar_por_10 = crear_multiplicador(10)\n",
    "print(multiplicar_por_10(5))  # Salida: 50"
   ]
  },
  {
   "cell_type": "markdown",
   "metadata": {},
   "source": [
    "🔹 Explicación:\n",
    "\n",
    "1. crear_multiplicador(factor) define y devuelve la función multiplicador().\n",
    "2. multiplicador(numero) recuerda el valor de factor, incluso después de que crear_multiplicador() ha finalizado.\n",
    "3. Se crean funciones especializadas (multiplicar_por_3, multiplicar_por_10) sin necesidad de repetir código."
   ]
  },
  {
   "cell_type": "markdown",
   "metadata": {},
   "source": [
    "2️⃣ Decoradores en Python\n",
    "\n",
    "Los decoradores son una forma elegante y poderosa de modificar el comportamiento de funciones sin cambiar su código original.\n",
    "\n",
    "📌 Características de un Decorador:\n",
    "\n",
    "    - Es una función que recibe otra función como argumento y devuelve una nueva función con funcionalidad extra.\n",
    "    - Se utiliza el símbolo @decorador para aplicarlo a funciones.\n",
    "    - Se usan para logging, autenticación, medición de tiempo, caché, validaciones, etc.\n",
    "\n",
    "✅ Ejemplo básico de Decorador"
   ]
  },
  {
   "cell_type": "code",
   "execution_count": 23,
   "metadata": {},
   "outputs": [
    {
     "name": "stdout",
     "output_type": "stream",
     "text": [
      "¡Hola! Antes de ejecutar la función.\n",
      "Este es el mensaje original.\n",
      "¡Adiós! Después de ejecutar la función.\n"
     ]
    }
   ],
   "source": [
    "def decorador_saludo(funcion):\n",
    "    \"\"\"Decorador que modifica la función para imprimir un mensaje antes y después.\"\"\"\n",
    "    def envoltura():\n",
    "        print(\"¡Hola! Antes de ejecutar la función.\")\n",
    "        funcion()  # Llamada a la función original\n",
    "        print(\"¡Adiós! Después de ejecutar la función.\")\n",
    "    return envoltura  # Devuelve la función modificada\n",
    "\n",
    "@decorador_saludo  # Aplicamos el decorador\n",
    "def mostrar_mensaje():\n",
    "    print(\"Este es el mensaje original.\")\n",
    "\n",
    "# Llamamos a la función decorada\n",
    "\n",
    "mostrar_mensaje()"
   ]
  },
  {
   "cell_type": "markdown",
   "metadata": {},
   "source": [
    "🔹 Explicación:\n",
    "\n",
    "1. decorador_saludo(funcion) recibe la función mostrar_mensaje().\n",
    "2. La función envoltura() añade un mensaje antes y después de llamar a la función original.\n",
    "3. @decorador_saludo modifica mostrar_mensaje() sin cambiar su código."
   ]
  },
  {
   "cell_type": "markdown",
   "metadata": {},
   "source": [
    "✅ Ejemplo de Decorador con Argumentos\n",
    "\n",
    "Si el decorador necesita aceptar parámetros, podemos usar *args y **kwargs."
   ]
  },
  {
   "cell_type": "code",
   "execution_count": 24,
   "metadata": {},
   "outputs": [
    {
     "name": "stdout",
     "output_type": "stream",
     "text": [
      "HOLA, AARÓN!\n"
     ]
    }
   ],
   "source": [
    "def decorador_mayusculas(funcion):\n",
    "    \"\"\"Convierte el resultado de una función a mayúsculas.\"\"\"\n",
    "    def envoltura(*args, **kwargs):\n",
    "        resultado = funcion(*args, **kwargs)\n",
    "        return resultado.upper()  # Transforma el texto a mayúsculas\n",
    "    return envoltura\n",
    "\n",
    "@decorador_mayusculas\n",
    "def saludo(nombre):\n",
    "    return f\"Hola, {nombre}!\"\n",
    "\n",
    "print(saludo(\"Aarón\"))  # Salida: \"HOLA, AARÓN!\""
   ]
  },
  {
   "cell_type": "markdown",
   "metadata": {},
   "source": [
    "🔹 Aquí el decorador transforma el resultado de la función saludo(nombre) a mayúsculas sin modificar su implementación original."
   ]
  },
  {
   "cell_type": "markdown",
   "metadata": {},
   "source": [
    "✅ Ejemplo: Medir el Tiempo de Ejecución de una Función\n",
    "\n",
    "Un decorador puede medir el tiempo de ejecución de una función."
   ]
  },
  {
   "cell_type": "code",
   "execution_count": 25,
   "metadata": {},
   "outputs": [
    {
     "name": "stdout",
     "output_type": "stream",
     "text": [
      "Operación completada.\n",
      "Tiempo de ejecución: 2.0012 segundos\n"
     ]
    }
   ],
   "source": [
    "import time\n",
    "\n",
    "def medir_tiempo(funcion):\n",
    "    \"\"\"Decorador que mide el tiempo de ejecución de una función.\"\"\"\n",
    "    def envoltura(*args, **kwargs):\n",
    "        inicio = time.time()\n",
    "        resultado = funcion(*args, **kwargs)\n",
    "        fin = time.time()\n",
    "        print(f\"Tiempo de ejecución: {fin - inicio:.4f} segundos\")\n",
    "        return resultado\n",
    "    return envoltura\n",
    "\n",
    "@medir_tiempo\n",
    "def operacion_lenta():\n",
    "    time.sleep(2)  # Simula un proceso lento\n",
    "    print(\"Operación completada.\")\n",
    "\n",
    "operacion_lenta()"
   ]
  },
  {
   "cell_type": "markdown",
   "metadata": {},
   "source": [
    "🔹 Este decorador mide cuánto tarda una función en ejecutarse."
   ]
  },
  {
   "cell_type": "markdown",
   "metadata": {},
   "source": [
    "📌 Diferencias clave entre Closures y Decoradores\n",
    "\n",
    "| Característica    | Closures | Decoradores | \n",
    "|-------------------|----------|-------------| \n",
    "| **Definición**    | Función dentro de otra que recuerda variables externas | Función que modifica el comportamiento de otra función | \n",
    "| **Retomo**        | Devuelve una función que recuerda el contexto          | Devuelve una función con funcionalidad adicional | \n",
    "| **Uso pricipal**  | Crear funciones personalizadas y dinámicas             | Modificar funciones sin cambiar su código |\n",
    "| **Ejemplo común** | Generar funciones matemáticas (multiplicadores)        | Logging, validaciones, medición de tiempo | "
   ]
  },
  {
   "cell_type": "markdown",
   "metadata": {},
   "source": [
    "🎯 Por tanto:\n",
    "\n",
    "    - Closures son útiles para crear funciones dinámicas que recuerdan valores del ámbito exterior.\n",
    "    - Decoradores permiten modificar el comportamiento de funciones sin alterar su código original.\n",
    "    - Ambos son herramientas poderosas para escribir código más modular, reutilizable y elegante.\n",
    "\n",
    "🚀 Los decoradores se usan frecuentemente en frameworks como Flask y Django para autenticación, logging y caché."
   ]
  },
  {
   "cell_type": "markdown",
   "metadata": {},
   "source": [
    "### ✅ Aplicación de Funciones en Problemas Reales."
   ]
  },
  {
   "cell_type": "markdown",
   "metadata": {},
   "source": [
    "#### -- Aplicación en estructuras de datos (listas, diccionarios, tuplas)."
   ]
  },
  {
   "cell_type": "markdown",
   "metadata": {},
   "source": [
    "#### -- Uso de funciones en procesamiento de datos."
   ]
  },
  {
   "cell_type": "markdown",
   "metadata": {},
   "source": [
    "#### -- Optimización del rendimiento con funciones."
   ]
  },
  {
   "cell_type": "markdown",
   "metadata": {},
   "source": [
    "#### -- Comparación entre funciones definidas por el usuario y funciones integradas (ejemplo: *len()*, *sum()*, entre otras)"
   ]
  },
  {
   "cell_type": "markdown",
   "metadata": {},
   "source": [
    "## 🟢 Sección 3. Conclusiones de la investigación"
   ]
  },
  {
   "cell_type": "markdown",
   "metadata": {},
   "source": [
    "#### -- Principales hallazgos."
   ]
  },
  {
   "cell_type": "markdown",
   "metadata": {},
   "source": [
    "#### -- Comentario/Opición personal sobre el uso de las funciones."
   ]
  },
  {
   "cell_type": "markdown",
   "metadata": {},
   "source": [
    "#### -- Referencias empleadas."
   ]
  }
 ],
 "metadata": {
  "kernelspec": {
   "display_name": "Python 3",
   "language": "python",
   "name": "python3"
  },
  "language_info": {
   "codemirror_mode": {
    "name": "ipython",
    "version": 3
   },
   "file_extension": ".py",
   "mimetype": "text/x-python",
   "name": "python",
   "nbconvert_exporter": "python",
   "pygments_lexer": "ipython3",
   "version": "3.13.1"
  }
 },
 "nbformat": 4,
 "nbformat_minor": 2
}
