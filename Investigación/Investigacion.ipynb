{
 "cells": [
  {
   "cell_type": "markdown",
   "metadata": {},
   "source": [
    "# 📌 Investigación: Funciones en Python en el Desarrollo de Software\n",
    "## Autor: Héctor Luis Guerrero Quirós\n",
    "### Fecha: 13-02-2025\n",
    "\n",
    "---\n",
    "\n",
    "## **Exploración Teórica y Aplicación Práctica de las Funciones en Python**\n",
    "\n",
    "## 1. Planteamiento del Problema\n",
    "\n",
    "Las funciones en Python son una herramienta esencial en la programación estructurada y funcional. Su correcto uso permite mejorar la reutilización del código, modularización y escalabilidad de los programas. Sin embargo, muchos estudiantes desconocen las mejores prácticas en su implementación y el impacto en la eficiencia del código.\n",
    "  \n",
    "## 2. Pregunta de Investigación\n",
    "\n",
    "¿Cómo influyen las funciones en Python en la modularización y eficiencia de los programas en desarrollo de software? \n",
    "\n",
    "--- "
   ]
  },
  {
   "cell_type": "markdown",
   "metadata": {},
   "source": [
    "## 🟢 Sección 1. Introducción\n"
   ]
  },
  {
   "cell_type": "markdown",
   "metadata": {},
   "source": [
    "### ✅ Breve introducción de la investigación: \n",
    "\n",
    "En la programación, las funciones son bloques de código reutilizables que permiten organizar, estructurar y mejorar la eficiencia de un programa. En Python, las funciones facilitan la modularidad del código al dividir tareas complejas en fragmentos más manejables y reutilizables.\n",
    "\n",
    "Una función en Python se define utilizando la palabra clave *def*, seguida del nombre de la función y paréntesis que pueden incluir parámetros. Dentro del cuerpo de la función, se escribe el código que ejecutará cuando sea llamada. Se puede usar la palabra clave *return* para devolver un valor específico. Por ejemplo:"
   ]
  },
  {
   "cell_type": "code",
   "execution_count": null,
   "metadata": {},
   "outputs": [
    {
     "name": "stdout",
     "output_type": "stream",
     "text": [
      "El resultado de la suma es: 8\n"
     ]
    }
   ],
   "source": [
    "def sumar(x, y):\n",
    "    return x + y\n",
    "\n",
    "resultado = sumar(5, 3)\n",
    "\n",
    "print(f'El resultado de la suma es: {resultado}')"
   ]
  },
  {
   "cell_type": "markdown",
   "metadata": {},
   "source": [
    "El uso de funciones ofrece múltiples beneficios, como la reducción de código repetitivo, la mejora en la legibilidad y mantenimiento del programa, y la facilidad para depurar errores. Además, Python incluye funciones predefinidas, como *print()*, *len()*, y *max()*, así como la posibilidad de crear funciones anónimas mediante lambda.\n",
    "\n",
    "Por tanto, las funciones en Python son una herramienta fundamental para la escritura de código limpio, estructurado y eficiente, permitiendo a los programadores optimizar sus soluciones y mejorar la escalabilidad de sus aplicaciones."
   ]
  },
  {
   "cell_type": "markdown",
   "metadata": {},
   "source": [
    "### ✅ Importancia del uso de funciones en Python:"
   ]
  },
  {
   "cell_type": "markdown",
   "metadata": {},
   "source": [
    "El uso de funciones en Python es crucial en diversos campos, ya que permite la automatización de tareas repetitivas, el análisis de grandes volúmenes de datos y la implementación de modelos complejos de manera estructurada. Algunas aplicaciones:"
   ]
  },
  {
   "cell_type": "markdown",
   "metadata": {},
   "source": [
    "**Finanzas:** En el análisis financiero, las funciones permiten calcular indicadores como el valor presente neto (VPN), la tasa interna de retorno (TIR) y la volatilidad de activos."
   ]
  },
  {
   "cell_type": "code",
   "execution_count": 5,
   "metadata": {},
   "outputs": [
    {
     "name": "stdout",
     "output_type": "stream",
     "text": [
      "219.47131082213673\n"
     ]
    }
   ],
   "source": [
    "def calcular_vpn(tasa_descuento, flujos):\n",
    "    return sum(flujo / (1 + tasa_descuento) ** i for i, flujo in enumerate(flujos))\n",
    "\n",
    "flujos = [-1000, 200, 300, 400, 500]\n",
    "\n",
    "print(calcular_vpn(0.05, flujos))"
   ]
  },
  {
   "cell_type": "markdown",
   "metadata": {},
   "source": [
    "**Economía:** En la modelización económica, las funciones facilitan el cálculo de indicadores macroeconómicos, como el PIB per cápita o la elasticidad de la demanda."
   ]
  },
  {
   "cell_type": "code",
   "execution_count": 6,
   "metadata": {},
   "outputs": [
    {
     "name": "stdout",
     "output_type": "stream",
     "text": [
      "4000.0\n"
     ]
    }
   ],
   "source": [
    "def pib_per_capita(pib, poblacion):\n",
    "    return pib / poblacion\n",
    "\n",
    "print(pib_per_capita(2000000000, 500000))  # PIB per cápita"
   ]
  },
  {
   "cell_type": "markdown",
   "metadata": {},
   "source": [
    "**Análisis de Datos:** En la ciencia de datos, las funciones permiten limpiar, transformar y analizar grandes conjuntos de datos de manera eficiente."
   ]
  },
  {
   "cell_type": "code",
   "execution_count": 2,
   "metadata": {},
   "outputs": [
    {
     "name": "stdout",
     "output_type": "stream",
     "text": [
      "200.0\n"
     ]
    }
   ],
   "source": [
    "import pandas as pd\n",
    "\n",
    "def calcular_media_columna(df, columna):\n",
    "    return df[columna].mean()\n",
    "\n",
    "datos = pd.DataFrame({'Ventas': [100, 200, 150, 300, 250]})\n",
    "print(calcular_media_columna(datos, 'Ventas'))  # Media de ventas"
   ]
  },
  {
   "cell_type": "markdown",
   "metadata": {},
   "source": [
    "## 🟢 Sección 2. Desarrollo de la investigación\n",
    "\n",
    "Investigar y documentar los siguientes temas explicándolos y proporcionando ejemplos en Python.\n",
    "  \n",
    "### ✅ Definición y Próposito de las Funciones en Python.\n",
    "\n",
    "#### -- ¿Qué son las funciones?\n",
    "\n",
    "#### -- Beneficios de modularizar código con funciones.\n",
    "\n",
    "#### -- Importancia de la reutilización del código.\n",
    "\n",
    "#### -- Ejemplo de algunas funciones en Python.\n"
   ]
  },
  {
   "cell_type": "code",
   "execution_count": null,
   "metadata": {},
   "outputs": [],
   "source": [
    "### Ejemplo 1:"
   ]
  },
  {
   "cell_type": "markdown",
   "metadata": {},
   "source": [
    "### ✅ Tipo de Funciones en Python."
   ]
  },
  {
   "cell_type": "markdown",
   "metadata": {},
   "source": [
    "#### -- Funciones con y sin retorno."
   ]
  },
  {
   "cell_type": "markdown",
   "metadata": {},
   "source": [
    "#### -- Funciones con parámetros y valores predeterminados."
   ]
  },
  {
   "cell_type": "markdown",
   "metadata": {},
   "source": [
    "#### -- Uso de *args* y *kwargs*."
   ]
  },
  {
   "cell_type": "markdown",
   "metadata": {},
   "source": [
    "#### -- Funciones anónicas *(Lambda)*."
   ]
  },
  {
   "cell_type": "markdown",
   "metadata": {},
   "source": [
    "#### -- Funciones recursivas."
   ]
  },
  {
   "cell_type": "markdown",
   "metadata": {},
   "source": [
    "#### -- Generadores *(yield)*."
   ]
  },
  {
   "cell_type": "markdown",
   "metadata": {},
   "source": [
    "#### -- Closures y decoradores."
   ]
  },
  {
   "cell_type": "markdown",
   "metadata": {},
   "source": [
    "### ✅ Aplicación de Funciones en Problemas Reales."
   ]
  },
  {
   "cell_type": "markdown",
   "metadata": {},
   "source": [
    "#### -- Aplicación en estructuras de datos (listas, diccionarios, tuplas)."
   ]
  },
  {
   "cell_type": "markdown",
   "metadata": {},
   "source": [
    "#### -- Uso de funciones en procesamiento de datos."
   ]
  },
  {
   "cell_type": "markdown",
   "metadata": {},
   "source": [
    "#### -- Optimización del rendimiento con funciones."
   ]
  },
  {
   "cell_type": "markdown",
   "metadata": {},
   "source": [
    "#### -- Comparación entre funciones definidas por el usuario y funciones integradas (ejemplo: *len()*, *sum()*, entre otras)"
   ]
  },
  {
   "cell_type": "markdown",
   "metadata": {},
   "source": [
    "## 🟢 Sección 3. Conclusiones de la investigación"
   ]
  },
  {
   "cell_type": "markdown",
   "metadata": {},
   "source": [
    "#### -- Principales hallazgos."
   ]
  },
  {
   "cell_type": "markdown",
   "metadata": {},
   "source": [
    "#### -- Comentario/Opición personal sobre el uso de las funciones."
   ]
  },
  {
   "cell_type": "markdown",
   "metadata": {},
   "source": [
    "#### -- Referencias empleadas."
   ]
  }
 ],
 "metadata": {
  "kernelspec": {
   "display_name": "Python 3",
   "language": "python",
   "name": "python3"
  },
  "language_info": {
   "codemirror_mode": {
    "name": "ipython",
    "version": 3
   },
   "file_extension": ".py",
   "mimetype": "text/x-python",
   "name": "python",
   "nbconvert_exporter": "python",
   "pygments_lexer": "ipython3",
   "version": "3.13.1"
  }
 },
 "nbformat": 4,
 "nbformat_minor": 2
}
