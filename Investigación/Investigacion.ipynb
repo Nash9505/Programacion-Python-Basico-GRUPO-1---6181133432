{
 "cells": [
  {
   "cell_type": "markdown",
   "metadata": {},
   "source": [
    "# 📌 Investigación: Funciones en Python en el Desarrollo de Software\n",
    "## Autor: Héctor Luis Guerrero Quirós\n",
    "### Fecha: 13-02-2025\n",
    "\n",
    "---\n",
    "\n",
    "## **Exploración Teórica y Aplicación Práctica de las Funciones en Python**\n",
    "\n",
    "## 1. Planteamiento del Problema\n",
    "\n",
    "Las funciones en Python son una herramienta esencial en la programación estructurada y funcional. Su correcto uso permite mejorar la reutilización del código, modularización y escalabilidad de los programas. Sin embargo, muchos estudiantes desconocen las mejores prácticas en su implementación y el impacto en la eficiencia del código.\n",
    "  \n",
    "## 2. Pregunta de Investigación\n",
    "\n",
    "¿Cómo influyen las funciones en Python en la modularización y eficiencia de los programas en desarrollo de software? \n",
    "\n",
    "--- "
   ]
  },
  {
   "cell_type": "markdown",
   "metadata": {},
   "source": [
    "## 🟢 Sección 1. Introducción\n"
   ]
  },
  {
   "cell_type": "markdown",
   "metadata": {},
   "source": [
    "### ✅ Breve introducción de la investigación: \n",
    "\n",
    "En la programación, las funciones son bloques de código reutilizables que permiten organizar, estructurar y mejorar la eficiencia de un programa. En Python, las funciones facilitan la modularidad del código al dividir tareas complejas en fragmentos más manejables y reutilizables.\n",
    "\n",
    "Una función en Python se define utilizando la palabra clave *def*, seguida del nombre de la función y paréntesis que pueden incluir parámetros. Dentro del cuerpo de la función, se escribe el código que ejecutará cuando sea llamada. Se puede usar la palabra clave *return* para devolver un valor específico. Por ejemplo:"
   ]
  },
  {
   "cell_type": "code",
   "execution_count": null,
   "metadata": {},
   "outputs": [
    {
     "name": "stdout",
     "output_type": "stream",
     "text": [
      "El resultado de la suma es: 8\n"
     ]
    }
   ],
   "source": [
    "def sumar(x, y):\n",
    "    return x + y\n",
    "\n",
    "resultado = sumar(5, 3)\n",
    "\n",
    "print(f'El resultado de la suma es: {resultado}')"
   ]
  },
  {
   "cell_type": "markdown",
   "metadata": {},
   "source": [
    "El uso de funciones ofrece múltiples beneficios, como la reducción de código repetitivo, la mejora en la legibilidad y mantenimiento del programa, y la facilidad para depurar errores. Además, Python incluye funciones predefinidas, como *print()*, *len()*, y *max()*, así como la posibilidad de crear funciones anónimas mediante lambda.\n",
    "\n",
    "Por tanto, las funciones en Python son una herramienta fundamental para la escritura de código limpio, estructurado y eficiente, permitiendo a los programadores optimizar sus soluciones y mejorar la escalabilidad de sus aplicaciones."
   ]
  },
  {
   "cell_type": "markdown",
   "metadata": {},
   "source": [
    "### ✅ Importancia del uso de funciones en Python:"
   ]
  },
  {
   "cell_type": "markdown",
   "metadata": {},
   "source": [
    "El uso de funciones en Python es crucial en diversos campos, ya que permite la automatización de tareas repetitivas, el análisis de grandes volúmenes de datos y la implementación de modelos complejos de manera estructurada. Algunas aplicaciones:"
   ]
  },
  {
   "cell_type": "markdown",
   "metadata": {},
   "source": [
    "**Finanzas:** En el análisis financiero, las funciones permiten calcular indicadores como el valor presente neto (VPN), la tasa interna de retorno (TIR) y la volatilidad de activos."
   ]
  },
  {
   "cell_type": "code",
   "execution_count": 5,
   "metadata": {},
   "outputs": [
    {
     "name": "stdout",
     "output_type": "stream",
     "text": [
      "219.47131082213673\n"
     ]
    }
   ],
   "source": [
    "def calcular_vpn(tasa_descuento, flujos):\n",
    "    return sum(flujo / (1 + tasa_descuento) ** i for i, flujo in enumerate(flujos))\n",
    "\n",
    "flujos = [-1000, 200, 300, 400, 500]\n",
    "\n",
    "print(calcular_vpn(0.05, flujos))"
   ]
  },
  {
   "cell_type": "markdown",
   "metadata": {},
   "source": [
    "**Economía:** En la modelización económica, las funciones facilitan el cálculo de indicadores macroeconómicos, como el PIB per cápita o la elasticidad de la demanda."
   ]
  },
  {
   "cell_type": "code",
   "execution_count": 6,
   "metadata": {},
   "outputs": [
    {
     "name": "stdout",
     "output_type": "stream",
     "text": [
      "4000.0\n"
     ]
    }
   ],
   "source": [
    "def pib_per_capita(pib, poblacion):\n",
    "    return pib / poblacion\n",
    "\n",
    "print(pib_per_capita(2000000000, 500000))  # PIB per cápita"
   ]
  },
  {
   "cell_type": "markdown",
   "metadata": {},
   "source": [
    "**Análisis de Datos:** En la ciencia de datos, las funciones permiten limpiar, transformar y analizar grandes conjuntos de datos de manera eficiente."
   ]
  },
  {
   "cell_type": "code",
   "execution_count": 2,
   "metadata": {},
   "outputs": [
    {
     "name": "stdout",
     "output_type": "stream",
     "text": [
      "200.0\n"
     ]
    }
   ],
   "source": [
    "import pandas as pd\n",
    "\n",
    "def calcular_media_columna(df, columna):\n",
    "    return df[columna].mean()\n",
    "\n",
    "datos = pd.DataFrame({'Ventas': [100, 200, 150, 300, 250]})\n",
    "print(calcular_media_columna(datos, 'Ventas'))  # Media de ventas"
   ]
  },
  {
   "cell_type": "markdown",
   "metadata": {},
   "source": [
    "## 🟢 Sección 2. Desarrollo de la investigación\n",
    "\n",
    "Investigar y documentar los siguientes temas explicándolos y proporcionando ejemplos en Python.\n",
    "  \n",
    "### ✅ Definición y Próposito de las Funciones en Python.\n"
   ]
  },
  {
   "cell_type": "markdown",
   "metadata": {},
   "source": [
    "#### -- ¿Qué son las funciones?\n",
    "\n",
    "Como se menciono al inicio del presente notebook, una función en Python es un bloque de código reutilizable que encapsula una secuencia de instrucciones para realizar una tarea específica. Se define utilizando la palabra clave *def*, seguida del nombre de la función, paréntesis que pueden contener parámetros de entrada y un cuerpo de instrucciones indentado. Las funciones pueden retornar valores utilizando la palabra clave *return*. Este mecanismo fomenta la modularidad y la reutilización del código, mejorando la legibilidad y mantenimiento de los programas.\n",
    "\n",
    "Desde una perspectiva computacional, las funciones permiten la abstracción y la descomposición de problemas en partes más manejables, lo que es fundamental en la programación estructurada y orientada a objetos."
   ]
  },
  {
   "cell_type": "markdown",
   "metadata": {},
   "source": [
    "#### -- Beneficios de modularizar código con funciones.\n",
    "\n",
    "Modularizar código con funciones en Python ofrece varios beneficios clave desde el punto de vista académico y práctico. A continuación, se presentan los principales:\n",
    "\n",
    "##### **1)** Reutilización del código\n",
    "        - Permite evitar la repetición de código al encapsular lógica reutilizable dentro de funciones.\n",
    "        - Facilita la implementación de funcionalidades en múltiples partes de un programa sin necesidad de reescribir código.\n",
    "\n",
    "##### **2)** Mantenimiento y escalabilidad\n",
    "        - Los cambios en el código son más sencillos de gestionar, ya que se pueden realizar modificaciones en una función sin afectar otras partes del programa.\n",
    "        - Un sistema modular facilita la ampliación del código sin necesidad de modificar grandes secciones.\n",
    "\n",
    "##### **3)** Legibilidad y organización\n",
    "        - El uso de funciones mejora la claridad del código, ya que cada función realiza una tarea específica y bien definida.\n",
    "        - Un código modular es más comprensible, lo que reduce la complejidad y facilita su revisión por parte de otros desarrolladores.\n",
    "\n",
    "##### **4)** Depuración y pruebas más sencillas\n",
    "        - Es más fácil detectar errores en funciones específicas que en un bloque de código monolítico.\n",
    "        - Se pueden escribir pruebas unitarias para cada función, permitiendo validar su correcto funcionamiento de manera independiente.\n",
    "\n",
    "##### **5)** Abstracción y encapsulamiento\n",
    "        - Permite ocultar la complejidad de una tarea al usuario de la función, quien solo necesita conocer su nombre, parámetros y resultado esperado.\n",
    "        - Favorece la separación de preocupaciones dentro de un programa, lo que mejora la estructura y el diseño del código.\n",
    "\n",
    "##### **6)** Mejora el desempeño y la eficiencia\n",
    "        - Un código bien modularizado optimiza la ejecución, ya que se evitan cálculos redundantes y se pueden reutilizar resultados previos.\n",
    "        - Al combinar funciones con estructuras como caché o memoización, se pueden mejorar los tiempos de procesamiento.    \n",
    "\n",
    "A continuación, se procede a presentar un ejemplo práctico de modularización:   "
   ]
  },
  {
   "cell_type": "code",
   "execution_count": null,
   "metadata": {},
   "outputs": [
    {
     "name": "stdout",
     "output_type": "stream",
     "text": [
      "78.53999999999999 314.15999999999997\n"
     ]
    }
   ],
   "source": [
    "# Cálculo del área de un círculo (sin modularización)\n",
    "\n",
    "radio1 = 5\n",
    "area1 = 3.1416 * (radio1 ** 2)\n",
    "\n",
    "radio2 = 10\n",
    "area2 = 3.1416 * (radio2 ** 2)\n",
    "\n",
    "print(area1, area2)\n",
    "\n",
    "# Sin funciones (código repetitivo y poco eficiente):"
   ]
  },
  {
   "cell_type": "code",
   "execution_count": 2,
   "metadata": {},
   "outputs": [
    {
     "name": "stdout",
     "output_type": "stream",
     "text": [
      "78.53999999999999\n",
      "314.15999999999997\n"
     ]
    }
   ],
   "source": [
    "def calcular_area_circulo(radio):\n",
    "    \"\"\"Devuelve el área de un círculo dado su radio.\"\"\"\n",
    "    return 3.1416 * (radio ** 2)\n",
    "\n",
    "print(calcular_area_circulo(5))  # Salida: 78.54\n",
    "print(calcular_area_circulo(10)) # Salida: 314.16\n",
    "\n",
    "# Con funciones (código modular, reutilizable y claro)"
   ]
  },
  {
   "cell_type": "markdown",
   "metadata": {},
   "source": [
    "El ejemplo anterior, muestra que este enfoque modulariza el cálculo del área y permite reutilizar la función sin necesidad de reescribir la fórmula.\n",
    "\n",
    "Por tanto, modularizar código con funciones en Python mejora la reutilización, organización, mantenimiento, legibilidad y eficiencia del código, haciendo que los programas sean más escalables y fáciles de depurar."
   ]
  },
  {
   "cell_type": "markdown",
   "metadata": {},
   "source": [
    "#### -- Importancia de la reutilización del código.\n",
    "\n",
    "La reutilización del código es un principio fundamental en la programación y el desarrollo de software, ya que permite aprovechar fragmentos de código ya escritos para resolver problemas similares en diferentes contextos. Este enfoque tiene varias ventajas clave:"
   ]
  },
  {
   "cell_type": "markdown",
   "metadata": {},
   "source": [
    "##### 1. Ahorro de tiempo y esfuerzo\n",
    "\n",
    "        - Al reutilizar funciones o módulos previamente desarrollados, se evita escribir código desde cero.\n",
    "        - Permite a los programadores centrarse en la lógica de negocio en lugar de reescribir soluciones repetitivas.\n",
    "\n",
    "**📌 Ejemplo:** En un proyecto de análisis de datos, si ya se tiene una función para calcular la media aritmética de una lista, no es necesario implementarla cada vez que se requiera.\n",
    "\n",
    "##### 2. Mantenimiento y actualización simplificados\n",
    "\n",
    "        - Si un fragmento de código se reutiliza en múltiples partes de un programa, solo es necesario actualizarlo en un solo lugar en caso de cambios o mejoras.\n",
    "        - Reduce la probabilidad de introducir errores al modificar el código.\n",
    "\n",
    "**📌 Ejemplo:** Si una función de validación de correos electrónicos se usa en varias partes de un sistema, un cambio en su lógica afectará automáticamente todas sus instancias sin necesidad de modificaciones individuales.\n",
    "\n",
    "##### 3. Reducción de errores y mayor confiabilidad\n",
    "\n",
    "        - Un código reutilizado ha sido probado y depurado previamente, lo que disminuye la cantidad de errores en nuevas implementaciones.\n",
    "        - Evita inconsistencias en la lógica, ya que se usa la misma implementación en todo el programa.\n",
    "\n",
    "**📌 Ejemplo:** Una función para conectarse a una base de datos SQL, probada y validada, puede ser utilizada en diferentes partes del sistema sin riesgos de errores por reescritura.\n",
    "\n",
    "##### 4. Mejora la modularidad y escalabilidad\n",
    "\n",
    "        - Facilita la creación de programas modulares, donde los componentes pueden integrarse o sustituirse fácilmente.\n",
    "        - Permite que los equipos de desarrollo trabajen de manera colaborativa en distintas partes del proyecto sin interferencias.\n",
    "\n",
    "**📌 Ejemplo:** Un equipo de desarrollo que trabaja en un sistema de comercio electrónico puede reutilizar funciones para procesar pagos, validar usuarios y calcular impuestos sin tener que escribir código nuevo.\n",
    "\n",
    "##### 5. Optimización del rendimiento\n",
    "\n",
    "        - Un código modular y reutilizable reduce la carga computacional, ya que evita cálculos redundantes.\n",
    "        - En sistemas grandes, permite optimizar recursos al reutilizar algoritmos eficientes en diferentes partes del programa.\n",
    "\n",
    "**📌 Ejemplo:** En una aplicación web, una función de caché puede reutilizarse para almacenar resultados de consultas a la base de datos y mejorar la velocidad de respuesta.\n",
    "\n",
    "##### 6. Facilita la implementación de buenas prácticas de programación\n",
    "\n",
    "        - Fomenta el uso de principios como DRY (Don't Repeat Yourself), que busca evitar la repetición innecesaria de código.\n",
    "        - Mejora la calidad del código al permitir pruebas unitarias más efectivas.\n",
    "\n",
    "**📌 Ejemplo:** En el desarrollo basado en microservicios, cada servicio expone funciones reutilizables que pueden ser consumidas por diferentes aplicaciones sin necesidad de duplicar código."
   ]
  },
  {
   "cell_type": "markdown",
   "metadata": {},
   "source": [
    "#### Ejemplo práctico de reutilización de código."
   ]
  },
  {
   "cell_type": "markdown",
   "metadata": {},
   "source": [
    "Sin reutilización (Código repetitivo):"
   ]
  },
  {
   "cell_type": "code",
   "execution_count": 3,
   "metadata": {},
   "outputs": [
    {
     "name": "stdout",
     "output_type": "stream",
     "text": [
      "90.0 170.0\n"
     ]
    }
   ],
   "source": [
    "# Cálculo de descuento para dos productos (sin reutilización)\n",
    "\n",
    "precio1 = 100\n",
    "descuento1 = 0.10\n",
    "precio_final1 = precio1 - (precio1 * descuento1)\n",
    "\n",
    "precio2 = 200\n",
    "descuento2 = 0.15\n",
    "precio_final2 = precio2 - (precio2 * descuento2)\n",
    "\n",
    "print(precio_final1, precio_final2)"
   ]
  },
  {
   "cell_type": "markdown",
   "metadata": {},
   "source": [
    "Este código repite la misma lógica varias veces."
   ]
  },
  {
   "cell_type": "markdown",
   "metadata": {},
   "source": [
    "Conn reutilización:"
   ]
  },
  {
   "cell_type": "code",
   "execution_count": 4,
   "metadata": {},
   "outputs": [
    {
     "name": "stdout",
     "output_type": "stream",
     "text": [
      "90.0\n",
      "170.0\n"
     ]
    }
   ],
   "source": [
    "def aplicar_descuento(precio, descuento):\n",
    "    \"\"\"Calcula el precio final aplicando un descuento.\"\"\"\n",
    "    return precio - (precio * descuento)\n",
    "\n",
    "print(aplicar_descuento(100, 0.10))  # Salida: 90.0\n",
    "print(aplicar_descuento(200, 0.15))  # Salida: 170.0\n"
   ]
  },
  {
   "cell_type": "markdown",
   "metadata": {},
   "source": [
    "Aquí la función aplicar_descuento() encapsula la lógica, permitiendo su reutilización de manera eficiente y clara."
   ]
  },
  {
   "cell_type": "markdown",
   "metadata": {},
   "source": [
    "En consecuencia, la reutilización del código no solo mejora la productividad y reduce errores, sino que también optimiza el mantenimiento y la escalabilidad de las aplicaciones. Implementar código reutilizable permite desarrollar sistemas más robustos, eficientes y fáciles de entender, lo que es clave en entornos de desarrollo moderno."
   ]
  },
  {
   "cell_type": "markdown",
   "metadata": {},
   "source": [
    "### ✅ Tipo de Funciones en Python."
   ]
  },
  {
   "cell_type": "markdown",
   "metadata": {},
   "source": [
    "#### -- Funciones con y sin retorno.\n",
    "\n",
    "En Python, las funciones pueden clasificarse en con retorno y sin retorno, dependiendo de si devuelven un valor o no."
   ]
  },
  {
   "cell_type": "markdown",
   "metadata": {},
   "source": [
    "**1.** Funciones con retorno\n",
    "\n",
    "Estas funciones devuelven un valor utilizando la palabra clave return. El valor devuelto puede ser almacenado en una variable o usado directamente en una expresión.\n",
    "\n",
    "    📌 Características:\n",
    "\n",
    "        - Utilizan return para enviar un resultado al programa que las llama.\n",
    "        - Pueden devolver cualquier tipo de dato (int, str, list, dict, etc.).\n",
    "        - Permiten reutilizar el resultado en diferentes partes del código.\n",
    "\n",
    "✅ Ejemplo de función con retorno:"
   ]
  },
  {
   "cell_type": "code",
   "execution_count": 5,
   "metadata": {},
   "outputs": [
    {
     "name": "stdout",
     "output_type": "stream",
     "text": [
      "8\n"
     ]
    }
   ],
   "source": [
    "def suma(a, b):\n",
    "    \"\"\"Devuelve la suma de dos números.\"\"\"\n",
    "    return a + b\n",
    "\n",
    "resultado = suma(5, 3)  # Almacena el valor retornado en una variable\n",
    "print(resultado)  # Salida: 8"
   ]
  },
  {
   "cell_type": "markdown",
   "metadata": {},
   "source": [
    " Aquí la función suma(a, b) devuelve la suma de los dos números, que luego se almacena en resultado y se imprime."
   ]
  },
  {
   "cell_type": "markdown",
   "metadata": {},
   "source": [
    "#### -- Funciones con parámetros y valores predeterminados."
   ]
  },
  {
   "cell_type": "markdown",
   "metadata": {},
   "source": [
    "**2.** Funciones sin retorno\n",
    "\n",
    "Estas funciones no devuelven un valor explícito, sino que ejecutan una acción, como imprimir en pantalla o modificar variables globales.\n",
    "\n",
    "    📌 Características:\n",
    "\n",
    "        - No utilizan return o lo usan sin devolver un valor (return solo o return None).\n",
    "        - Ejecutan acciones dentro del programa sin necesidad de retornar datos.\n",
    "        - Útiles para mostrar mensajes, modificar estructuras de datos o realizar efectos secundarios.\n",
    "\n",
    "✅ Ejemplo de función sin retorno:"
   ]
  },
  {
   "cell_type": "code",
   "execution_count": 6,
   "metadata": {},
   "outputs": [
    {
     "name": "stdout",
     "output_type": "stream",
     "text": [
      "Hola, Aarón. ¡Bienvenido!\n"
     ]
    }
   ],
   "source": [
    "def mostrar_mensaje(nombre):\n",
    "    \"\"\"Muestra un mensaje de bienvenida en pantalla.\"\"\"\n",
    "    print(f\"Hola, {nombre}. ¡Bienvenido!\")\n",
    "\n",
    "mostrar_mensaje(\"Aarón\")  # Salida: Hola, Aarón. ¡Bienvenido!"
   ]
  },
  {
   "cell_type": "markdown",
   "metadata": {},
   "source": [
    "Aquí la función mostrar_mensaje(nombre) no devuelve ningún valor, solo imprime un mensaje en pantalla."
   ]
  },
  {
   "cell_type": "markdown",
   "metadata": {},
   "source": [
    "### 📌 Diferencia clave entre funciones con y sin retorno: \n",
    "  \n",
    "| Característica             | Función con retorno | Función sin retorno | \n",
    "|--------------------------------------------------|-------|--------------------------------| \n",
    "| **Usa *return***                                 | ✅ Sí | ❌ No o devuelve *None* | \n",
    "| **Retorna un valor**                             | ✅ Sí | ❌ No | \n",
    "| **Puede almacenar el resultado en una variable** | ✅ Sí | ❌ No |\n",
    "| **Uso principal**                                | Cálculos, transformaciones | Mensajes, efectos secundarios | "
   ]
  },
  {
   "cell_type": "markdown",
   "metadata": {},
   "source": [
    "Ejemplo combinado:"
   ]
  },
  {
   "cell_type": "code",
   "execution_count": 7,
   "metadata": {},
   "outputs": [
    {
     "name": "stdout",
     "output_type": "stream",
     "text": [
      "16\n",
      "El cuadrado de 4 es 16\n"
     ]
    }
   ],
   "source": [
    "def calcular_cuadrado(n):\n",
    "    \"\"\"Devuelve el cuadrado de un número (con retorno).\"\"\"\n",
    "    return n ** 2\n",
    "\n",
    "def imprimir_cuadrado(n):\n",
    "    \"\"\"Imprime el cuadrado de un número (sin retorno).\"\"\"\n",
    "    print(f\"El cuadrado de {n} es {n ** 2}\")\n",
    "\n",
    "resultado = calcular_cuadrado(4)  # Función con retorno\n",
    "print(resultado)  # Salida: 16\n",
    "\n",
    "imprimir_cuadrado(4)  # Función sin retorno\n",
    "# Salida: El cuadrado de 4 es 16"
   ]
  },
  {
   "cell_type": "markdown",
   "metadata": {},
   "source": [
    "El ejemplo anterior nos permite identificar: \n",
    "\n",
    "    - calcular_cuadrado(4) devuelve 16, que se almacena en resultado.\n",
    "    - imprimir_cuadrado(4) solo imprime el resultado, pero no devuelve nada."
   ]
  },
  {
   "cell_type": "markdown",
   "metadata": {},
   "source": [
    "Por tanto, las funciones con retorno son útiles cuando se necesita usar el resultado posteriormente en el código, mientras que las funciones sin retorno son ideales para mostrar información o realizar acciones sin necesidad de devolver un valor."
   ]
  },
  {
   "cell_type": "markdown",
   "metadata": {},
   "source": [
    "#### -- Uso de *args* y *kwargs*.\n",
    "\n",
    "En Python, *args* y **kwargs* son mecanismos para manejar un número variable de argumentos en funciones. Estos permiten escribir funciones más flexibles y reutilizables."
   ]
  },
  {
   "cell_type": "markdown",
   "metadata": {},
   "source": [
    "**1.** *args:* Argumentos Posicionales Variables\n",
    "\n",
    "El parámetro *args permite a una función recibir un número indefinido de argumentos posicionales como una tupla.\n",
    "\n",
    "📌 Características:\n",
    "\n",
    "    - Se usa cuando no se conoce de antemano cuántos argumentos se pasarán a la función.\n",
    "    - Los argumentos se agrupan en una tupla dentro de la función.\n",
    "\n",
    "✅ Ejemplo de *args:*"
   ]
  },
  {
   "cell_type": "code",
   "execution_count": 8,
   "metadata": {},
   "outputs": [
    {
     "name": "stdout",
     "output_type": "stream",
     "text": [
      "12\n",
      "15\n"
     ]
    }
   ],
   "source": [
    "def suma(*numeros):\n",
    "    \"\"\"Devuelve la suma de todos los números pasados como argumento.\"\"\"\n",
    "    return sum(numeros)\n",
    "\n",
    "print(suma(2, 4, 6))       # Salida: 12\n",
    "print(suma(1, 2, 3, 4, 5)) # Salida: 15"
   ]
  },
  {
   "cell_type": "markdown",
   "metadata": {},
   "source": [
    "Aquí la función suma(*numeros) puede recibir cualquier cantidad de valores y los trata como una tupla."
   ]
  },
  {
   "cell_type": "markdown",
   "metadata": {},
   "source": [
    "**2.** *kwargs:* Argumentos Nombrados Variables\n",
    "\n",
    "El parámetro **kwargs permite recibir un número indefinido de argumentos nombrados como un diccionario.\n",
    "\n",
    "📌 Características:\n",
    "\n",
    "    - Se usa cuando no se conoce de antemano qué nombres de argumentos serán pasados.\n",
    "    - Los argumentos se almacenan en un diccionario {clave: valor}.\n",
    "\n",
    "✅ Ejemplo de **kwargs**:"
   ]
  },
  {
   "cell_type": "code",
   "execution_count": 9,
   "metadata": {},
   "outputs": [
    {
     "name": "stdout",
     "output_type": "stream",
     "text": [
      "nombre: Aarón\n",
      "edad: 25\n",
      "ciudad: San José\n"
     ]
    }
   ],
   "source": [
    "def mostrar_info(**datos):\n",
    "    \"\"\"Muestra información con parámetros nombrados.\"\"\"\n",
    "    for clave, valor in datos.items():\n",
    "        print(f\"{clave}: {valor}\")\n",
    "\n",
    "mostrar_info(nombre=\"Aarón\", edad=25, ciudad=\"San José\")\n",
    "# Salida:\n",
    "# nombre: Aarón\n",
    "# edad: 25\n",
    "# ciudad: San José"
   ]
  },
  {
   "cell_type": "markdown",
   "metadata": {},
   "source": [
    "Aquí **datos almacena los argumentos como un diccionario, lo que permite acceder a cada par clave-valor."
   ]
  },
  {
   "cell_type": "markdown",
   "metadata": {},
   "source": [
    "*3.* Uso combinado de **args** y **kwargs**\n",
    "\n",
    "También se pueden usar juntos para recibir tanto argumentos posicionales como nombrados.\n",
    "\n",
    "✅ Ejemplo con **args** y **kwargs**:"
   ]
  },
  {
   "cell_type": "code",
   "execution_count": 10,
   "metadata": {},
   "outputs": [
    {
     "name": "stdout",
     "output_type": "stream",
     "text": [
      "Nombres: Aarón, Sequeira\n",
      "edad: 25\n",
      "ciudad: San José\n"
     ]
    }
   ],
   "source": [
    "def informacion_persona(*nombres, **detalles):\n",
    "    \"\"\"Muestra nombres y detalles de una persona.\"\"\"\n",
    "    print(\"Nombres:\", \", \".join(nombres))\n",
    "    for clave, valor in detalles.items():\n",
    "        print(f\"{clave}: {valor}\")\n",
    "\n",
    "informacion_persona(\"Aarón\", \"Sequeira\", edad=25, ciudad=\"San José\")\n",
    "# Salida:\n",
    "# Nombres: Aarón, Sequeira\n",
    "# edad: 25\n",
    "# ciudad: San José"
   ]
  },
  {
   "cell_type": "markdown",
   "metadata": {},
   "source": [
    "Aquí *nombres almacena los nombres en una tupla y **detalles almacena la información en un diccionario."
   ]
  },
  {
   "cell_type": "markdown",
   "metadata": {},
   "source": [
    "### 📌 Diferencias entre *args y **kwargs: \n",
    "  \n",
    "| Característica             | *args (Argumentos Posicionales) | **kwargs (Argumentos Nombrados) | \n",
    "|----------------------------|---------------------------------|---------------------------------| \n",
    "| **Tipo de datos**          | Tupla () | Diccionario {} | \n",
    "| **Uso**                    | Se usa para recibir múltiples valores sin nombre | Se usa para recibir múltiples valores con clave | \n",
    "| **Acceso a valores**       | Se accede por índice (args[0], args[1]) | Se accede por clave (kwargs['nombre']) |"
   ]
  },
  {
   "cell_type": "markdown",
   "metadata": {},
   "source": [
    "En resumen:\n",
    "\n",
    "    - *args se usa cuando se desea pasar una cantidad variable de argumentos sin nombres específicos.\n",
    "    - **kwargs se usa cuando se necesita recibir pares clave-valor con nombres dinámicos.\n",
    "    - Ambos pueden combinarse para escribir funciones más flexibles y reutilizables."
   ]
  },
  {
   "cell_type": "markdown",
   "metadata": {},
   "source": [
    "#### -- Funciones anónicas *(Lambda)*.\n",
    "\n",
    "Las funciones lambda en Python son funciones anónimas, es decir, funciones sin nombre que se definen en una sola línea. Se usan principalmente para operaciones sencillas y rápidas donde no se necesita una función completa con def.\n",
    "\n",
    "**📌 Características de lambda**:\n",
    "\n",
    "    - Se definen con la palabra clave lambda, seguida de los parámetros y una única expresión.\n",
    "    - No requieren return, ya que el resultado de la expresión se devuelve automáticamente.\n",
    "    - Son útiles para funciones cortas y simples, como filtros, mapeos y ordenaciones.\n",
    "    - No pueden contener múltiples expresiones o sentencias complejas.\n",
    "\n",
    "✅ Ejemplo básico de lambda:"
   ]
  },
  {
   "cell_type": "code",
   "execution_count": 11,
   "metadata": {},
   "outputs": [
    {
     "name": "stdout",
     "output_type": "stream",
     "text": [
      "8\n"
     ]
    }
   ],
   "source": [
    "# Función lambda que suma dos números\n",
    "suma = lambda a, b: a + b\n",
    "\n",
    "print(suma(3, 5))  # Salida: 8"
   ]
  },
  {
   "cell_type": "markdown",
   "metadata": {},
   "source": [
    "Aquí lambda a, b: a + b define una función anónima que recibe dos parámetros (a y b) y devuelve su suma."
   ]
  },
  {
   "cell_type": "markdown",
   "metadata": {},
   "source": [
    "✅ Uso de lambda con map(), filter() y sorted()\n",
    "\n",
    "Las funciones lambda son útiles en combinación con funciones como map(), filter() y sorted()."
   ]
  },
  {
   "cell_type": "markdown",
   "metadata": {},
   "source": [
    "1. lambda con map() (Aplicar una función a cada elemento de una lista)"
   ]
  },
  {
   "cell_type": "code",
   "execution_count": 12,
   "metadata": {},
   "outputs": [
    {
     "name": "stdout",
     "output_type": "stream",
     "text": [
      "[1, 4, 9, 16]\n"
     ]
    }
   ],
   "source": [
    "numeros = [1, 2, 3, 4]\n",
    "cuadrados = list(map(lambda x: x ** 2, numeros))\n",
    "\n",
    "print(cuadrados)  # Salida: [1, 4, 9, 16]"
   ]
  },
  {
   "cell_type": "markdown",
   "metadata": {},
   "source": [
    "🔹 map(lambda x: x ** 2, numeros) aplica la función lambda a cada elemento de la lista."
   ]
  },
  {
   "cell_type": "markdown",
   "metadata": {},
   "source": [
    "2. lambda con filter() (Filtrar elementos de una lista)"
   ]
  },
  {
   "cell_type": "code",
   "execution_count": 13,
   "metadata": {},
   "outputs": [
    {
     "name": "stdout",
     "output_type": "stream",
     "text": [
      "[2, 4, 6]\n"
     ]
    }
   ],
   "source": [
    "numeros = [1, 2, 3, 4, 5, 6]\n",
    "pares = list(filter(lambda x: x % 2 == 0, numeros))\n",
    "\n",
    "print(pares)  # Salida: [2, 4, 6]"
   ]
  },
  {
   "cell_type": "markdown",
   "metadata": {},
   "source": [
    "🔹 filter(lambda x: x % 2 == 0, numeros) selecciona solo los números pares."
   ]
  },
  {
   "cell_type": "markdown",
   "metadata": {},
   "source": [
    "3. lambda con sorted() (Ordenar por un criterio específico)"
   ]
  },
  {
   "cell_type": "code",
   "execution_count": 14,
   "metadata": {},
   "outputs": [
    {
     "name": "stdout",
     "output_type": "stream",
     "text": [
      "[('Juan', 20), ('Aarón', 25), ('María', 30)]\n"
     ]
    }
   ],
   "source": [
    "personas = [(\"Aarón\", 25), (\"María\", 30), (\"Juan\", 20)]\n",
    "ordenado_por_edad = sorted(personas, key=lambda x: x[1])\n",
    "\n",
    "print(ordenado_por_edad)\n",
    "# Salida: [('Juan', 20), ('Aarón', 25), ('María', 30)]"
   ]
  },
  {
   "cell_type": "markdown",
   "metadata": {},
   "source": [
    "🔹 sorted(personas, key=lambda x: x[1]) ordena la lista según la edad."
   ]
  },
  {
   "cell_type": "markdown",
   "metadata": {},
   "source": [
    "📌 Diferencia entre lambda y def:\n",
    "\n",
    "| Característica    |          Función lambda           | Función def | \n",
    "|-------------------|-----------------------------------|--------------| \n",
    "| **Definición**    | En una sola línea (lambda x: x+2) | En múltiples líneas (def suma(x): return x+2)            | \n",
    "| **Nombre**        | Anónima (sin nombre)              | Tiene un nombre definido                                 | \n",
    "| **Complejidad**   | Solo permite una expresión        | Puede contener múltiples sentencias                      |\n",
    "| **Retorno**       | Automático                        | Requiere return (excepto si la función no devuelve nada) | "
   ]
  },
  {
   "cell_type": "markdown",
   "metadata": {},
   "source": [
    "Por tanto, las funciones lambda son útiles para operaciones simples y rápidas, especialmente cuando se usan con map(), filter() y sorted(). Sin embargo, para funciones más complejas, es mejor usar def."
   ]
  },
  {
   "cell_type": "markdown",
   "metadata": {},
   "source": [
    "#### -- Funciones recursivas.\n",
    "\n",
    "Una función recursiva es aquella que se llama a sí misma dentro de su propia definición. Se utilizan para resolver problemas que pueden dividirse en subproblemas más pequeños del mismo tipo.\n",
    "\n",
    "📌 Características de las funciones recursivas\n",
    "\n",
    "    - Deben tener un caso base que detenga la recursión.\n",
    "    - Cada llamada reduce el problema, acercándolo al caso base.\n",
    "    - Se usan en problemas matemáticos y estructurales, como el cálculo de factoriales, la serie de Fibonacci y el recorrido de estructuras de datos como árboles."
   ]
  },
  {
   "cell_type": "markdown",
   "metadata": {},
   "source": [
    "✅ Ejemplo de función recursiva: Factorial\n",
    "\n",
    "El factorial de un número **n!** se define como:\n",
    "\n",
    "𝑛! = 𝑛 × (𝑛 − 1)!\n",
    "\n",
    "con el caso base 0! = 1."
   ]
  },
  {
   "cell_type": "code",
   "execution_count": 15,
   "metadata": {},
   "outputs": [
    {
     "name": "stdout",
     "output_type": "stream",
     "text": [
      "120\n"
     ]
    }
   ],
   "source": [
    "def factorial(n):\n",
    "    \"\"\"Devuelve el factorial de un número usando recursión.\"\"\"\n",
    "    if n == 0 or n == 1:  # Caso base\n",
    "        return 1\n",
    "    else:\n",
    "        return n * factorial(n - 1)  # Llamada recursiva\n",
    "\n",
    "print(factorial(5))  # Salida: 120"
   ]
  },
  {
   "cell_type": "markdown",
   "metadata": {},
   "source": [
    "🔹 Explicación:\n",
    "\n",
    "1. factorial(5) llama a factorial(4).\n",
    "2. factorial(4) llama a factorial(3), y así sucesivamente.\n",
    "3. Cuando n == 0 o n == 1, la función retorna 1 (caso base).\n",
    "4. Luego, las llamadas se resuelven en orden inverso multiplicando los valores."
   ]
  },
  {
   "cell_type": "markdown",
   "metadata": {},
   "source": [
    "✅ Ejemplo de función recursiva: Serie de Fibonacci\n",
    "\n",
    "La serie de Fibonacci se define como:\n",
    "\n",
    "𝐹(𝑛) = 𝐹(𝑛−1) + 𝐹(𝑛−2)\n",
    "\n",
    "con los casos base:\n",
    "\n",
    "𝐹(0) = 0, 𝐹(1) = 1"
   ]
  },
  {
   "cell_type": "code",
   "execution_count": 16,
   "metadata": {},
   "outputs": [
    {
     "name": "stdout",
     "output_type": "stream",
     "text": [
      "8\n"
     ]
    }
   ],
   "source": [
    "def fibonacci(n):\n",
    "    \"\"\"Devuelve el n-ésimo número de la serie de Fibonacci usando recursión.\"\"\"\n",
    "    if n == 0:\n",
    "        return 0\n",
    "    elif n == 1:\n",
    "        return 1\n",
    "    else:\n",
    "        return fibonacci(n - 1) + fibonacci(n - 2)\n",
    "\n",
    "print(fibonacci(6))  # Salida: 8"
   ]
  },
  {
   "cell_type": "markdown",
   "metadata": {},
   "source": [
    "🔹 Explicación:\n",
    "\n",
    "1. fibonacci(6) llama a fibonacci(5) y fibonacci(4).\n",
    "2. Esto sigue hasta llegar a fibonacci(1) y fibonacci(0), que son los casos base.\n",
    "3. Luego, los resultados se suman para obtener F(6) = 8."
   ]
  },
  {
   "cell_type": "markdown",
   "metadata": {},
   "source": [
    "📌 Ventajas y desventajas de la recursión:\n",
    "\n",
    "| Ventajas | Desventajas | \n",
    "|----------|-------------| \n",
    "| Código más claro y elegante para problemas recursivos | Puede consumir mucha memoria (pila de llamadas) | \n",
    "| Facilita el diseño de algoritmos para estructuras como árboles y grafos | Puede ser más lenta que una versión iterativa | \n",
    "| Divide el problema en subproblemas más pequeños | Si no hay un caso base adecuado, puede causar un bucle infinito |"
   ]
  },
  {
   "cell_type": "markdown",
   "metadata": {},
   "source": [
    "Por tanto, las funciones recursivas son una herramienta poderosa para resolver problemas de manera elegante, pero deben usarse con precaución para evitar problemas de eficiencia. Son ideales para problemas que se pueden descomponer en subproblemas más pequeños, como el cálculo de factoriales, la serie de Fibonacci y el recorrido de estructuras de datos como árboles y grafos."
   ]
  },
  {
   "cell_type": "markdown",
   "metadata": {},
   "source": [
    "#### -- Generadores *(yield)*.\n",
    "\n",
    "Los generadores son un tipo especial de función en Python que permite iterar sobre datos sin almacenarlos en memoria, lo que los hace eficientes en términos de rendimiento y uso de memoria.\n",
    "\n",
    "En lugar de usar return, los generadores utilizan la palabra clave yield, que permite pausar y reanudar la ejecución de la función cada vez que se solicita un nuevo valor.\n",
    "\n",
    "📌 Características de los generadores\n",
    "\n",
    "    - Utilizan yield en lugar de return para generar valores de manera perezosa (lazy evaluation).\n",
    "    - Ahorran memoria, ya que los valores no se almacenan en una lista, sino que se generan cuando se necesitan.\n",
    "    - Pueden ser iterados con for o next(), generando valores uno a uno.\n",
    "\n",
    "✅ Ejemplo básico de un generador"
   ]
  },
  {
   "cell_type": "code",
   "execution_count": 17,
   "metadata": {},
   "outputs": [
    {
     "name": "stdout",
     "output_type": "stream",
     "text": [
      "1\n",
      "2\n",
      "3\n",
      "4\n",
      "5\n"
     ]
    }
   ],
   "source": [
    "def contar_hasta(n):\n",
    "    \"\"\"Generador que cuenta desde 1 hasta n.\"\"\"\n",
    "    contador = 1\n",
    "    while contador <= n:\n",
    "        yield contador  # Pausa y devuelve el valor actual\n",
    "        contador += 1  # Incrementa el contador\n",
    "\n",
    "# Usando el generador\n",
    "for numero in contar_hasta(5):\n",
    "    print(numero)\n",
    "\n",
    "# Salida:\n",
    "# 1\n",
    "# 2\n",
    "# 3\n",
    "# 4\n",
    "# 5"
   ]
  },
  {
   "cell_type": "markdown",
   "metadata": {},
   "source": [
    "🔹 Explicación:\n",
    "\n",
    "1. La función contar_hasta(n) no devuelve todos los valores a la vez, sino que genera un número a la vez con yield.\n",
    "2. Cada vez que el for solicita un nuevo valor, la ejecución se reanuda desde el último yield.\n",
    "3. Esto ahorra memoria, ya que no se necesita crear una lista con todos los números."
   ]
  },
  {
   "cell_type": "markdown",
   "metadata": {},
   "source": [
    "✅ Uso de next() con generadores\n",
    "\n",
    "Podemos usar next() para obtener los valores uno por uno manualmente."
   ]
  },
  {
   "cell_type": "code",
   "execution_count": 18,
   "metadata": {},
   "outputs": [
    {
     "name": "stdout",
     "output_type": "stream",
     "text": [
      "1\n",
      "2\n",
      "3\n"
     ]
    }
   ],
   "source": [
    "generador = contar_hasta(3)\n",
    "print(next(generador))  # Salida: 1\n",
    "print(next(generador))  # Salida: 2\n",
    "print(next(generador))  # Salida: 3\n",
    "# print(next(generador))  # Generaría un error StopIteration"
   ]
  },
  {
   "cell_type": "markdown",
   "metadata": {},
   "source": [
    "🔹 Cada vez que llamamos a next(), el generador reanuda la ejecución desde el último yield."
   ]
  },
  {
   "cell_type": "markdown",
   "metadata": {},
   "source": [
    "✅ Ejemplo de generador infinito\n",
    "\n",
    "Un generador puede ser infinito si no tiene un caso base."
   ]
  },
  {
   "cell_type": "code",
   "execution_count": 19,
   "metadata": {},
   "outputs": [
    {
     "name": "stdout",
     "output_type": "stream",
     "text": [
      "0\n",
      "2\n",
      "4\n",
      "6\n",
      "8\n"
     ]
    }
   ],
   "source": [
    "def numeros_pares():\n",
    "    \"\"\"Generador infinito de números pares.\"\"\"\n",
    "    numero = 0\n",
    "    while True:\n",
    "        yield numero\n",
    "        numero += 2  # Siguiente número par\n",
    "\n",
    "# Generamos los primeros 5 números pares\n",
    "pares = numeros_pares()\n",
    "for _ in range(5):\n",
    "    print(next(pares))\n",
    "\n",
    "# Salida:\n",
    "# 0\n",
    "# 2\n",
    "# 4\n",
    "# 6\n",
    "# 8"
   ]
  },
  {
   "cell_type": "markdown",
   "metadata": {},
   "source": [
    "🔹 Este generador nunca se detiene, generando números pares indefinidamente."
   ]
  },
  {
   "cell_type": "markdown",
   "metadata": {},
   "source": [
    "✅ Comparación entre Generadores y Listas\n",
    "\n",
    "Si usáramos una lista para almacenar 1 millón de números, consumiría mucha memoria. Un generador optimiza esto.\n",
    "\n",
    "Ejemplo con lista (uso intensivo de memoria)"
   ]
  },
  {
   "cell_type": "code",
   "execution_count": 20,
   "metadata": {},
   "outputs": [
    {
     "name": "stdout",
     "output_type": "stream",
     "text": [
      "499999500000\n"
     ]
    }
   ],
   "source": [
    "numeros = [x for x in range(10**6)]  # Crea una lista de 1 millón de números\n",
    "print(sum(numeros))  # Suma todos los números"
   ]
  },
  {
   "cell_type": "markdown",
   "metadata": {},
   "source": [
    "🔹 Aquí la lista ocupa gran cantidad de RAM."
   ]
  },
  {
   "cell_type": "markdown",
   "metadata": {},
   "source": [
    "Ejemplo con generador (memoria eficiente)"
   ]
  },
  {
   "cell_type": "code",
   "execution_count": 21,
   "metadata": {},
   "outputs": [
    {
     "name": "stdout",
     "output_type": "stream",
     "text": [
      "499999500000\n"
     ]
    }
   ],
   "source": [
    "numeros = (x for x in range(10**6))  # Generador en lugar de lista\n",
    "print(sum(numeros))  # Suma todos los números"
   ]
  },
  {
   "cell_type": "markdown",
   "metadata": {},
   "source": [
    "🔹 Este generador no almacena los valores en memoria, los genera bajo demanda."
   ]
  },
  {
   "cell_type": "markdown",
   "metadata": {},
   "source": [
    "📌 Diferencias clave entre return y yield\n",
    "\n",
    "| Característica    | return (Función normal) | yield (Generador) | \n",
    "|-------------------|-------------------------|-------------------| \n",
    "| **Devuelve**      | Un único valor)                          | Múltiples valores uno a uno | \n",
    "| **Estado**        | Se ejecuta una vez y termina             | Se pausa y reanuda | \n",
    "| **Uso de memoria**| Puede consumir más memoria               | Optimiza la memoria |\n",
    "| **Iteración**     | \tNo puede ser usado directamente en for | Se puede iterar con for o next() | "
   ]
  },
  {
   "cell_type": "markdown",
   "metadata": {},
   "source": [
    "🎯 En conclusión:\n",
    "\n",
    "    - Los generadores (yield) son ideales para manejar grandes volúmenes de datos sin consumir mucha memoria.\n",
    "    - Son más eficientes que las listas cuando los datos se generan sobre la marcha.\n",
    "    - Se pueden usar con for o next() para iteración perezosa.\n",
    "    - Son útiles en casos como la lectura de archivos, la generación de secuencias infinitas y la optimización de memoria en cálculos masivos.\n",
    "\n",
    "👉 ¿Cuándo usar generadores?\n",
    "\n",
    "Cuando trabajes con grandes volúmenes de datos, streams o cálculos bajo demanda, en lugar de cargar todo en memoria. 🚀"
   ]
  },
  {
   "cell_type": "markdown",
   "metadata": {},
   "source": [
    "#### -- Closures y decoradores.\n",
    "\n",
    "Los Closures y Decoradores son conceptos avanzados en Python que permiten la creación de funciones más dinámicas y reutilizables."
   ]
  },
  {
   "cell_type": "markdown",
   "metadata": {},
   "source": [
    "1️⃣ Closures en Python\n",
    "\n",
    "Un closure es una función definida dentro de otra función que recuerda las variables del ámbito externo, incluso si la función externa ha terminado su ejecución.\n",
    "\n",
    "📌 Características de un Closure:\n",
    "\n",
    "    - Una función anidada (función dentro de otra función).\n",
    "    - Captura variables del entorno exterior aunque la función externa haya finalizado.\n",
    "    - Útil para crear funciones especializadas a partir de una función base.\n",
    "\n",
    "✅ Ejemplo de Closure"
   ]
  },
  {
   "cell_type": "code",
   "execution_count": 22,
   "metadata": {},
   "outputs": [
    {
     "name": "stdout",
     "output_type": "stream",
     "text": [
      "15\n",
      "50\n"
     ]
    }
   ],
   "source": [
    "def crear_multiplicador(factor):\n",
    "    \"\"\"Devuelve una función que multiplica por un factor dado.\"\"\"\n",
    "    def multiplicador(numero):\n",
    "        return numero * factor  # Recuerda el valor de \"factor\"\n",
    "    return multiplicador  # Retorna la función sin ejecutarla\n",
    "\n",
    "# Crear una función que multiplica por 3\n",
    "\n",
    "multiplicar_por_3 = crear_multiplicador(3)\n",
    "print(multiplicar_por_3(5))  # Salida: 15\n",
    "\n",
    "# Crear una función que multiplica por 10\n",
    "\n",
    "multiplicar_por_10 = crear_multiplicador(10)\n",
    "print(multiplicar_por_10(5))  # Salida: 50"
   ]
  },
  {
   "cell_type": "markdown",
   "metadata": {},
   "source": [
    "🔹 Explicación:\n",
    "\n",
    "1. crear_multiplicador(factor) define y devuelve la función multiplicador().\n",
    "2. multiplicador(numero) recuerda el valor de factor, incluso después de que crear_multiplicador() ha finalizado.\n",
    "3. Se crean funciones especializadas (multiplicar_por_3, multiplicar_por_10) sin necesidad de repetir código."
   ]
  },
  {
   "cell_type": "markdown",
   "metadata": {},
   "source": [
    "2️⃣ Decoradores en Python\n",
    "\n",
    "Los decoradores son una forma elegante y poderosa de modificar el comportamiento de funciones sin cambiar su código original.\n",
    "\n",
    "📌 Características de un Decorador:\n",
    "\n",
    "    - Es una función que recibe otra función como argumento y devuelve una nueva función con funcionalidad extra.\n",
    "    - Se utiliza el símbolo @decorador para aplicarlo a funciones.\n",
    "    - Se usan para logging, autenticación, medición de tiempo, caché, validaciones, etc.\n",
    "\n",
    "✅ Ejemplo básico de Decorador"
   ]
  },
  {
   "cell_type": "code",
   "execution_count": 23,
   "metadata": {},
   "outputs": [
    {
     "name": "stdout",
     "output_type": "stream",
     "text": [
      "¡Hola! Antes de ejecutar la función.\n",
      "Este es el mensaje original.\n",
      "¡Adiós! Después de ejecutar la función.\n"
     ]
    }
   ],
   "source": [
    "def decorador_saludo(funcion):\n",
    "    \"\"\"Decorador que modifica la función para imprimir un mensaje antes y después.\"\"\"\n",
    "    def envoltura():\n",
    "        print(\"¡Hola! Antes de ejecutar la función.\")\n",
    "        funcion()  # Llamada a la función original\n",
    "        print(\"¡Adiós! Después de ejecutar la función.\")\n",
    "    return envoltura  # Devuelve la función modificada\n",
    "\n",
    "@decorador_saludo  # Aplicamos el decorador\n",
    "def mostrar_mensaje():\n",
    "    print(\"Este es el mensaje original.\")\n",
    "\n",
    "# Llamamos a la función decorada\n",
    "\n",
    "mostrar_mensaje()"
   ]
  },
  {
   "cell_type": "markdown",
   "metadata": {},
   "source": [
    "🔹 Explicación:\n",
    "\n",
    "1. decorador_saludo(funcion) recibe la función mostrar_mensaje().\n",
    "2. La función envoltura() añade un mensaje antes y después de llamar a la función original.\n",
    "3. @decorador_saludo modifica mostrar_mensaje() sin cambiar su código."
   ]
  },
  {
   "cell_type": "markdown",
   "metadata": {},
   "source": [
    "✅ Ejemplo de Decorador con Argumentos\n",
    "\n",
    "Si el decorador necesita aceptar parámetros, podemos usar *args y **kwargs."
   ]
  },
  {
   "cell_type": "code",
   "execution_count": 24,
   "metadata": {},
   "outputs": [
    {
     "name": "stdout",
     "output_type": "stream",
     "text": [
      "HOLA, AARÓN!\n"
     ]
    }
   ],
   "source": [
    "def decorador_mayusculas(funcion):\n",
    "    \"\"\"Convierte el resultado de una función a mayúsculas.\"\"\"\n",
    "    def envoltura(*args, **kwargs):\n",
    "        resultado = funcion(*args, **kwargs)\n",
    "        return resultado.upper()  # Transforma el texto a mayúsculas\n",
    "    return envoltura\n",
    "\n",
    "@decorador_mayusculas\n",
    "def saludo(nombre):\n",
    "    return f\"Hola, {nombre}!\"\n",
    "\n",
    "print(saludo(\"Aarón\"))  # Salida: \"HOLA, AARÓN!\""
   ]
  },
  {
   "cell_type": "markdown",
   "metadata": {},
   "source": [
    "🔹 Aquí el decorador transforma el resultado de la función saludo(nombre) a mayúsculas sin modificar su implementación original."
   ]
  },
  {
   "cell_type": "markdown",
   "metadata": {},
   "source": [
    "✅ Ejemplo: Medir el Tiempo de Ejecución de una Función\n",
    "\n",
    "Un decorador puede medir el tiempo de ejecución de una función."
   ]
  },
  {
   "cell_type": "code",
   "execution_count": 25,
   "metadata": {},
   "outputs": [
    {
     "name": "stdout",
     "output_type": "stream",
     "text": [
      "Operación completada.\n",
      "Tiempo de ejecución: 2.0012 segundos\n"
     ]
    }
   ],
   "source": [
    "import time\n",
    "\n",
    "def medir_tiempo(funcion):\n",
    "    \"\"\"Decorador que mide el tiempo de ejecución de una función.\"\"\"\n",
    "    def envoltura(*args, **kwargs):\n",
    "        inicio = time.time()\n",
    "        resultado = funcion(*args, **kwargs)\n",
    "        fin = time.time()\n",
    "        print(f\"Tiempo de ejecución: {fin - inicio:.4f} segundos\")\n",
    "        return resultado\n",
    "    return envoltura\n",
    "\n",
    "@medir_tiempo\n",
    "def operacion_lenta():\n",
    "    time.sleep(2)  # Simula un proceso lento\n",
    "    print(\"Operación completada.\")\n",
    "\n",
    "operacion_lenta()"
   ]
  },
  {
   "cell_type": "markdown",
   "metadata": {},
   "source": [
    "🔹 Este decorador mide cuánto tarda una función en ejecutarse."
   ]
  },
  {
   "cell_type": "markdown",
   "metadata": {},
   "source": [
    "📌 Diferencias clave entre Closures y Decoradores\n",
    "\n",
    "| Característica    | Closures | Decoradores | \n",
    "|-------------------|----------|-------------| \n",
    "| **Definición**    | Función dentro de otra que recuerda variables externas | Función que modifica el comportamiento de otra función | \n",
    "| **Retomo**        | Devuelve una función que recuerda el contexto          | Devuelve una función con funcionalidad adicional | \n",
    "| **Uso pricipal**  | Crear funciones personalizadas y dinámicas             | Modificar funciones sin cambiar su código |\n",
    "| **Ejemplo común** | Generar funciones matemáticas (multiplicadores)        | Logging, validaciones, medición de tiempo | "
   ]
  },
  {
   "cell_type": "markdown",
   "metadata": {},
   "source": [
    "🎯 Por tanto:\n",
    "\n",
    "    - Closures son útiles para crear funciones dinámicas que recuerdan valores del ámbito exterior.\n",
    "    - Decoradores permiten modificar el comportamiento de funciones sin alterar su código original.\n",
    "    - Ambos son herramientas poderosas para escribir código más modular, reutilizable y elegante.\n",
    "\n",
    "🚀 Los decoradores se usan frecuentemente en frameworks como Flask y Django para autenticación, logging y caché."
   ]
  },
  {
   "cell_type": "markdown",
   "metadata": {},
   "source": [
    "### ✅ Aplicación de Funciones en Problemas Reales."
   ]
  },
  {
   "cell_type": "markdown",
   "metadata": {},
   "source": [
    "#### -- Aplicación en estructuras de datos (listas, diccionarios, tuplas).\n",
    "\n",
    "Las funciones en Python son esenciales para manipular y procesar estructuras de datos como listas, diccionarios y tuplas. A continuación, veremos cómo se pueden aplicar en problemas reales."
   ]
  },
  {
   "cell_type": "markdown",
   "metadata": {},
   "source": [
    "1️⃣ Uso de funciones con listas\n",
    "\n",
    "Las listas son estructuras ordenadas y mutables. Las funciones pueden ser útiles para realizar operaciones como búsqueda, filtrado, transformación y agregación de datos.\n",
    "\n",
    "✅ Ejemplo 1: Filtrar elementos de una lista (números pares)"
   ]
  },
  {
   "cell_type": "code",
   "execution_count": 1,
   "metadata": {},
   "outputs": [
    {
     "name": "stdout",
     "output_type": "stream",
     "text": [
      "[2, 4, 6, 8]\n"
     ]
    }
   ],
   "source": [
    "def filtrar_pares(lista):\n",
    "    \"\"\"Devuelve una nueva lista con solo los números pares.\"\"\"\n",
    "    return list(filter(lambda x: x % 2 == 0, lista))\n",
    "\n",
    "numeros = [1, 2, 3, 4, 5, 6, 7, 8]\n",
    "print(filtrar_pares(numeros))  # Salida: [2, 4, 6, 8]"
   ]
  },
  {
   "cell_type": "markdown",
   "metadata": {},
   "source": [
    "🔹 filter() con lambda permite seleccionar solo los números pares de la lista."
   ]
  },
  {
   "cell_type": "markdown",
   "metadata": {},
   "source": [
    "✅ Ejemplo 2: Aplicar una transformación a una lista (Cuadrados de números)"
   ]
  },
  {
   "cell_type": "code",
   "execution_count": 2,
   "metadata": {},
   "outputs": [
    {
     "name": "stdout",
     "output_type": "stream",
     "text": [
      "[1, 4, 9, 16, 25]\n"
     ]
    }
   ],
   "source": [
    "def elevar_cuadrado(lista):\n",
    "    \"\"\"Devuelve una nueva lista con los números elevados al cuadrado.\"\"\"\n",
    "    return list(map(lambda x: x**2, lista))\n",
    "\n",
    "numeros = [1, 2, 3, 4, 5]\n",
    "print(elevar_cuadrado(numeros))  # Salida: [1, 4, 9, 16, 25]"
   ]
  },
  {
   "cell_type": "markdown",
   "metadata": {},
   "source": [
    "🔹 map() aplica una función a cada elemento de la lista sin necesidad de un bucle explícito."
   ]
  },
  {
   "cell_type": "markdown",
   "metadata": {},
   "source": [
    "✅ Ejemplo 3: Buscar el mayor número en una lista"
   ]
  },
  {
   "cell_type": "code",
   "execution_count": 3,
   "metadata": {},
   "outputs": [
    {
     "name": "stdout",
     "output_type": "stream",
     "text": [
      "99\n"
     ]
    }
   ],
   "source": [
    "def encontrar_mayor(lista):\n",
    "    \"\"\"Devuelve el número mayor de una lista.\"\"\"\n",
    "    return max(lista)\n",
    "\n",
    "numeros = [10, 35, 67, 99, 4, 2]\n",
    "print(encontrar_mayor(numeros))  # Salida: 99"
   ]
  },
  {
   "cell_type": "markdown",
   "metadata": {},
   "source": [
    "🔹 max() permite encontrar el número más grande en la lista."
   ]
  },
  {
   "cell_type": "markdown",
   "metadata": {},
   "source": [
    "2️⃣ Uso de funciones con diccionarios\n",
    "\n",
    "Los diccionarios almacenan datos en pares clave-valor y son ideales para representar datos estructurados.\n",
    "\n",
    "✅ Ejemplo 1: Contar la frecuencia de palabras en un texto"
   ]
  },
  {
   "cell_type": "code",
   "execution_count": 4,
   "metadata": {},
   "outputs": [
    {
     "name": "stdout",
     "output_type": "stream",
     "text": [
      "{'python': 2, 'es': 2, 'genial': 1, 'y': 1, 'poderoso': 1}\n"
     ]
    }
   ],
   "source": [
    "def contar_palabras(texto):\n",
    "    \"\"\"Cuenta cuántas veces aparece cada palabra en un texto.\"\"\"\n",
    "    palabras = texto.split()\n",
    "    frecuencia = {}\n",
    "    for palabra in palabras:\n",
    "        frecuencia[palabra] = frecuencia.get(palabra, 0) + 1\n",
    "    return frecuencia\n",
    "\n",
    "texto = \"python es genial y python es poderoso\"\n",
    "print(contar_palabras(texto))\n",
    "# Salida: {'python': 2, 'es': 2, 'genial': 1, 'y': 1, 'poderoso': 1}"
   ]
  },
  {
   "cell_type": "markdown",
   "metadata": {},
   "source": [
    "🔹 Se usa un diccionario para almacenar la frecuencia de cada palabra en un texto."
   ]
  },
  {
   "cell_type": "markdown",
   "metadata": {},
   "source": [
    "✅ Ejemplo 2: Filtrar productos de un diccionario con precios mayores a 50"
   ]
  },
  {
   "cell_type": "code",
   "execution_count": 5,
   "metadata": {},
   "outputs": [
    {
     "name": "stdout",
     "output_type": "stream",
     "text": [
      "{'Laptop': 800, 'Monitor': 150}\n"
     ]
    }
   ],
   "source": [
    "def filtrar_productos(productos):\n",
    "    \"\"\"Devuelve un diccionario con productos que cuestan más de 50.\"\"\"\n",
    "    return {nombre: precio for nombre, precio in productos.items() if precio > 50}\n",
    "\n",
    "productos = {\"Laptop\": 800, \"Mouse\": 20, \"Teclado\": 45, \"Monitor\": 150}\n",
    "print(filtrar_productos(productos))  # Salida: {'Laptop': 800, 'Monitor': 150}"
   ]
  },
  {
   "cell_type": "markdown",
   "metadata": {},
   "source": [
    "🔹 Se usa un diccionario por comprensión para filtrar productos con precios mayores a 50."
   ]
  },
  {
   "cell_type": "markdown",
   "metadata": {},
   "source": [
    "✅ Ejemplo 3: Ordenar un diccionario por valores"
   ]
  },
  {
   "cell_type": "code",
   "execution_count": 6,
   "metadata": {},
   "outputs": [
    {
     "name": "stdout",
     "output_type": "stream",
     "text": [
      "{'Mouse': 20, 'Teclado': 45, 'Monitor': 150, 'Laptop': 800}\n"
     ]
    }
   ],
   "source": [
    "def ordenar_por_precio(productos):\n",
    "    \"\"\"Devuelve una lista de productos ordenados por precio.\"\"\"\n",
    "    return dict(sorted(productos.items(), key=lambda x: x[1]))\n",
    "\n",
    "productos = {\"Laptop\": 800, \"Mouse\": 20, \"Teclado\": 45, \"Monitor\": 150}\n",
    "print(ordenar_por_precio(productos))  \n",
    "# Salida: {'Mouse': 20, 'Teclado': 45, 'Monitor': 150, 'Laptop': 800}"
   ]
  },
  {
   "cell_type": "markdown",
   "metadata": {},
   "source": [
    "🔹 Se usa sorted() con lambda para ordenar los productos por precio."
   ]
  },
  {
   "cell_type": "markdown",
   "metadata": {},
   "source": [
    "3️⃣ Uso de funciones con tuplas\n",
    "\n",
    "Las tuplas son estructuras inmutables y ordenadas, ideales cuando los datos no deben modificarse.\n",
    "\n",
    "✅ Ejemplo 1: Desempaquetado de tuplas en funciones"
   ]
  },
  {
   "cell_type": "code",
   "execution_count": 7,
   "metadata": {},
   "outputs": [
    {
     "name": "stdout",
     "output_type": "stream",
     "text": [
      "Nombre: Aarón, Edad: 25, Ciudad: San José\n"
     ]
    }
   ],
   "source": [
    "def mostrar_datos(persona):\n",
    "    \"\"\"Recibe una tupla con información de una persona y la imprime.\"\"\"\n",
    "    nombre, edad, ciudad = persona\n",
    "    print(f\"Nombre: {nombre}, Edad: {edad}, Ciudad: {ciudad}\")\n",
    "\n",
    "persona = (\"Aarón\", 25, \"San José\")\n",
    "mostrar_datos(persona)\n",
    "# Salida: Nombre: Aarón, Edad: 25, Ciudad: San José"
   ]
  },
  {
   "cell_type": "markdown",
   "metadata": {},
   "source": [
    "🔹 Las tuplas se pueden desempaquetar dentro de funciones para acceder a sus valores fácilmente."
   ]
  },
  {
   "cell_type": "markdown",
   "metadata": {},
   "source": [
    "✅ Ejemplo 2: Devolver múltiples valores usando tuplas"
   ]
  },
  {
   "cell_type": "code",
   "execution_count": 8,
   "metadata": {},
   "outputs": [
    {
     "name": "stdout",
     "output_type": "stream",
     "text": [
      "(15, 5, 50)\n",
      "Suma: 15, Resta: 5, Multiplicación: 50\n"
     ]
    }
   ],
   "source": [
    "def operaciones_matematicas(a, b):\n",
    "    \"\"\"Devuelve la suma, resta y multiplicación de dos números.\"\"\"\n",
    "    return a + b, a - b, a * b  # Retorna una tupla\n",
    "\n",
    "resultado = operaciones_matematicas(10, 5)\n",
    "print(resultado)  # Salida: (15, 5, 50)\n",
    "\n",
    "# Desempaquetando los valores\n",
    "suma, resta, multiplicacion = resultado\n",
    "print(f\"Suma: {suma}, Resta: {resta}, Multiplicación: {multiplicacion}\")"
   ]
  },
  {
   "cell_type": "markdown",
   "metadata": {},
   "source": [
    "🔹 Las funciones pueden devolver múltiples valores en una tupla, que luego pueden desempaquetarse."
   ]
  },
  {
   "cell_type": "markdown",
   "metadata": {},
   "source": [
    "✅ Ejemplo 3: Uso de tuplas en un ranking"
   ]
  },
  {
   "cell_type": "code",
   "execution_count": 9,
   "metadata": {},
   "outputs": [
    {
     "name": "stdout",
     "output_type": "stream",
     "text": [
      "[('María', 95), ('Aarón', 85), ('Carlos', 78)]\n"
     ]
    }
   ],
   "source": [
    "def mejores_estudiantes(estudiantes):\n",
    "    \"\"\"Ordena a los estudiantes por nota de mayor a menor.\"\"\"\n",
    "    return sorted(estudiantes, key=lambda x: x[1], reverse=True)\n",
    "\n",
    "estudiantes = [(\"Aarón\", 85), (\"María\", 95), (\"Carlos\", 78)]\n",
    "print(mejores_estudiantes(estudiantes))\n",
    "# Salida: [('María', 95), ('Aarón', 85), ('Carlos', 78)]"
   ]
  },
  {
   "cell_type": "markdown",
   "metadata": {},
   "source": [
    "🔹 Las tuplas son ideales para representar estructuras como rankings porque son inmutables y eficientes."
   ]
  },
  {
   "cell_type": "markdown",
   "metadata": {},
   "source": [
    "📌 Por tanto: \n",
    "\n",
    "Las funciones son esenciales para manipular estructuras de datos de manera eficiente.\n",
    "\n",
    "    - Listas: Filtrar, transformar y buscar elementos.\n",
    "    - Diccionarios: Contar frecuencias, filtrar datos y ordenar claves-valores.\n",
    "    - Tuplas: Desempaquetado, retorno múltiple y almacenamiento inmutable.\n",
    "\n",
    "Aplicar funciones a estructuras de datos hace que el código sea más limpio, eficiente y modular."
   ]
  },
  {
   "cell_type": "markdown",
   "metadata": {},
   "source": [
    "#### -- Uso de funciones en procesamiento de datos.\n",
    "\n",
    "El procesamiento de datos es una de las aplicaciones más importantes de las funciones en Python. Con ellas, podemos limpiar, transformar, analizar y visualizar datos de manera eficiente.\n",
    "\n",
    "A continuación, veremos ejemplos prácticos en limpieza, transformación y análisis de datos usando listas, diccionarios y Pandas."
   ]
  },
  {
   "cell_type": "markdown",
   "metadata": {},
   "source": [
    "1️⃣ Limpieza de Datos\n",
    "\n",
    "Los datos suelen contener valores faltantes, inconsistencias o formatos incorrectos. Podemos usar funciones para limpiar y estandarizar datos.\n",
    "\n",
    "✅ Ejemplo: Eliminar valores nulos de una lista"
   ]
  },
  {
   "cell_type": "code",
   "execution_count": 10,
   "metadata": {},
   "outputs": [
    {
     "name": "stdout",
     "output_type": "stream",
     "text": [
      "[10, 20, 30, 40]\n"
     ]
    }
   ],
   "source": [
    "def eliminar_nulos(lista):\n",
    "    \"\"\"Elimina valores nulos (None, '', 0) de una lista.\"\"\"\n",
    "    return [x for x in lista if x not in (None, '', 0)]\n",
    "\n",
    "datos = [10, '', None, 20, 0, 30, None, 40]\n",
    "print(eliminar_nulos(datos))  # Salida: [10, 20, 30, 40]"
   ]
  },
  {
   "cell_type": "markdown",
   "metadata": {},
   "source": [
    "🔹 Se usa una lista por comprensión para eliminar valores indeseados."
   ]
  },
  {
   "cell_type": "markdown",
   "metadata": {},
   "source": [
    "✅ Ejemplo: Normalizar nombres en un diccionario"
   ]
  },
  {
   "cell_type": "code",
   "execution_count": 11,
   "metadata": {},
   "outputs": [
    {
     "name": "stdout",
     "output_type": "stream",
     "text": [
      "{'juan pérez': 25, 'maría lópez': 30, 'ana suárez': 28}\n"
     ]
    }
   ],
   "source": [
    "def normalizar_nombres(datos):\n",
    "    \"\"\"Convierte los nombres a minúsculas y sin espacios extra.\"\"\"\n",
    "    return {k.strip().lower(): v for k, v in datos.items()}\n",
    "\n",
    "clientes = {\" Juan Pérez \": 25, \"MARÍA LÓPEZ\": 30, \"ana suárez\": 28}\n",
    "print(normalizar_nombres(clientes))\n",
    "# Salida: {'juan pérez': 25, 'maría lópez': 30, 'ana suárez': 28}"
   ]
  },
  {
   "cell_type": "markdown",
   "metadata": {},
   "source": [
    "🔹 Se limpian los nombres eliminando espacios y convirtiendo a minúsculas."
   ]
  },
  {
   "cell_type": "markdown",
   "metadata": {},
   "source": [
    "2️⃣ Transformación de Datos\n",
    "\n",
    "A menudo, los datos deben convertirse a otro formato antes de su análisis.\n",
    "\n",
    "✅ Ejemplo: Convertir una lista de strings en números"
   ]
  },
  {
   "cell_type": "code",
   "execution_count": 12,
   "metadata": {},
   "outputs": [
    {
     "name": "stdout",
     "output_type": "stream",
     "text": [
      "[10, 20, None, 30, 40]\n"
     ]
    }
   ],
   "source": [
    "def convertir_a_numeros(lista):\n",
    "    \"\"\"Convierte una lista de strings en números enteros.\"\"\"\n",
    "    return [int(x) if x.isdigit() else None for x in lista]\n",
    "\n",
    "datos = [\"10\", \"20\", \"error\", \"30\", \"40\"]\n",
    "print(convertir_a_numeros(datos))  # Salida: [10, 20, None, 30, 40]"
   ]
  },
  {
   "cell_type": "markdown",
   "metadata": {},
   "source": [
    "🔹 Se convierten los valores numéricos a int, dejando None para los no válidos."
   ]
  },
  {
   "cell_type": "markdown",
   "metadata": {},
   "source": [
    "✅ Ejemplo: Crear una función para transformar datos en Pandas"
   ]
  },
  {
   "cell_type": "code",
   "execution_count": 13,
   "metadata": {},
   "outputs": [
    {
     "name": "stdout",
     "output_type": "stream",
     "text": [
      "  nombre_cliente  edad_\n",
      "0           Juan     25\n",
      "1            Ana     30\n"
     ]
    }
   ],
   "source": [
    "import pandas as pd\n",
    "\n",
    "def limpiar_columnas(df):\n",
    "    \"\"\"Convierte nombres de columnas a minúsculas y reemplaza espacios por guiones bajos.\"\"\"\n",
    "    df.columns = df.columns.str.lower().str.replace(\" \", \"_\")\n",
    "    return df\n",
    "\n",
    "# Creación de un DataFrame\n",
    "datos = pd.DataFrame({\"Nombre Cliente\": [\"Juan\", \"Ana\"], \"Edad \": [25, 30]})\n",
    "datos = limpiar_columnas(datos)\n",
    "print(datos)"
   ]
  },
  {
   "cell_type": "markdown",
   "metadata": {},
   "source": [
    "🔹 Se estandarizan los nombres de columnas para un análisis más fácil."
   ]
  },
  {
   "cell_type": "markdown",
   "metadata": {},
   "source": [
    "3️⃣ Análisis de Datos\n",
    "\n",
    "Las funciones pueden ayudar a obtener estadísticas y patrones en los datos.\n",
    "\n",
    "✅ Ejemplo: Calcular estadísticas básicas"
   ]
  },
  {
   "cell_type": "code",
   "execution_count": 14,
   "metadata": {},
   "outputs": [
    {
     "name": "stdout",
     "output_type": "stream",
     "text": [
      "{'media': 300.0, 'minimo': 100, 'maximo': 500}\n"
     ]
    }
   ],
   "source": [
    "def calcular_estadisticas(lista):\n",
    "    \"\"\"Calcula la media, el valor mínimo y máximo de una lista de números.\"\"\"\n",
    "    return {\n",
    "        \"media\": sum(lista) / len(lista),\n",
    "        \"minimo\": min(lista),\n",
    "        \"maximo\": max(lista)\n",
    "    }\n",
    "\n",
    "datos = [100, 200, 300, 400, 500]\n",
    "print(calcular_estadisticas(datos))\n",
    "# Salida: {'media': 300.0, 'minimo': 100, 'maximo': 500}"
   ]
  },
  {
   "cell_type": "markdown",
   "metadata": {},
   "source": [
    "🔹 Se calculan estadísticas básicas sin necesidad de librerías externas."
   ]
  },
  {
   "cell_type": "markdown",
   "metadata": {},
   "source": [
    "✅ Ejemplo: Análisis con Pandas\n",
    "\n",
    "Podemos utilizar funciones con Pandas para análisis avanzados."
   ]
  },
  {
   "cell_type": "code",
   "execution_count": 15,
   "metadata": {},
   "outputs": [
    {
     "name": "stdout",
     "output_type": "stream",
     "text": [
      "{'total': np.int64(600), 'media': np.float64(200.0)}\n"
     ]
    }
   ],
   "source": [
    "import pandas as pd\n",
    "\n",
    "def analizar_ventas(df):\n",
    "    \"\"\"Devuelve el total de ventas y la media por cliente.\"\"\"\n",
    "    total_ventas = df[\"ventas\"].sum()\n",
    "    media_ventas = df[\"ventas\"].mean()\n",
    "    return {\"total\": total_ventas, \"media\": media_ventas}\n",
    "\n",
    "# Creación del DataFrame\n",
    "datos = pd.DataFrame({\"cliente\": [\"Juan\", \"Ana\", \"Carlos\"], \"ventas\": [100, 200, 300]})\n",
    "print(analizar_ventas(datos))\n",
    "# Salida: {'total': 600, 'media': 200.0}"
   ]
  },
  {
   "cell_type": "markdown",
   "metadata": {},
   "source": [
    "🔹 Se calculan ventas totales y promedio con Pandas de manera eficiente."
   ]
  },
  {
   "cell_type": "markdown",
   "metadata": {},
   "source": [
    "4️⃣ Visualización de Datos\n",
    "\n",
    "Las funciones también se usan para crear gráficos y reportes visuales.\n",
    "\n",
    "✅ Ejemplo: Generar un gráfico de ventas"
   ]
  },
  {
   "cell_type": "code",
   "execution_count": 17,
   "metadata": {},
   "outputs": [
    {
     "name": "stderr",
     "output_type": "stream",
     "text": [
      "Matplotlib is building the font cache; this may take a moment.\n"
     ]
    },
    {
     "data": {
      "image/png": "[encoded data removed]",
      "text/plain": [
       "<Figure size 640x480 with 1 Axes>"
      ]
     },
     "metadata": {},
     "output_type": "display_data"
    }
   ],
   "source": [
    "import matplotlib.pyplot as plt\n",
    "\n",
    "def graficar_ventas(df):\n",
    "    \"\"\"Genera un gráfico de barras con las ventas por cliente.\"\"\"\n",
    "    plt.bar(df[\"cliente\"], df[\"ventas\"], color=\"blue\")\n",
    "    plt.xlabel(\"Cliente\")\n",
    "    plt.ylabel(\"Ventas\")\n",
    "    plt.title(\"Ventas por Cliente\")\n",
    "    plt.show()\n",
    "\n",
    "# Creación del DataFrame\n",
    "datos = pd.DataFrame({\"cliente\": [\"Juan\", \"Ana\", \"Carlos\"], \"ventas\": [100, 200, 300]})\n",
    "graficar_ventas(datos)"
   ]
  },
  {
   "cell_type": "markdown",
   "metadata": {},
   "source": [
    "🔹 Se genera un gráfico de barras con matplotlib para visualizar datos."
   ]
  },
  {
   "cell_type": "markdown",
   "metadata": {},
   "source": [
    "📌 Por tanto:\n",
    "\n",
    "Las funciones son esenciales en el procesamiento de datos para: \n",
    "\n",
    "    ✅ Limpieza (eliminar nulos, normalizar nombres).\n",
    "    ✅ Transformación (convertir formatos, cambiar estructuras).\n",
    "    ✅ Análisis (estadísticas, cálculos).\n",
    "    ✅ Visualización (gráficos, reportes).\n",
    "\n",
    "Estas técnicas son fundamentales en ciencia de datos, análisis financiero y desarrollo de software."
   ]
  },
  {
   "cell_type": "markdown",
   "metadata": {},
   "source": [
    "#### -- Optimización del rendimiento con funciones.\n",
    "\n",
    "En Python, el uso adecuado de funciones puede optimizar el rendimiento del código al reducir el tiempo de ejecución y el consumo de memoria. \n",
    "Algunas técnicas clave incluyen:\n",
    "\n",
    "    ✅ Uso de memoization y caché para evitar cálculos repetitivos.\n",
    "    ✅ Uso de generadores (yield) en lugar de listas para ahorrar memoria.\n",
    "    ✅ Uso de operaciones vectorizadas en lugar de bucles tradicionales.\n",
    "    ✅ Uso de paralelización y concurrencia para tareas intensivas.\n",
    "\n",
    "Veamos ejemplos prácticos de estas estrategias. "
   ]
  },
  {
   "cell_type": "markdown",
   "metadata": {},
   "source": [
    "1️⃣ Memoization y Caché (lru_cache)\n",
    "\n",
    "Cuando una función realiza cálculos repetitivos, podemos usar caché para almacenar resultados y acelerar la ejecución.\n",
    "\n",
    "✅ Ejemplo: Fibonacci optimizado con lru_cache"
   ]
  },
  {
   "cell_type": "code",
   "execution_count": 18,
   "metadata": {},
   "outputs": [
    {
     "name": "stdout",
     "output_type": "stream",
     "text": [
      "12586269025\n"
     ]
    }
   ],
   "source": [
    "from functools import lru_cache\n",
    "\n",
    "@lru_cache(maxsize=None)  # Almacena resultados previos\n",
    "def fibonacci(n):\n",
    "    \"\"\"Calcula el n-ésimo número de Fibonacci con caché para optimización.\"\"\"\n",
    "    if n <= 1:\n",
    "        return n\n",
    "    return fibonacci(n - 1) + fibonacci(n - 2)\n",
    "\n",
    "print(fibonacci(50))  # Rápido gracias a la caché"
   ]
  },
  {
   "cell_type": "markdown",
   "metadata": {},
   "source": [
    "🔹 Sin caché, fibonacci(50) tarda mucho tiempo debido a llamadas repetitivas.\n",
    "\n",
    "🔹 Con lru_cache, los valores previos se almacenan y se reutilizan."
   ]
  },
  {
   "cell_type": "markdown",
   "metadata": {},
   "source": [
    "2️⃣ Uso de Generadores (yield) para Ahorro de Memoria\n",
    "\n",
    "Los generadores permiten iterar grandes volúmenes de datos sin cargarlos en memoria.\n",
    "\n",
    "✅ Ejemplo: Generador de números grandes"
   ]
  },
  {
   "cell_type": "code",
   "execution_count": 19,
   "metadata": {},
   "outputs": [
    {
     "name": "stdout",
     "output_type": "stream",
     "text": [
      "0\n",
      "2\n",
      "4\n"
     ]
    }
   ],
   "source": [
    "def numeros_pares():\n",
    "    \"\"\"Generador infinito de números pares.\"\"\"\n",
    "    n = 0\n",
    "    while True:\n",
    "        yield n\n",
    "        n += 2\n",
    "\n",
    "generador = numeros_pares()\n",
    "print(next(generador))  # Salida: 0\n",
    "print(next(generador))  # Salida: 2\n",
    "print(next(generador))  # Salida: 4"
   ]
  },
  {
   "cell_type": "markdown",
   "metadata": {},
   "source": [
    "🔹 Los generadores generan valores uno a uno, evitando usar listas enormes en memoria."
   ]
  },
  {
   "cell_type": "markdown",
   "metadata": {},
   "source": [
    "3️⃣ Uso de Operaciones Vectorizadas con NumPy\n",
    "\n",
    "Los bucles tradicionales pueden ser lentos en grandes volúmenes de datos. Usar NumPy permite operaciones vectorizadas, que son mucho más rápidas.\n",
    "\n",
    "✅ Ejemplo: Sumar elementos de una lista con NumPy"
   ]
  },
  {
   "cell_type": "code",
   "execution_count": 20,
   "metadata": {},
   "outputs": [
    {
     "name": "stdout",
     "output_type": "stream",
     "text": [
      "Suma con bucle: 500043278, Tiempo: 1.5254 s\n",
      "Suma con NumPy: 500043278, Tiempo: 0.0145 s\n"
     ]
    }
   ],
   "source": [
    "import numpy as np\n",
    "import time\n",
    "\n",
    "# Lista de 10 millones de números\n",
    "lista = np.random.randint(1, 100, size=10**7)\n",
    "\n",
    "# Suma con bucle tradicional (LENTO)\n",
    "inicio = time.time()\n",
    "suma = sum(lista)\n",
    "fin = time.time()\n",
    "print(f\"Suma con bucle: {suma}, Tiempo: {fin - inicio:.4f} s\")\n",
    "\n",
    "# Suma con NumPy (MUCHO MÁS RÁPIDO)\n",
    "inicio = time.time()\n",
    "suma_np = np.sum(lista)\n",
    "fin = time.time()\n",
    "print(f\"Suma con NumPy: {suma_np}, Tiempo: {fin - inicio:.4f} s\")"
   ]
  },
  {
   "cell_type": "markdown",
   "metadata": {},
   "source": [
    "🔹 np.sum() es miles de veces más rápido que un bucle normal.\n",
    "\n",
    "🔹 Se evita la sobrecarga de Python al operar directamente con arrays de NumPy."
   ]
  },
  {
   "cell_type": "markdown",
   "metadata": {},
   "source": [
    "4️⃣ Paralelización con multiprocessing\n",
    "\n",
    "Para tareas computacionalmente intensivas, podemos usar procesamiento en paralelo para aprovechar múltiples núcleos.\n",
    "\n",
    "✅ Ejemplo: Cálculo de cuadrados en paralelo"
   ]
  },
  {
   "cell_type": "code",
   "execution_count": null,
   "metadata": {},
   "outputs": [],
   "source": [
    "import multiprocessing\n",
    "\n",
    "def calcular_cuadrado(n):\n",
    "    \"\"\"Calcula el cuadrado de un número.\"\"\"\n",
    "    return n * n\n",
    "\n",
    "numeros = range(1, 10)\n",
    "\n",
    "# Ejecutar en paralelo con multiprocessing\n",
    "with multiprocessing.Pool() as pool:\n",
    "    resultados = pool.map(calcular_cuadrado, numeros)\n",
    "\n",
    "print(resultados)  # Salida: [1, 4, 9, 16, 25, 36, 49, 64, 81]"
   ]
  },
  {
   "cell_type": "markdown",
   "metadata": {},
   "source": [
    "5️⃣ Uso de map() y filter() en lugar de Bucles Tradicionales\n",
    "\n",
    "Las funciones map() y filter() son más rápidas que los bucles for, ya que usan optimizaciones internas.\n",
    "\n",
    "✅ Ejemplo: Elevar una lista al cuadrado con map()"
   ]
  },
  {
   "cell_type": "code",
   "execution_count": 1,
   "metadata": {},
   "outputs": [
    {
     "name": "stdout",
     "output_type": "stream",
     "text": [
      "[1, 4, 9, 16, 25]\n"
     ]
    }
   ],
   "source": [
    "numeros = [1, 2, 3, 4, 5]\n",
    "cuadrados = list(map(lambda x: x**2, numeros))\n",
    "print(cuadrados)  # Salida: [1, 4, 9, 16, 25]"
   ]
  },
  {
   "cell_type": "markdown",
   "metadata": {},
   "source": [
    "🔹 Más eficiente que un bucle for, ya que usa operaciones internas optimizadas."
   ]
  },
  {
   "cell_type": "markdown",
   "metadata": {},
   "source": [
    "📌 En conclusión:\n",
    "\n",
    "Optimizar código con funciones permite ahorrar memoria, reducir tiempos de ejecución y mejorar el rendimiento.\n",
    "\n",
    "Las mejores estrategias incluyen:\n",
    "\n",
    "    ✅ Memoization y caché (lru_cache) → Evita cálculos repetitivos.\n",
    "    ✅ Generadores (yield) → Procesa datos sin cargarlos en memoria.\n",
    "    ✅ Operaciones vectorizadas (NumPy) → Mucho más rápidas que los bucles.\n",
    "    ✅ Paralelización (multiprocessing) → Ejecuta tareas en múltiples núcleos.\n",
    "    ✅ Funciones optimizadas (map(), filter()) → Evitan iteraciones manuales innecesarias.\n",
    "\n",
    "Estas técnicas son clave en aplicaciones de alto rendimiento, big data y ciencia de datos."
   ]
  },
  {
   "cell_type": "markdown",
   "metadata": {},
   "source": [
    "#### -- Comparación entre funciones definidas por el usuario y funciones integradas (ejemplo: *len()*, *sum()*, entre otras)"
   ]
  },
  {
   "cell_type": "markdown",
   "metadata": {},
   "source": [
    "En Python, podemos utilizar tanto funciones definidas por el usuario como funciones integradas para resolver problemas. Sin embargo, cada una tiene ventajas y desventajas según el contexto de uso."
   ]
  },
  {
   "cell_type": "markdown",
   "metadata": {},
   "source": [
    "1️⃣ Definiciones\n",
    "\n",
    "📌 Funciones Integradas (Built-in Functions)\n",
    "\n",
    "Son funciones predefinidas en Python que permiten realizar tareas comunes sin necesidad de escribir código adicional. Ejemplos incluyen sum(), len(), max(), min(), sorted(), etc.\n",
    "\n",
    "📌 Funciones Definidas por el Usuario\n",
    "\n",
    "Son funciones creadas por el programador para realizar tareas específicas. Se definen con def y pueden aceptar parámetros y devolver valores."
   ]
  },
  {
   "cell_type": "markdown",
   "metadata": {},
   "source": [
    "2️⃣ Comparación de Características\n",
    "\n",
    "| Característica       | Funciones integradas| Funciones definidas por el usuario | \n",
    "|----------------------|---------------------|------------------------------------| \n",
    "| **Disponibilidad**   | Siempre disponibles | Deben ser definidas previamente | \n",
    "| **Optimización**     | Altamente optimizadas | Dependen de la implementación del usuario | \n",
    "| **Facilidad de uso** | Más fáciles de usar, sin necesidad de escribir código adicional | Requieren implementación y pruebas |\n",
    "| **Flexibilidad**     | Limitadas a su funcionalidad predefinida | Se pueden personalizar para necesidades específicas | \n",
    "| **Velocidad**        | Más rápidas porque están optimizadas en C | Pueden ser más lentas si no están bien optimizadas | "
   ]
  },
  {
   "cell_type": "markdown",
   "metadata": {},
   "source": [
    "3️⃣ Comparación con Ejemplos Prácticos\n",
    "\n",
    "✅ Ejemplo 1: Sumar elementos de una lista\n",
    "\n",
    "🔹 Usando función integrada sum() (rápido y eficiente)"
   ]
  },
  {
   "cell_type": "code",
   "execution_count": 2,
   "metadata": {},
   "outputs": [
    {
     "name": "stdout",
     "output_type": "stream",
     "text": [
      "15\n"
     ]
    }
   ],
   "source": [
    "numeros = [1, 2, 3, 4, 5]\n",
    "print(sum(numeros))  # Salida: 15"
   ]
  },
  {
   "cell_type": "markdown",
   "metadata": {},
   "source": [
    "🔹 Usando una función definida por el usuario"
   ]
  },
  {
   "cell_type": "code",
   "execution_count": 3,
   "metadata": {},
   "outputs": [
    {
     "name": "stdout",
     "output_type": "stream",
     "text": [
      "15\n"
     ]
    }
   ],
   "source": [
    "def suma_lista(lista):\n",
    "    \"\"\"Suma todos los elementos de una lista.\"\"\"\n",
    "    total = 0\n",
    "    for num in lista:\n",
    "        total += num\n",
    "    return total\n",
    "\n",
    "print(suma_lista(numeros))  # Salida: 15"
   ]
  },
  {
   "cell_type": "markdown",
   "metadata": {},
   "source": [
    "🚀 Conclusión: sum() es más rápida y eficiente porque está optimizada en C."
   ]
  },
  {
   "cell_type": "markdown",
   "metadata": {},
   "source": [
    "✅ Ejemplo 2: Encontrar el máximo en una lista\n",
    "\n",
    "🔹 Usando max()"
   ]
  },
  {
   "cell_type": "code",
   "execution_count": 4,
   "metadata": {},
   "outputs": [
    {
     "name": "stdout",
     "output_type": "stream",
     "text": [
      "99\n"
     ]
    }
   ],
   "source": [
    "numeros = [10, 35, 67, 99, 4, 2]\n",
    "print(max(numeros))  # Salida: 99"
   ]
  },
  {
   "cell_type": "markdown",
   "metadata": {},
   "source": [
    "🔹 Usando una función personalizada"
   ]
  },
  {
   "cell_type": "code",
   "execution_count": 5,
   "metadata": {},
   "outputs": [
    {
     "name": "stdout",
     "output_type": "stream",
     "text": [
      "99\n"
     ]
    }
   ],
   "source": [
    "def encontrar_maximo(lista):\n",
    "    \"\"\"Devuelve el número mayor de una lista.\"\"\"\n",
    "    mayor = lista[0]\n",
    "    for num in lista:\n",
    "        if num > mayor:\n",
    "            mayor = num\n",
    "    return mayor\n",
    "\n",
    "print(encontrar_maximo(numeros))  # Salida: 99"
   ]
  },
  {
   "cell_type": "markdown",
   "metadata": {},
   "source": [
    "🚀 Conclusión: max() es más eficiente, pero la función definida por el usuario permite personalización, como ignorar ciertos valores."
   ]
  },
  {
   "cell_type": "markdown",
   "metadata": {},
   "source": [
    "✅ Ejemplo 3: Ordenar una lista de números\n",
    "\n",
    "🔹 Usando sorted()"
   ]
  },
  {
   "cell_type": "code",
   "execution_count": 6,
   "metadata": {},
   "outputs": [
    {
     "name": "stdout",
     "output_type": "stream",
     "text": [
      "[1, 1, 3, 4, 5, 9]\n"
     ]
    }
   ],
   "source": [
    "numeros = [3, 1, 4, 1, 5, 9]\n",
    "print(sorted(numeros))  # Salida: [1, 1, 3, 4, 5, 9]"
   ]
  },
  {
   "cell_type": "markdown",
   "metadata": {},
   "source": [
    "🔹 Usando una implementación personalizada (Bubble Sort)"
   ]
  },
  {
   "cell_type": "code",
   "execution_count": 7,
   "metadata": {},
   "outputs": [
    {
     "name": "stdout",
     "output_type": "stream",
     "text": [
      "[1, 1, 3, 4, 5, 9]\n"
     ]
    }
   ],
   "source": [
    "def ordenar_lista(lista):\n",
    "    \"\"\"Ordena una lista usando el algoritmo Bubble Sort.\"\"\"\n",
    "    n = len(lista)\n",
    "    for i in range(n):\n",
    "        for j in range(0, n-i-1):\n",
    "            if lista[j] > lista[j+1]:\n",
    "                lista[j], lista[j+1] = lista[j+1], lista[j]  # Intercambio\n",
    "    return lista\n",
    "\n",
    "print(ordenar_lista(numeros[:]))  # Salida: [1, 1, 3, 4, 5, 9]"
   ]
  },
  {
   "cell_type": "markdown",
   "metadata": {},
   "source": [
    "🚀 Conclusión: sorted() usa algoritmos mucho más eficientes (Timsort) y es más rápida que implementar un algoritmo de ordenamiento básico."
   ]
  },
  {
   "cell_type": "markdown",
   "metadata": {},
   "source": [
    "✅ Ejemplo 4: Filtrar números pares\n",
    "\n",
    "🔹 Usando filter() con lambda"
   ]
  },
  {
   "cell_type": "code",
   "execution_count": 8,
   "metadata": {},
   "outputs": [
    {
     "name": "stdout",
     "output_type": "stream",
     "text": [
      "[2, 4, 6]\n"
     ]
    }
   ],
   "source": [
    "numeros = [1, 2, 3, 4, 5, 6]\n",
    "pares = list(filter(lambda x: x % 2 == 0, numeros))\n",
    "print(pares)  # Salida: [2, 4, 6]"
   ]
  },
  {
   "cell_type": "markdown",
   "metadata": {},
   "source": [
    "🔹 Usando una función personalizada"
   ]
  },
  {
   "cell_type": "code",
   "execution_count": 9,
   "metadata": {},
   "outputs": [
    {
     "name": "stdout",
     "output_type": "stream",
     "text": [
      "[2, 4, 6]\n"
     ]
    }
   ],
   "source": [
    "def filtrar_pares(lista):\n",
    "    \"\"\"Devuelve una nueva lista con solo los números pares.\"\"\"\n",
    "    resultado = []\n",
    "    for num in lista:\n",
    "        if num % 2 == 0:\n",
    "            resultado.append(num)\n",
    "    return resultado\n",
    "\n",
    "print(filtrar_pares(numeros))  # Salida: [2, 4, 6]"
   ]
  },
  {
   "cell_type": "markdown",
   "metadata": {},
   "source": [
    "🚀 Conclusión: filter() es más eficiente y usa menos código."
   ]
  },
  {
   "cell_type": "markdown",
   "metadata": {},
   "source": [
    "4️⃣ ¿Cuándo Usar Cada Tipo de Función?\n",
    "\n",
    "| Situación                                                         | Uso Funciones Integradas| Uso Funciones Definidas por el Usuario | \n",
    "|-------------------------------------------------------------------|---------------------|------------------------------------| \n",
    "| **Cálculos estándar (suma, máximo, ordenamiento, etc.)**          | ✅ Sí | ❌ No | \n",
    "| **Optimización y velocidad**                                      | ✅ Sí (están optimizadas en C) | ❌ No (más lentas si no están optimizadas) | \n",
    "| **Necesidad de personalización**                                  | ❌ No | ✅ Sí |\n",
    "| **Funciones especializadas (procesamiento de datos, APIs, etc.)** | ❌ No | ✅ Sí | \n"
   ]
  },
  {
   "cell_type": "markdown",
   "metadata": {},
   "source": [
    "5️⃣ Por tanto:\n",
    "\n",
    "    Las funciones integradas en Python son rápidas, eficientes y fáciles de usar. Deben preferirse siempre que cubran la necesidad.\n",
    "    Las funciones definidas por el usuario permiten personalización y flexibilidad, aunque pueden ser menos eficientes si no están bien optimizadas.\n",
    "    Mejor práctica: Usar funciones integradas siempre que sea posible y solo definir funciones personalizadas si se necesita lógica específica."
   ]
  },
  {
   "cell_type": "markdown",
   "metadata": {},
   "source": [
    "## 🟢 Sección 3. Conclusiones de la investigación"
   ]
  },
  {
   "cell_type": "markdown",
   "metadata": {},
   "source": [
    "#### -- Principales hallazgos."
   ]
  },
  {
   "cell_type": "markdown",
   "metadata": {},
   "source": [
    "Al cabo de la realización de la presente investigación, el uso de funciones en Python en distintos contextos, se identifican hallazgos clave que destacan su importancia, optimización y aplicación en problemas reales.\n",
    "\n",
    "1️⃣ Las Funciones Son la Base de la Modularidad en Python\n",
    "\n",
    "    - Permiten descomponer problemas complejos en partes más manejables.\n",
    "    - Facilitan la reutilización del código, reduciendo la redundancia y mejorando la mantenibilidad.\n",
    "    - Siguen el principio DRY (Don’t Repeat Yourself), promoviendo la eficiencia en el desarrollo de software.\n",
    "\n",
    "2️⃣ Tipos de Funciones y Su Aplicación en Problemas Reales\n",
    "\n",
    "Diferentes tipos de funciones permiten abordar problemas específicos:\n",
    "\n",
    "| Tipo de Función                 | Uso Principal| Ejemplo de Aplicación | \n",
    "|---------------------------------|--------------|-----------------------| \n",
    "| **Funciones con y sin retorno** | Reutilización de código y modularidad | Procesamiento de datos numéricos | \n",
    "| ***args y **kwargs**            | Parámetros dinámicos y flexibilidad | Creación de funciones genéricas | \n",
    "| **Funciones lambda**            | Operaciones rápidas y anónimas | Filtrado y transformación de listas |\n",
    "| **Funciones recursivas**        | Problemas que se pueden dividir en subproblemas más pequeños | Cálculo de Fibonacci, factoriales | \n",
    "| **Generadores (yield)**         | Optimización de memoria | Procesamiento de grandes volúmenes de datos | \n",
    "| **Closures y Decoradores**      | Mejora en la organización y extensión de funcionalidades | Logging, medición de tiempo, autenticación | \n",
    "\n",
    "3️⃣ Impacto de las Funciones en el Procesamiento de Datos\n",
    "\n",
    "    - Las funciones son esenciales en la manipulación, transformación y análisis de datos.\n",
    "    - Se usan en listas, diccionarios y tuplas para filtrar, transformar y extraer información.\n",
    "\n",
    "4️⃣ Funciones como Herramienta de Optimización del Rendimiento\n",
    "\n",
    "    - Las funciones no solo organizan código, sino que también mejoran la eficiencia del programa cuando se combinan con técnicas avanzadas.\n",
    "\n",
    "5️⃣ Comparación entre Funciones Integradas y Definidas por el Usuario\n",
    "\n",
    "    - Las funciones integradas de Python (sum(), max(), sorted()) están altamente optimizadas y deberían preferirse sobre funciones definidas por el usuario cuando sea posible.\n",
    "\n",
    "6️⃣ Hallazgos Finales y Recomendaciones\n",
    "\n",
    "🔹 Las funciones son esenciales para escribir código eficiente y estructurado.\n",
    "        Permiten dividir problemas complejos en partes manejables.\n",
    "        Mejoran la reutilización y modularidad en el código.\n",
    "\n",
    "🔹 Las funciones optimizadas mejoran el rendimiento del software.\n",
    "        Uso de memoization (lru_cache), NumPy, generadores (yield) y multiprocessing.\n",
    "        Evitar bucles innecesarios y aprovechar funciones vectorizadas.\n",
    "\n",
    "🔹 Se debe priorizar el uso de funciones integradas de Python.\n",
    "        Son más rápidas y eficientes que las funciones personalizadas cuando cumplen con la necesidad.\n",
    "        \n",
    "🔹 Las funciones personalizadas son clave cuando se requiere lógica específica.\n",
    "        Son útiles cuando se necesita flexibilidad, personalización y abstracción en el código."
   ]
  },
  {
   "cell_type": "markdown",
   "metadata": {},
   "source": [
    "#### -- Comentario/Opición personal sobre el uso de las funciones.\n",
    "\n",
    "Las funciones en Python no solo facilitan la organización del código, sino que también optimizan el rendimiento cuando se aplican correctamente. El conocimiento de funciones avanzadas, junto con el uso de funciones integradas eficientes, permite desarrollar software más rápido, escalable y sostenible, por tanto, dominar el uso de funciones es clave para escribir código Python eficiente, limpio y de alto rendimiento."
   ]
  },
  {
   "cell_type": "markdown",
   "metadata": {},
   "source": [
    "#### -- Referencias empleadas.\n",
    "\n",
    "NetAcad Python Course"
   ]
  }
 ],
 "metadata": {
  "kernelspec": {
   "display_name": "Python 3",
   "language": "python",
   "name": "python3"
  },
  "language_info": {
   "codemirror_mode": {
    "name": "ipython",
    "version": 3
   },
   "file_extension": ".py",
   "mimetype": "text/x-python",
   "name": "python",
   "nbconvert_exporter": "python",
   "pygments_lexer": "ipython3",
   "version": "3.13.1"
  }
 },
 "nbformat": 4,
 "nbformat_minor": 2
}
