{
 "cells": [
  {
   "cell_type": "markdown",
   "metadata": {},
   "source": [
    "# 📌 Programación Orientada a Objetos(POO) en Python\n",
    "## Autor: Héctor Luis Guerrero Quirós\n",
    "### Fecha: 06-02-2025\n",
    "\n",
    "## 1. Introducción a la POO \n",
    "- ¿Qué es la POO? \n",
    "- Características principales \n",
    "- Comparación con la programación estructurada \n",
    "  \n",
    "## 2. Conceptos Claves de la POO \n",
    "- Clases y Objetos \n",
    "- Atributos y Métodos \n",
    "- Encapsulamiento \n",
    "- Herencia \n",
    "- Polimorfismo \n",
    "  \n",
    "## 3. Ejemplos Prácticos de cada Concepto \n",
    "- Definir una clase simple \n",
    "- Crear y manipular objetos \n",
    "- Aplicar herencia y polimorfismo \n",
    "  \n",
    "## 4. Desarrollo de un Proyecto Aplicado \n",
    "- Descripción del proyecto \n",
    "- Implementación paso a paso \n",
    "  \n",
    "--- \n",
    "  \n",
    "## 🟢 1. Introducción a la POO \n",
    "La **Programación Orientada a Objetos (POO)** es un paradigma de programación basado en la idea de modelar entidades del mundo real a través de **objetos**. \n",
    "  \n",
    "### ✅ Características clave de la POO: \n",
    "- **Abstracción:** Modela objetos del mundo real en código. \n",
    "- **Encapsulamiento:** Protege los datos y métodos dentro de una clase. \n",
    "- **Herencia:** Permite reutilizar código mediante la relación padre-hijo. \n",
    "- **Polimorfismo:** Usa el mismo método con diferentes implementaciones. \n",
    "  \n",
    "### 📌 Diferencia entre programación estructurada y POO: \n",
    "  \n",
    "| Característica       | Programación Estructurada | Programación Orientada a Objetos | \n",
    "|---------------------|------------------------|--------------------------------| \n",
    "| **Organización**   | Basada en funciones    | Basada en clases y objetos    | \n",
    "| **Reutilización**  | Baja                   | Alta                          | \n",
    "| **Mantenimiento**  | Más complejo           | Más modular y escalable      | \n",
    "\n",
    "## 🟡 2. Conceptos Claves de la POO en Python\n",
    "📌 Clases y Objetos\n",
    "En Python, una clase *es un modelo que define la estructura y comportamiento de un objeto*. Un objeto es una instancia de una clase."
   ]
  },
  {
   "cell_type": "code",
   "execution_count": null,
   "metadata": {},
   "outputs": [
    {
     "name": "stdout",
     "output_type": "stream",
     "text": [
      "El objeto 1887619893632 tiene el atributo nombre como Emmanuel Alfaro Montoya\n",
      "El objeto 1887617951824 tiene el atributo nombre como Mariana Villalobos\n",
      "El objeto 1887617955344 tiene el atributo nombre como Andrés Mena\n",
      "Hola, mi nombre es Emmanuel Alfaro Montoya y tengo 28 años\n",
      "El objeto no pueda saludar, porque esta declarado como muerto\n"
     ]
    }
   ],
   "source": [
    "# Como crea una clase op1: Hector\n",
    "\n",
    "class Persona: \n",
    "    def __init__(self, name, age):\n",
    "        self.nombre = name\n",
    "        self.edad = age\n",
    "        self.vivo = True\n",
    "        self.materias = []\n",
    "        \n",
    "    def saludar(self): #método\n",
    "        if self.vivo:\n",
    "            print(f'Hola, mi nombre es {self.nombre} y tengo {self.edad} años')\n",
    "        else:\n",
    "            print('El objeto no pueda saludar, porque esta declarado como muerto')\n",
    "    def imprimir_materias(self):\n",
    "            print(*self.materias)\n",
    "\n",
    "estudiante = Persona('Emmanuel Alfaro Montoya', 28)\n",
    "estudiante2 = Persona('Mariana Villalobos', 25)\n",
    "profesor = Persona('Andrés Mena', 33)\n",
    "\n",
    "print(f'El objeto {id(estudiante)} tiene el atributo nombre como {estudiante.nombre}')\n",
    "print(f'El objeto {id(estudiante2)} tiene el atributo nombre como {estudiante2.nombre}')\n",
    "print(f'El objeto {id(profesor)} tiene el atributo nombre como {profesor.nombre}')\n",
    "\n",
    "#Llamada a un metodo de la clase\n",
    "estudiante.saludar()\n",
    "profesor.vivo = False\n",
    "profesor.saludar()\n",
    "\n"
   ]
  },
  {
   "cell_type": "code",
   "execution_count": 6,
   "metadata": {},
   "outputs": [
    {
     "name": "stdout",
     "output_type": "stream",
     "text": [
      "El objeto 1887619894640 tiene el atributo nombre como Héctor\n",
      "El objeto 1887617955664 tiene el atributo nombre como Luci\n",
      "El objeto 1887617951824 tiene el atributo nombre como Andres\n"
     ]
    }
   ],
   "source": [
    "# Como crea una clase op2\n",
    "\n",
    "class Persona: \n",
    "    def __init__(self):\n",
    "        self.nombre = input('Ingrese su nombre por favor: ')\n",
    "        self.edad = int(input('Ingrese su edad por favor: '))\n",
    "\n",
    "estudiante = Persona()\n",
    "estudiante2 = Persona()\n",
    "profesor = Persona()\n",
    "\n",
    "print(f'El objeto {id(estudiante)} tiene el atributo nombre como {estudiante.nombre}')\n",
    "print(f'El objeto {id(estudiante2)} tiene el atributo nombre como {estudiante2.nombre}')\n",
    "print(f'El objeto {id(profesor)} tiene el atributo nombre como {profesor.nombre}')"
   ]
  },
  {
   "cell_type": "code",
   "execution_count": 12,
   "metadata": {},
   "outputs": [
    {
     "name": "stdout",
     "output_type": "stream",
     "text": [
      "El objetos 1887619895312 tiene el atributo nombre como Emmanuel Alfaro\n",
      "El objetos 1887617956944 tiene el atributo nombre como Mariana Villalobos\n",
      "El objetos 1887617951824 tiene el atributo nombre como Andrés Mena\n",
      "Hola, mi nombre es Emmanuel Alfaro y tengo 28 años\n",
      "Matematicas Historia Biologia\n",
      "\n",
      "Este objeto Andrés Mena  no puede saludar, porque esta declarado como Inactivo\n"
     ]
    }
   ],
   "source": [
    "# Como crea una clase op1: Profesor\n",
    "\n",
    "#Como crear una clase\n",
    "class Persona:\n",
    "    def __init__(self,nombre,age):\n",
    "        self.nombre = nombre\n",
    "        self.edad = age\n",
    "        self.activo = True\n",
    "        self.materias = []\n",
    "\n",
    "\n",
    "    def saludar(self): #Método\n",
    "        if self.activo:\n",
    "            print(f'Hola, mi nombre es {self.nombre} y tengo {self.edad} años')\n",
    "        else:\n",
    "            print(f'Este objeto {self.nombre}  no puede saludar, porque esta declarado como Inactivo')\n",
    "    def imprimir_materias(self):\n",
    "        print(*self.materias) \n",
    "    \n",
    "estudiante = Persona('Emmanuel Alfaro',28)\n",
    "estudiante2 = Persona('Mariana Villalobos', 25)\n",
    "profesor = Persona('Andrés Mena',33)\n",
    "\n",
    "\n",
    "\n",
    "\n",
    "print (f'El objetos {id(estudiante)} tiene el atributo nombre como {estudiante.nombre}')\n",
    "print (f'El objetos {id(estudiante2)} tiene el atributo nombre como {estudiante2.nombre}')\n",
    "print (f'El objetos {id(profesor)} tiene el atributo nombre como {profesor.nombre}')\n",
    "\n",
    "\n",
    "#Llamada a un método de la clase\n",
    "estudiante.saludar()\n",
    "estudiante.materias = ['Matematicas','Historia','Biologia']\n",
    "estudiante.imprimir_materias()\n",
    "\n",
    "\n",
    "\n",
    "profesor.activo = False\n",
    "profesor.imprimir_materias()\n",
    "profesor.saludar()"
   ]
  },
  {
   "cell_type": "markdown",
   "metadata": {},
   "source": [
    "📌 Atributos y Métodos\n",
    "Los atributos representan las propiedades de un objeto, y los métodos son las funciones que definen su comportamiento."
   ]
  },
  {
   "cell_type": "code",
   "execution_count": null,
   "metadata": {},
   "outputs": [
    {
     "name": "stdout",
     "output_type": "stream",
     "text": [
      "El carro matricula 123ASD, marca Mitsumichi Lancer\n",
      "----REPORTE DE FALLAS---\n",
      "Llanta baja\n",
      "El carro matricula 123ASD, marca Mitsumichi Lancer\n",
      "----REPORTE DE FALLAS---\n",
      "Llanta baja\n"
     ]
    }
   ],
   "source": [
    "# Crear una clase\n",
    "\n",
    "class carro:\n",
    "    def __init__(self, num_matricula, modelo, marca):\n",
    "        self.matricula = num_matricula\n",
    "        self.modelo = modelo\n",
    "        self.marca = marca\n",
    "        self.encendido = True\n",
    "        self.fallas = []\n",
    "        \n",
    "    def reporte_fallas(self):\n",
    "        self.fallas.append(input(\"Ingrese el detalle del reporte de la falla: \"))\n",
    "        \n",
    "    def reporte_estado(self):\n",
    "        print(f'El carro matricula {self.matricula}, marca {self.marca}')\n",
    "        print('----REPORTE DE FALLAS---')\n",
    "        for elemento in self.fallas:\n",
    "            print(elemento)\n",
    "        \n",
    "mi_carro = carro('123ASD', 2017, 'Mitsumichi Lancer')\n",
    "mi_carro_trabajo = carro('QWERTY', 2025, 'Toyota Hilux')\n",
    "\n",
    "mi_carro.reporte_fallas()\n",
    "mi_carro.reporte_estado()\n",
    "\n",
    "mi_cochera = [mi_carro, mi_carro_trabajo]\n",
    "\n",
    "mi_carro.reporte_estado()\n",
    "\n",
    "#print(mi_carro.marca)\n",
    "#print(mi_carro_trabajo.marca)\n",
    "\n"
   ]
  },
  {
   "cell_type": "markdown",
   "metadata": {},
   "source": [
    "# 📝 Ejercicios POO en Python  \n",
    "\n",
    "\n",
    "## 📌 Ejercicio 1: Calculadora de Descuento  \n",
    "📍 **Objetivo:** Crear una clase que calcule el precio final de un producto aplicando un descuento.  \n",
    "\n",
    "\n",
    "### 🔹 **Instrucciones:**  \n",
    "1. Crear una clase llamada `Producto` con los siguientes atributos:  \n",
    "   - `nombre` (nombre del producto)  \n",
    "   - `precio` (precio original del producto)  \n",
    "   - `descuento` (porcentaje de descuento en decimal, por ejemplo, 0.2 para 20%)  \n",
    "2. Implementar un método llamado `precio_final()` que retorne el precio con el descuento aplicado.  \n",
    "3. Crear un objeto de la clase con un producto de tu elección y mostrar el precio final.  \n",
    "\n",
    "\n",
    "### 🔹 **Ejemplo de uso esperado:**  \n",
    "```python\n",
    "mi_producto = Producto(\"Zapatos\", 50.0, 0.15) \n",
    "print(f\"El precio final de {mi_producto.nombre} es: ${mi_producto.precio_final()}\")"
   ]
  },
  {
   "cell_type": "code",
   "execution_count": 16,
   "metadata": {},
   "outputs": [
    {
     "name": "stdout",
     "output_type": "stream",
     "text": [
      "El precio final de la Laptop con el descuento es: $850.00\n"
     ]
    }
   ],
   "source": [
    "class Producto:\n",
    "    # Constructor para inicializar los atributos\n",
    "    def __init__(self, nombre, precio, descuento):\n",
    "        self.nombre = nombre\n",
    "        self.precio = precio\n",
    "        self.descuento = descuento\n",
    "\n",
    "    # Método para calcular y retornar el precio final con el descuento aplicado\n",
    "    def precio_final(self):\n",
    "        precio_con_descuento = self.precio * (1 - self.descuento)\n",
    "        return precio_con_descuento\n",
    "\n",
    "# Crear un objeto de la clase Producto\n",
    "producto1 = Producto(\"Laptop\", 1000, 0.15)  # Producto: Laptop, Precio: 1000, Descuento: 15%\n",
    "\n",
    "# Mostrar el precio final con el descuento aplicado\n",
    "precio = producto1.precio_final()\n",
    "print(f\"El precio final de la {producto1.nombre} con el descuento es: ${precio:.2f}\")\n"
   ]
  },
  {
   "cell_type": "markdown",
   "metadata": {},
   "source": [
    "## 📌 Ejercicio 2: Registro de Estudiantes  \n",
    "📍 **Objetivo:** Crear una clase para almacenar información de estudiantes y mostrar sus datos.  \n",
    "\n",
    "\n",
    "### 🔹 Instrucciones:  \n",
    "\n",
    "\n",
    "1. Crear una clase llamada `Estudiante` con los siguientes atributos:  \n",
    "   - `nombre`  \n",
    "   - `edad`  \n",
    "   - `grado`  \n",
    "\n",
    "\n",
    "2. Implementar un método llamado `mostrar_info()` que imprima la información del estudiante en un formato legible.  \n",
    "\n",
    "\n",
    "3. Crear **dos instancias** de la clase `Estudiante` y llamar al método `mostrar_info()` en cada una. "
   ]
  },
  {
   "cell_type": "code",
   "execution_count": 15,
   "metadata": {},
   "outputs": [
    {
     "name": "stdout",
     "output_type": "stream",
     "text": [
      "Nombre: Juan Pérez\n",
      "Edad: 20\n",
      "Grado: Segundo año\n",
      "Nombre: Pedro Pérez\n",
      "Edad: 25\n",
      "Grado: Tercer año\n"
     ]
    }
   ],
   "source": [
    "class Estudiante:\n",
    "    # Constructor para inicializar los atributos\n",
    "    def __init__(self, nombre, edad, grado):\n",
    "        self.nombre = nombre\n",
    "        self.edad = edad\n",
    "        self.grado = grado\n",
    "\n",
    "    # Método para mostrar la información del estudiante\n",
    "    def mostrar_info(self):\n",
    "        print(f\"Nombre: {self.nombre}\")\n",
    "        print(f\"Edad: {self.edad}\")\n",
    "        print(f\"Grado: {self.grado}\")\n",
    "\n",
    "# Crear un objeto de la clase Estudiante\n",
    "estudiante1 = Estudiante(\"Juan Pérez\", 20, \"Segundo año\")\n",
    "estudiante2 = Estudiante(\"Pedro Pérez\", 25, \"Tercer año\")\n",
    "\n",
    "# Mostrar la información del estudiante\n",
    "estudiante1.mostrar_info()\n",
    "estudiante2.mostrar_info()"
   ]
  },
  {
   "cell_type": "code",
   "execution_count": 19,
   "metadata": {},
   "outputs": [
    {
     "name": "stdout",
     "output_type": "stream",
     "text": [
      "\n",
      "Información de los estudiantes registrados:\n",
      "Nombre: Nadia\n",
      "Edad: 23\n",
      "Grado: Tercero\n",
      "------------------------------\n",
      "Nombre: Berta\n",
      "Edad: 24\n",
      "Grado: Quinto\n",
      "------------------------------\n"
     ]
    }
   ],
   "source": [
    "class Estudiante:\n",
    "    # Constructor para inicializar los atributos\n",
    "    def __init__(self, nombre, edad, grado):\n",
    "        self.nombre = nombre\n",
    "        self.edad = edad\n",
    "        self.grado = grado\n",
    "\n",
    "    # Método para mostrar la información del estudiante\n",
    "    def mostrar_info(self):\n",
    "        print(f\"Nombre: {self.nombre}\")\n",
    "        print(f\"Edad: {self.edad}\")\n",
    "        print(f\"Grado: {self.grado}\")\n",
    "\n",
    "# Lista para almacenar los estudiantes\n",
    "estudiantes = []\n",
    "\n",
    "# Ciclo para agregar estudiantes\n",
    "while True:\n",
    "    # Pedir los datos del estudiante\n",
    "    nombre = input(\"Ingrese el nombre del estudiante: \")\n",
    "    edad = int(input(\"Ingrese la edad del estudiante: \"))\n",
    "    grado = input(\"Ingrese el grado del estudiante: \")\n",
    "\n",
    "    # Crear un objeto Estudiante\n",
    "    estudiante = Estudiante(nombre, edad, grado)\n",
    "\n",
    "    # Agregar el estudiante a la lista\n",
    "    estudiantes.append(estudiante)\n",
    "\n",
    "    # Preguntar si desea agregar otro estudiante\n",
    "    continuar = input(\"¿Desea agregar otro estudiante? (sí/no): \").lower()\n",
    "    if continuar != 'sí':\n",
    "        break  # Salir del ciclo si no quiere agregar más estudiantes\n",
    "\n",
    "# Mostrar la información de todos los estudiantes\n",
    "print(\"\\nInformación de los estudiantes registrados:\")\n",
    "for estudiante in estudiantes:\n",
    "    estudiante.mostrar_info()\n",
    "    print(\"-\" * 30)  # Línea separadora para mejor visualización\n"
   ]
  },
  {
   "cell_type": "markdown",
   "metadata": {},
   "source": [
    "### 📌 Encapsulamiento\n",
    "El encapsulamiento oculta detalles internos de un objeto para restringir el acceso a sus atributos.\n",
    "\n",
    "\n",
    "\n",
    "🔒 __saldo es un atributo privado, solo accesible desde métodos de la misma clase."
   ]
  },
  {
   "cell_type": "code",
   "execution_count": 20,
   "metadata": {},
   "outputs": [
    {
     "name": "stdout",
     "output_type": "stream",
     "text": [
      "El saldo de la cuenta es: 450\n"
     ]
    }
   ],
   "source": [
    "class CuentaBancaria:\n",
    "    def __init__(self, titular, saldo):\n",
    "        self.titular = titular\n",
    "        self.saldo = saldo\n",
    "        \n",
    "cuenta_ahorros = CuentaBancaria('Kevin', 450)\n",
    "\n",
    "print(f'El saldo de la cuenta es: {cuenta_ahorros.saldo}')"
   ]
  },
  {
   "cell_type": "code",
   "execution_count": 21,
   "metadata": {},
   "outputs": [
    {
     "ename": "AttributeError",
     "evalue": "'CuentaBancaria' object has no attribute 'saldo'",
     "output_type": "error",
     "traceback": [
      "\u001b[1;31m---------------------------------------------------------------------------\u001b[0m",
      "\u001b[1;31mAttributeError\u001b[0m                            Traceback (most recent call last)",
      "Cell \u001b[1;32mIn[21], line 8\u001b[0m\n\u001b[0;32m      4\u001b[0m         \u001b[38;5;28mself\u001b[39m\u001b[38;5;241m.\u001b[39m__saldo \u001b[38;5;241m=\u001b[39m saldo  \u001b[38;5;66;03m# Atributo privado\u001b[39;00m\n\u001b[0;32m      6\u001b[0m cuenta_ahorros \u001b[38;5;241m=\u001b[39m CuentaBancaria(\u001b[38;5;124m'\u001b[39m\u001b[38;5;124mKevin\u001b[39m\u001b[38;5;124m'\u001b[39m, \u001b[38;5;241m450\u001b[39m)\n\u001b[1;32m----> 8\u001b[0m \u001b[38;5;28mprint\u001b[39m(\u001b[38;5;124mf\u001b[39m\u001b[38;5;124m'\u001b[39m\u001b[38;5;124mEl saldo de la cuenta es: \u001b[39m\u001b[38;5;132;01m{\u001b[39;00m\u001b[43mcuenta_ahorros\u001b[49m\u001b[38;5;241;43m.\u001b[39;49m\u001b[43msaldo\u001b[49m\u001b[38;5;132;01m}\u001b[39;00m\u001b[38;5;124m'\u001b[39m)\n",
      "\u001b[1;31mAttributeError\u001b[0m: 'CuentaBancaria' object has no attribute 'saldo'"
     ]
    }
   ],
   "source": [
    "class CuentaBancaria:\n",
    "    def __init__(self, titular, saldo):\n",
    "        self.titular = titular\n",
    "        self.__saldo = saldo  # Atributo privado\n",
    "        \n",
    "cuenta_ahorros = CuentaBancaria('Kevin', 450)\n",
    "\n",
    "print(f'El saldo de la cuenta es: {cuenta_ahorros.saldo}')"
   ]
  },
  {
   "cell_type": "code",
   "execution_count": 26,
   "metadata": {},
   "outputs": [
    {
     "name": "stdout",
     "output_type": "stream",
     "text": [
      "El saldo de Andrés en la cuenta es: $550\n"
     ]
    }
   ],
   "source": [
    "class CuentaBancaria:\n",
    "    def __init__(self, titular, saldo):\n",
    "        self.titular = titular\n",
    "        self.__saldo = saldo  # Atributo privado\n",
    "    \n",
    "    def mostra_saldo(self):\n",
    "        print(f'El saldo de {self.titular} en la cuenta es: ${cuenta_ahorros.__saldo}')\n",
    "    \n",
    "    def depositar(self, cantidad):\n",
    "        self.__saldo += cantidad\n",
    "\n",
    "\n",
    "cuenta_ahorros = CuentaBancaria('Kevin', 450)\n",
    "cuenta_ahorros.titular = 'Andrés' #Modificar atributo público\n",
    "cuenta_ahorros.depositar(100)\n",
    "\n",
    "cuenta_ahorros.mostra_saldo()"
   ]
  },
  {
   "cell_type": "markdown",
   "metadata": {},
   "source": [
    "### 📌 Herencia\n",
    "La herencia permite que una clase hija herede atributos y métodos de una clase padre."
   ]
  },
  {
   "cell_type": "code",
   "execution_count": 29,
   "metadata": {},
   "outputs": [
    {
     "name": "stdout",
     "output_type": "stream",
     "text": [
      "Pancho Hace un sonido\n"
     ]
    }
   ],
   "source": [
    "class Animal:\n",
    "    def __init__(self, nombre):\n",
    "        self.nombre = nombre\n",
    "\n",
    "\n",
    "    def hacer_sonido(self):\n",
    "        return f\"{self.nombre} Hace un sonido\"\n",
    "    \n",
    "class perro(Animal): #Clase hija que hereda de la clase animal\n",
    "    pass\n",
    "\n",
    "pancho = perro('Pancho')\n",
    "\n",
    "print(pancho.hacer_sonido())"
   ]
  },
  {
   "cell_type": "code",
   "execution_count": 30,
   "metadata": {},
   "outputs": [
    {
     "name": "stdout",
     "output_type": "stream",
     "text": [
      "Guau guau\n"
     ]
    }
   ],
   "source": [
    "class Animal:\n",
    "    def __init__(self, nombre,especie='Mamifero'):\n",
    "        self.nombre = nombre\n",
    "        self.especie = especie\n",
    "\n",
    "    def hacer_sonido(self):\n",
    "        return f\" Hace un sonido\"\n",
    "    \n",
    "class perro(Animal): # Clase hija que Hereda de la clase animal\n",
    "    \n",
    "    def hacer_sonido(self):\n",
    "        return f\"Guau guau\"\n",
    "\n",
    "pancho = perro('Pancho','Mamifero')\n",
    "\n",
    "print(pancho.hacer_sonido())"
   ]
  },
  {
   "cell_type": "markdown",
   "metadata": {},
   "source": [
    "### 📌 Polimorfismo\n",
    "El polimorfismo permite usar un mismo método con diferentes implementaciones."
   ]
  },
  {
   "cell_type": "code",
   "execution_count": 31,
   "metadata": {},
   "outputs": [
    {
     "name": "stdout",
     "output_type": "stream",
     "text": [
      "Firulais : Guau guau\n",
      "Michi : Miau miau\n",
      "desconocido :  Hace un sonido\n"
     ]
    }
   ],
   "source": [
    "class gato(Animal):\n",
    "    def hacer_sonido(self):\n",
    "        return f\"Miau miau\"\n",
    "    \n",
    "animales = [perro('Firulais'),gato('Michi'),Animal('desconocido')]\n",
    "\n",
    "for animal in animales:\n",
    "    print(animal.nombre, \":\",animal.hacer_sonido())"
   ]
  }
 ],
 "metadata": {
  "kernelspec": {
   "display_name": "Python 3",
   "language": "python",
   "name": "python3"
  },
  "language_info": {
   "codemirror_mode": {
    "name": "ipython",
    "version": 3
   },
   "file_extension": ".py",
   "mimetype": "text/x-python",
   "name": "python",
   "nbconvert_exporter": "python",
   "pygments_lexer": "ipython3",
   "version": "3.13.1"
  }
 },
 "nbformat": 4,
 "nbformat_minor": 2
}
