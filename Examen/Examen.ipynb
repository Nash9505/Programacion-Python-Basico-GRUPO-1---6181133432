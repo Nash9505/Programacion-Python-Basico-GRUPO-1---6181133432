{
 "cells": [
  {
   "cell_type": "markdown",
   "metadata": {
    "azdata_cell_guid": "e738b43d-fda9-409b-9e4e-f356323e1dbc"
   },
   "source": [
    "# ProyectoFinal: Explorando Datos de Pacientes en una Clínica\n",
    "## Programacion Python Basico | ICAI - UNA\n",
    "## Profesor: Ing. Andrés Mena Abarca\n",
    "### <mark>**Nombre del estudiante:**</mark> Héctor Guerrero Quirós\n",
    "* * *"
   ]
  }
 ],
 "metadata": {
  "kernelspec": {
   "display_name": "Python 3",
   "language": "python",
   "name": "python3"
  },
  "language_info": {
   "codemirror_mode": {
    "name": "ipython",
    "version": 3
   },
   "file_extension": ".py",
   "mimetype": "text/x-python",
   "name": "python",
   "nbconvert_exporter": "python",
   "pygments_lexer": "ipython3",
   "version": "3.13.1"
  }
 },
 "nbformat": 4,
 "nbformat_minor": 2
}
