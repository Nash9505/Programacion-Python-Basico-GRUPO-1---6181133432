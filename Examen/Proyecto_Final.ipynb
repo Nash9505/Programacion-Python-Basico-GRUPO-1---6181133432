{
  "cells": [
    {
      "cell_type": "markdown",
      "id": "a62202dd",
      "metadata": {
        "id": "a62202dd"
      },
      "source": [
        "# Estudio de emisiones de Dioxido de Carbono"
      ]
    },
    {
      "cell_type": "markdown",
      "id": "8026dfad",
      "metadata": {},
      "source": [
        "## Estudiante: Héctor Luis Guerrero Quirós"
      ]
    },
    {
      "cell_type": "markdown",
      "id": "98d6cc2c",
      "metadata": {
        "id": "98d6cc2c"
      },
      "source": [
        "## Objetivo"
      ]
    },
    {
      "cell_type": "markdown",
      "id": "f6e5f5ed",
      "metadata": {
        "id": "f6e5f5ed"
      },
      "source": [
        "Cargar un archivo 'Carbon_Dioxide_Emission_Estimates.csv' responder las siguientes preguntas"
      ]
    },
    {
      "cell_type": "markdown",
      "id": "e21e6b1c",
      "metadata": {
        "id": "e21e6b1c"
      },
      "source": [
        "## Contexto\n"
      ]
    },
    {
      "cell_type": "markdown",
      "id": "c4c7df65",
      "metadata": {
        "id": "c4c7df65"
      },
      "source": [
        "Se tiene un set de datos contenido en un archivo del tipo csv.\n",
        "\n",
        "El archivo es 'Carbon_Dioxide_Emission_Estimates.csv'.\n",
        "\n",
        "A continuación se presenta el paso cero para leer del archivo que contiene 2 tipos de filas según sea el valor en la columna 'Type':\n",
        "\n",
        "- Emissions_thousand__metric_tons_of_carbon_dioxide\n",
        "- Emissions_per_capita__metric_tons_of_carbon_dioxide\n",
        "\n",
        "El valor de las emisiones están en medidas de Toneladas métricas de Dióxido de Carbono"
      ]
    },
    {
      "cell_type": "markdown",
      "id": "352UFM-aEWCT",
      "metadata": {
        "id": "352UFM-aEWCT"
      },
      "source": [
        "# Pregunta 0\n",
        "\n",
        "1. Crear un dataframe con el nombre de variable 'df_emisions_co2' usando únicamente las filas cuya columna 'Type' tiene el valor 'Emissions (thousand metric tons of carbon dioxide)'\n",
        "\n",
        "2. Crear un dataframe con el nombre de variable 'df_emisions_co2_per_capita' usando únicamente las filas cuya columna 'Type' tiene el valor Emissions per capita (metric tons of carbon dioxide)"
      ]
    },
    {
      "cell_type": "code",
      "execution_count": null,
      "id": "87f04b03",
      "metadata": {},
      "outputs": [
        {
          "name": "stdout",
          "output_type": "stream",
          "text": [
            "Emisiones Totales:\n",
            "   Country  Year                                               Type     Value\n",
            "0  Albania  1975  Emissions (thousand metric tons of carbon diox...  4338.334\n",
            "1  Albania  1985  Emissions (thousand metric tons of carbon diox...  6929.926\n",
            "2  Albania  1995  Emissions (thousand metric tons of carbon diox...  1848.549\n",
            "3  Albania  2005  Emissions (thousand metric tons of carbon diox...  3825.184\n",
            "4  Albania  2010  Emissions (thousand metric tons of carbon diox...  3930.295\n",
            "\n",
            "Emisiones Per Cápita:\n",
            "    Country  Year                                               Type  Value\n",
            "8   Albania  1975  Emissions per capita (metric tons of carbon di...  1.804\n",
            "9   Albania  1985  Emissions per capita (metric tons of carbon di...  2.337\n",
            "10  Albania  1995  Emissions per capita (metric tons of carbon di...  0.580\n",
            "11  Albania  2005  Emissions per capita (metric tons of carbon di...  1.270\n",
            "12  Albania  2010  Emissions per capita (metric tons of carbon di...  1.349\n"
          ]
        }
      ],
      "source": [
        "import pandas as pd\n",
        "\n",
        "# Cargar el archivo CSV\n",
        "df = pd.read_csv('Carbon_Dioxide_Emission_Estimates.csv')\n",
        "\n",
        "# Crear dataframe con emisiones totales\n",
        "df_emissions_co2 = df[df['Type'] == 'Emissions (thousand metric tons of carbon dioxide)']\n",
        "\n",
        "# Crear dataframe con emisiones per cápita\n",
        "df_emissions_co2_per_capita = df[df['Type'] == 'Emissions per capita (metric tons of carbon dioxide)']\n",
        "\n",
        "# Mostrar las primeras filas de cada dataframe para confirmar\n",
        "print(\"Emisiones Totales:\")\n",
        "print(df_emissions_co2.head())\n",
        "\n",
        "print(\"\\nEmisiones Per Cápita:\")\n",
        "print(df_emissions_co2_per_capita.head())"
      ]
    },
    {
      "cell_type": "markdown",
      "id": "d6bd6661",
      "metadata": {
        "id": "d6bd6661"
      },
      "source": [
        "# Pregunta 1"
      ]
    },
    {
      "cell_type": "markdown",
      "id": "3299b6b5",
      "metadata": {
        "id": "3299b6b5"
      },
      "source": [
        "Cuántas filas tiene el dataframe 'df_emisions_co2'?"
      ]
    },
    {
      "cell_type": "code",
      "execution_count": 5,
      "id": "f02d60cc",
      "metadata": {
        "id": "f02d60cc"
      },
      "outputs": [
        {
          "data": {
            "text/plain": [
              "1066"
            ]
          },
          "execution_count": 5,
          "metadata": {},
          "output_type": "execute_result"
        }
      ],
      "source": [
        "# Coloque el código que responda a la pregunta aqui\n",
        "\n",
        "num_rows_emissions_co2 = df_emissions_co2.shape[0]\n",
        "\n",
        "num_rows_emissions_co2"
      ]
    },
    {
      "cell_type": "markdown",
      "id": "880f891d",
      "metadata": {
        "id": "880f891d"
      },
      "source": [
        "# Pregunta 2"
      ]
    },
    {
      "cell_type": "markdown",
      "id": "34700c9d",
      "metadata": {
        "id": "34700c9d"
      },
      "source": [
        "Cuál en el valor más alto de emisiones (en general) usando el dataframe 'df_emisions_co2'?"
      ]
    },
    {
      "cell_type": "code",
      "execution_count": 6,
      "id": "24bdf93a",
      "metadata": {
        "id": "24bdf93a"
      },
      "outputs": [
        {
          "data": {
            "text/plain": [
              "np.float64(9257933.9)"
            ]
          },
          "execution_count": 6,
          "metadata": {},
          "output_type": "execute_result"
        }
      ],
      "source": [
        "# Coloque el código que responda a la pregunta aqui exactamente lo que se pregunta\n",
        "\n",
        "max_emissions_value = df_emissions_co2['Value'].max()\n",
        "\n",
        "max_emissions_value"
      ]
    },
    {
      "cell_type": "markdown",
      "id": "7ebd3621",
      "metadata": {
        "id": "7ebd3621"
      },
      "source": [
        "# Pregunta 3"
      ]
    },
    {
      "cell_type": "markdown",
      "id": "eb81f1c8",
      "metadata": {
        "id": "eb81f1c8"
      },
      "source": [
        "Cuántos países (Countries) hay en el dataframe 'df_emisions_co2'?"
      ]
    },
    {
      "cell_type": "code",
      "execution_count": 7,
      "id": "4f60454b",
      "metadata": {
        "id": "4f60454b"
      },
      "outputs": [
        {
          "data": {
            "text/plain": [
              "142"
            ]
          },
          "execution_count": 7,
          "metadata": {},
          "output_type": "execute_result"
        }
      ],
      "source": [
        "# Coloque el código que responda a la pregunta aqui exactamente lo que se pregunta\n",
        "\n",
        "num_countries_emissions_co2 = df_emissions_co2['Country'].nunique()\n",
        "\n",
        "num_countries_emissions_co2"
      ]
    },
    {
      "cell_type": "code",
      "execution_count": null,
      "id": "2f46faa0",
      "metadata": {
        "id": "2f46faa0"
      },
      "outputs": [
        {
          "name": "stdout",
          "output_type": "stream",
          "text": [
            "Lista de países en el DataFrame df_emissions_co2:\n",
            "\n",
            "Albania\n",
            "Algeria\n",
            "Angola\n",
            "Argentina\n",
            "Armenia\n",
            "Australia\n",
            "Austria\n",
            "Azerbaijan\n",
            "Bahrain\n",
            "Bangladesh\n",
            "Belarus\n",
            "Belgium\n",
            "Benin\n",
            "Bolivia (Plurin. State of)\n",
            "Bosnia and Herzegovina\n",
            "Botswana\n",
            "Brazil\n",
            "Brunei Darussalam\n",
            "Bulgaria\n",
            "Cambodia\n",
            "Cameroon\n",
            "Canada\n",
            "Chile\n",
            "China\n",
            "China, Hong Kong SAR\n",
            "Colombia\n",
            "Congo\n",
            "Costa Rica\n",
            "Côte d’Ivoire\n",
            "Croatia\n",
            "Cuba\n",
            "Curaçao\n",
            "Cyprus\n",
            "Czechia\n",
            "Dem. People's Rep. Korea\n",
            "Dem. Rep. of the Congo\n",
            "Denmark\n",
            "Dominican Republic\n",
            "Ecuador\n",
            "Egypt\n",
            "El Salvador\n",
            "Eritrea\n",
            "Estonia\n",
            "Ethiopia\n",
            "Finland\n",
            "France\n",
            "Gabon\n",
            "Georgia\n",
            "Germany\n",
            "Ghana\n",
            "Gibraltar\n",
            "Greece\n",
            "Guatemala\n",
            "Haiti\n",
            "Honduras\n",
            "Hungary\n",
            "Iceland\n",
            "India\n",
            "Indonesia\n",
            "Iran (Islamic Republic of)\n",
            "Iraq\n",
            "Ireland\n",
            "Israel\n",
            "Italy\n",
            "Jamaica\n",
            "Japan\n",
            "Jordan\n",
            "Kazakhstan\n",
            "Kenya\n",
            "Kosovo\n",
            "Kuwait\n",
            "Kyrgyzstan\n",
            "Latvia\n",
            "Lebanon\n",
            "Libya\n",
            "Lithuania\n",
            "Luxembourg\n",
            "Malaysia\n",
            "Malta\n",
            "Mauritius\n",
            "Mexico\n",
            "Mongolia\n",
            "Montenegro\n",
            "Morocco\n",
            "Mozambique\n",
            "Myanmar\n",
            "Namibia\n",
            "Nepal\n",
            "Netherlands\n",
            "New Zealand\n",
            "Nicaragua\n",
            "Niger\n",
            "Nigeria\n",
            "Norway\n",
            "Oman\n",
            "Pakistan\n",
            "Panama\n",
            "Paraguay\n",
            "Peru\n",
            "Philippines\n",
            "Poland\n",
            "Portugal\n",
            "Qatar\n",
            "Republic of Korea\n",
            "Republic of Moldova\n",
            "Romania\n",
            "Russian Federation\n",
            "Saudi Arabia\n",
            "Senegal\n",
            "Serbia\n",
            "Singapore\n",
            "Slovakia\n",
            "Slovenia\n",
            "South Africa\n",
            "South Sudan\n",
            "Spain\n",
            "Sri Lanka\n",
            "Sudan\n",
            "Suriname\n",
            "Sweden\n",
            "Switzerland\n",
            "Syrian Arab Republic\n",
            "Tajikistan\n",
            "Thailand\n",
            "North Macedonia\n",
            "Togo\n",
            "Trinidad and Tobago\n",
            "Tunisia\n",
            "Turkey\n",
            "Turkmenistan\n",
            "Ukraine\n",
            "United Arab Emirates\n",
            "United Kingdom\n",
            "United Rep. of Tanzania\n",
            "United States of America\n",
            "Uruguay\n",
            "Uzbekistan\n",
            "Venezuela (Boliv. Rep. of)\n",
            "Viet Nam\n",
            "Yemen\n",
            "Zambia\n",
            "Zimbabwe\n"
          ]
        }
      ],
      "source": [
        "#Imprima un lista con todos los paises\n",
        "\n",
        "# Generar lista de países\n",
        "countries_list = df_emissions_co2['Country'].unique()\n",
        "\n",
        "# Imprimir la lista de países, uno por línea:\n",
        "print(\"Lista de países en el DataFrame df_emissions_co2:\\n\")\n",
        "for country in countries_list:\n",
        "    print(country)"
      ]
    },
    {
      "cell_type": "markdown",
      "id": "1e40352a",
      "metadata": {
        "id": "1e40352a"
      },
      "source": [
        "# Pregunta 4"
      ]
    },
    {
      "cell_type": "markdown",
      "id": "80c46908",
      "metadata": {
        "id": "80c46908"
      },
      "source": [
        "Cuál es el país que tiene mayor emisiones usando el dataframe 'df_emisions_co2'?"
      ]
    },
    {
      "cell_type": "code",
      "execution_count": 11,
      "id": "e6df7d42",
      "metadata": {
        "id": "e6df7d42"
      },
      "outputs": [
        {
          "data": {
            "text/plain": [
              "('China', np.float64(46219584.789000005))"
            ]
          },
          "execution_count": 11,
          "metadata": {},
          "output_type": "execute_result"
        }
      ],
      "source": [
        "# Coloque el código que responda a la pregunta aqui exactamente lo que se pregunta\n",
        "\n",
        "# Agrupar por país y sumar las emisiones para cada uno\n",
        "total_emissions_by_country = df_emissions_co2.groupby('Country')['Value'].sum()\n",
        "\n",
        "# Encontrar el país con mayor emisiones\n",
        "country_with_max_emissions = total_emissions_by_country.idxmax()\n",
        "max_emissions_value = total_emissions_by_country.max()\n",
        "\n",
        "country_with_max_emissions, max_emissions_value"
      ]
    },
    {
      "cell_type": "markdown",
      "id": "26c97fde",
      "metadata": {
        "id": "26c97fde"
      },
      "source": [
        "# Pregunta 5"
      ]
    },
    {
      "cell_type": "markdown",
      "id": "541f44ca",
      "metadata": {
        "id": "541f44ca"
      },
      "source": [
        "Cuál es el año que tiene mayor emisiones para el país de Spain usando el dataframe 'df_emisions_co2'?"
      ]
    },
    {
      "cell_type": "code",
      "execution_count": 12,
      "id": "c32f62d1",
      "metadata": {
        "id": "c32f62d1"
      },
      "outputs": [
        {
          "data": {
            "text/plain": [
              "(np.int64(2005), np.float64(333710.098))"
            ]
          },
          "execution_count": 12,
          "metadata": {},
          "output_type": "execute_result"
        }
      ],
      "source": [
        "# Coloque el código que responda a la pregunta aqui exactamente lo que se pregunta\n",
        "\n",
        "# Filtrar solo las filas de España\n",
        "df_spain_emissions = df_emissions_co2[df_emissions_co2['Country'] == 'Spain']\n",
        "\n",
        "# Encontrar el año con mayor emisiones para España\n",
        "year_with_max_emissions_spain = df_spain_emissions.loc[df_spain_emissions['Value'].idxmax(), 'Year']\n",
        "max_emissions_value_spain = df_spain_emissions['Value'].max()\n",
        "\n",
        "year_with_max_emissions_spain, max_emissions_value_spain"
      ]
    },
    {
      "cell_type": "markdown",
      "id": "55ce4564",
      "metadata": {
        "id": "55ce4564"
      },
      "source": [
        "# Pregunta 6"
      ]
    },
    {
      "cell_type": "markdown",
      "id": "3473e4f2",
      "metadata": {
        "id": "3473e4f2"
      },
      "source": [
        "Cuáles son los años que se tiene registros para el dataframe 'df_emisions_co2_per_capita'?\n",
        "\n",
        "Entrege una lista con los años sin repetirse"
      ]
    },
    {
      "cell_type": "code",
      "execution_count": 13,
      "id": "5ad50924",
      "metadata": {
        "id": "5ad50924"
      },
      "outputs": [
        {
          "data": {
            "text/plain": [
              "[np.int64(1975),\n",
              " np.int64(1985),\n",
              " np.int64(1995),\n",
              " np.int64(2005),\n",
              " np.int64(2010),\n",
              " np.int64(2015),\n",
              " np.int64(2016),\n",
              " np.int64(2017)]"
            ]
          },
          "execution_count": 13,
          "metadata": {},
          "output_type": "execute_result"
        }
      ],
      "source": [
        "# Coloque el código que responda a la pregunta aqui exactamente lo que se pregunta\n",
        "\n",
        "# Crear dataframe con emisiones per cápita\n",
        "df_emissions_co2_per_capita = df[df['Type'] == 'Emissions per capita (metric tons of carbon dioxide)']\n",
        "\n",
        "# Obtener la lista de años únicos (sin repetir)\n",
        "years_list_per_capita = df_emissions_co2_per_capita['Year'].unique()\n",
        "\n",
        "# Convertir a lista y ordenar\n",
        "years_list_per_capita = sorted(list(years_list_per_capita))\n",
        "\n",
        "# Mostrar la lista\n",
        "years_list_per_capita"
      ]
    },
    {
      "cell_type": "markdown",
      "id": "18fa522e",
      "metadata": {
        "id": "18fa522e"
      },
      "source": [
        "# Pregunta 7"
      ]
    },
    {
      "cell_type": "markdown",
      "id": "2747ce42",
      "metadata": {
        "id": "2747ce42"
      },
      "source": [
        "Cuántas son las emisiones en 'toneladas métricas' en total usando todos los países para usando el dataframe 'df_emisions_co2'?\n"
      ]
    },
    {
      "cell_type": "code",
      "execution_count": 14,
      "id": "e8cbd117",
      "metadata": {
        "id": "e8cbd117"
      },
      "outputs": [
        {
          "data": {
            "text/plain": [
              "np.float64(195028250415.99997)"
            ]
          },
          "execution_count": 14,
          "metadata": {},
          "output_type": "execute_result"
        }
      ],
      "source": [
        "# Coloque el código que responda a la pregunta aqui exactamente lo que se pregunta\n",
        "\n",
        "# Calcular el total de emisiones sumando todos los valores del dataframe df_emissions_co2\n",
        "total_emissions_metric_tons = df_emissions_co2['Value'].sum()\n",
        "\n",
        "# Convertir de miles de toneladas métricas a toneladas métricas\n",
        "total_emissions_metric_tons = total_emissions_metric_tons * 1000\n",
        "\n",
        "total_emissions_metric_tons"
      ]
    },
    {
      "cell_type": "markdown",
      "id": "42aa86db",
      "metadata": {
        "id": "42aa86db"
      },
      "source": [
        "# Pregunta 8"
      ]
    },
    {
      "cell_type": "markdown",
      "id": "a303974d",
      "metadata": {
        "id": "a303974d"
      },
      "source": [
        "Cuántas son las emisiones en 'toneladas métricas' sólo para Albania usando el dataframe 'df_emisions_co2'?\n"
      ]
    },
    {
      "cell_type": "code",
      "execution_count": 15,
      "id": "181ab815",
      "metadata": {
        "id": "181ab815"
      },
      "outputs": [
        {
          "data": {
            "text/plain": [
              "np.float64(32713283.000000004)"
            ]
          },
          "execution_count": 15,
          "metadata": {},
          "output_type": "execute_result"
        }
      ],
      "source": [
        "# Coloque el código que responda a la pregunta aqui exactamente lo que se pregunta\n",
        "\n",
        "# Filtrar las emisiones solo para Albania\n",
        "emissions_albania = df_emissions_co2[df_emissions_co2['Country'] == 'Albania']\n",
        "\n",
        "# Sumar las emisiones de Albania y convertir a toneladas métricas\n",
        "total_emissions_albania_metric_tons = emissions_albania['Value'].sum() * 1000\n",
        "\n",
        "total_emissions_albania_metric_tons"
      ]
    },
    {
      "cell_type": "markdown",
      "id": "d084c9f3",
      "metadata": {
        "id": "d084c9f3"
      },
      "source": [
        "# Pregunta 9"
      ]
    },
    {
      "cell_type": "markdown",
      "id": "ae9cebff",
      "metadata": {
        "id": "ae9cebff"
      },
      "source": [
        "Cuántas son las emisiones en 'libras' sólo para Costa Rica usando el dataframe 'df_emisions_co2'?\n"
      ]
    },
    {
      "cell_type": "code",
      "execution_count": 16,
      "id": "ee97d492",
      "metadata": {
        "id": "ee97d492"
      },
      "outputs": [
        {
          "data": {
            "text/plain": [
              "np.float64(93085906154.34)"
            ]
          },
          "execution_count": 16,
          "metadata": {},
          "output_type": "execute_result"
        }
      ],
      "source": [
        "# Coloque el código que responda a la pregunta aqui exactamente lo que se pregunta\n",
        "\n",
        "# Filtrar las emisiones solo para Costa Rica\n",
        "emissions_costa_rica = df_emissions_co2[df_emissions_co2['Country'] == 'Costa Rica']\n",
        "\n",
        "# Sumar las emisiones de Costa Rica y convertir a toneladas métricas\n",
        "total_emissions_costa_rica_metric_tons = emissions_costa_rica['Value'].sum() * 1000\n",
        "\n",
        "# Convertir de toneladas métricas a libras (1 tonelada métrica = 2204.62 libras)\n",
        "total_emissions_costa_rica_pounds = total_emissions_costa_rica_metric_tons * 2204.62\n",
        "\n",
        "total_emissions_costa_rica_pounds"
      ]
    },
    {
      "cell_type": "markdown",
      "id": "eb6dfc54",
      "metadata": {
        "id": "eb6dfc54"
      },
      "source": [
        "# Pregunta 10"
      ]
    },
    {
      "cell_type": "markdown",
      "id": "5862817e",
      "metadata": {
        "id": "5862817e"
      },
      "source": [
        "Para sólo 'Costa Rica' y suponiendo que las emisiones se estancan a partir del último año reportado. Cuántas son las emisiones en 'Kg' sólo para Costa Rica en el año 2022 usando el dataframe 'df_emisions_co2'?\n"
      ]
    },
    {
      "cell_type": "code",
      "execution_count": 17,
      "id": "76ed009c",
      "metadata": {
        "id": "76ed009c"
      },
      "outputs": [
        {
          "data": {
            "text/plain": [
              "(np.int64(2017), np.float64(7584411000.0))"
            ]
          },
          "execution_count": 17,
          "metadata": {},
          "output_type": "execute_result"
        }
      ],
      "source": [
        "# Coloque el código que responda a la pregunta aqui exactamente lo que se pregunta\n",
        "\n",
        "# Filtrar las emisiones solo para Costa Rica\n",
        "emissions_costa_rica = df_emissions_co2[df_emissions_co2['Country'] == 'Costa Rica']\n",
        "\n",
        "# Encontrar el último año reportado para Costa Rica\n",
        "last_year_costa_rica = emissions_costa_rica['Year'].max()\n",
        "\n",
        "# Obtener las emisiones del último año reportado\n",
        "emissions_last_year = emissions_costa_rica[emissions_costa_rica['Year'] == last_year_costa_rica]['Value'].sum()\n",
        "\n",
        "# Convertir de miles de toneladas métricas a kilogramos\n",
        "# 1 mil toneladas métricas = 1,000,000 kg\n",
        "emissions_2022_kg = emissions_last_year * 1000000\n",
        "\n",
        "last_year_costa_rica, emissions_2022_kg"
      ]
    },
    {
      "cell_type": "markdown",
      "id": "1c18874b",
      "metadata": {
        "id": "1c18874b"
      },
      "source": [
        "# Pregunta 12"
      ]
    },
    {
      "cell_type": "markdown",
      "id": "6a487c43",
      "metadata": {
        "id": "6a487c43"
      },
      "source": [
        "Para sólo los países de Centroamérica ['El Salvador', 'Honduras', 'Guatemala', 'Costa Rica', 'Nicaragua'] obtener un reporte por año de las emisiones totales en Centroamérica usando el dataframe 'df_emisions_co2'?\n",
        "Se espera un dataframe de 2 columnas: 'Year' y 'total_por_año'"
      ]
    },
    {
      "cell_type": "code",
      "execution_count": 21,
      "id": "1d0426bf",
      "metadata": {
        "id": "1d0426bf"
      },
      "outputs": [
        {
          "name": "stdout",
          "output_type": "stream",
          "text": [
            "Emisiones Totales Centroamérica\n"
          ]
        },
        {
          "data": {
            "text/html": [
              "<table id=\"itables_9a0e47df_914a_47d1_b7e5_904b738946f7\" class=\"display nowrap\" data-quarto-disable-processing=\"true\" style=\"table-layout:auto;width:auto;margin:auto;caption-side:bottom\">\n",
              "<thead>\n",
              "    <tr style=\"text-align: right;\">\n",
              "      \n",
              "      <th>Year</th>\n",
              "      <th>total_por_año</th>\n",
              "    </tr>\n",
              "  </thead><tbody><tr>\n",
              "<td style=\"vertical-align:middle; text-align:left\">\n",
              "<a href=https://mwouts.github.io/itables/><svg class=\"main-svg\" xmlns=\"http://www.w3.org/2000/svg\" xmlns:xlink=\"http://www.w3.org/1999/xlink\"\n",
              "width=\"64\" viewBox=\"0 0 500 400\" style=\"font-family: 'Droid Sans', sans-serif;\">\n",
              "    <g style=\"fill:#d9d7fc\">\n",
              "        <path d=\"M100,400H500V357H100Z\" />\n",
              "        <path d=\"M100,300H400V257H100Z\" />\n",
              "        <path d=\"M0,200H400V157H0Z\" />\n",
              "        <path d=\"M100,100H500V57H100Z\" />\n",
              "        <path d=\"M100,350H500V307H100Z\" />\n",
              "        <path d=\"M100,250H400V207H100Z\" />\n",
              "        <path d=\"M0,150H400V107H0Z\" />\n",
              "        <path d=\"M100,50H500V7H100Z\" />\n",
              "    </g>\n",
              "    <g style=\"fill:#1a1366;stroke:#1a1366;\">\n",
              "   <rect x=\"100\" y=\"7\" width=\"400\" height=\"43\">\n",
              "    <animate\n",
              "      attributeName=\"width\"\n",
              "      values=\"0;400;0\"\n",
              "      dur=\"5s\"\n",
              "      repeatCount=\"indefinite\" />\n",
              "      <animate\n",
              "      attributeName=\"x\"\n",
              "      values=\"100;100;500\"\n",
              "      dur=\"5s\"\n",
              "      repeatCount=\"indefinite\" />\n",
              "  </rect>\n",
              "        <rect x=\"0\" y=\"107\" width=\"400\" height=\"43\">\n",
              "    <animate\n",
              "      attributeName=\"width\"\n",
              "      values=\"0;400;0\"\n",
              "      dur=\"3.5s\"\n",
              "      repeatCount=\"indefinite\" />\n",
              "    <animate\n",
              "      attributeName=\"x\"\n",
              "      values=\"0;0;400\"\n",
              "      dur=\"3.5s\"\n",
              "      repeatCount=\"indefinite\" />\n",
              "  </rect>\n",
              "        <rect x=\"100\" y=\"207\" width=\"300\" height=\"43\">\n",
              "    <animate\n",
              "      attributeName=\"width\"\n",
              "      values=\"0;300;0\"\n",
              "      dur=\"3s\"\n",
              "      repeatCount=\"indefinite\" />\n",
              "    <animate\n",
              "      attributeName=\"x\"\n",
              "      values=\"100;100;400\"\n",
              "      dur=\"3s\"\n",
              "      repeatCount=\"indefinite\" />\n",
              "  </rect>\n",
              "        <rect x=\"100\" y=\"307\" width=\"400\" height=\"43\">\n",
              "    <animate\n",
              "      attributeName=\"width\"\n",
              "      values=\"0;400;0\"\n",
              "      dur=\"4s\"\n",
              "      repeatCount=\"indefinite\" />\n",
              "      <animate\n",
              "      attributeName=\"x\"\n",
              "      values=\"100;100;500\"\n",
              "      dur=\"4s\"\n",
              "      repeatCount=\"indefinite\" />\n",
              "  </rect>\n",
              "        <g style=\"fill:transparent;stroke-width:8; stroke-linejoin:round\" rx=\"5\">\n",
              "            <g transform=\"translate(45 50) rotate(-45)\">\n",
              "                <circle r=\"33\" cx=\"0\" cy=\"0\" />\n",
              "                <rect x=\"-8\" y=\"32\" width=\"16\" height=\"30\" />\n",
              "            </g>\n",
              "\n",
              "            <g transform=\"translate(450 152)\">\n",
              "                <polyline points=\"-15,-20 -35,-20 -35,40 25,40 25,20\" />\n",
              "                <rect x=\"-15\" y=\"-40\" width=\"60\" height=\"60\" />\n",
              "            </g>\n",
              "\n",
              "            <g transform=\"translate(50 352)\">\n",
              "                <polygon points=\"-35,-5 0,-40 35,-5\" />\n",
              "                <polygon points=\"-35,10 0,45 35,10\" />\n",
              "            </g>\n",
              "\n",
              "            <g transform=\"translate(75 250)\">\n",
              "                <polyline points=\"-30,30 -60,0 -30,-30\" />\n",
              "                <polyline points=\"0,30 -30,0 0,-30\" />\n",
              "            </g>\n",
              "\n",
              "            <g transform=\"translate(425 250) rotate(180)\">\n",
              "                <polyline points=\"-30,30 -60,0 -30,-30\" />\n",
              "                <polyline points=\"0,30 -30,0 0,-30\" />\n",
              "            </g>\n",
              "        </g>\n",
              "    </g>\n",
              "</svg>\n",
              "</a>\n",
              "Loading ITables v2.2.4 from the internet...\n",
              "(need <a href=https://mwouts.github.io/itables/troubleshooting.html>help</a>?)</td>\n",
              "</tr></tbody>\n",
              "</table>\n",
              "<link href=\"https://www.unpkg.com/dt_for_itables@2.0.13/dt_bundle.css\" rel=\"stylesheet\">\n",
              "<script type=\"module\">\n",
              "    import {DataTable, jQuery as $} from 'https://www.unpkg.com/dt_for_itables@2.0.13/dt_bundle.js';\n",
              "\n",
              "    document.querySelectorAll(\"#itables_9a0e47df_914a_47d1_b7e5_904b738946f7:not(.dataTable)\").forEach(table => {\n",
              "        if (!(table instanceof HTMLTableElement))\n",
              "            return;\n",
              "\n",
              "        // Define the table data\n",
              "        const data = [[1975, 9860972.0], [1985, 10250333.0], [1995, 20960234.0], [2005, 33562291.0], [2010, 34533555.0], [2015, 43107376.0], [2016, 44366072.0], [2017, 43556261.0]];\n",
              "\n",
              "        // Define the dt_args\n",
              "        let dt_args = {\"layout\": {\"topStart\": null, \"topEnd\": null, \"bottomStart\": null, \"bottomEnd\": null}, \"order\": [], \"warn_on_selected_rows_not_rendered\": true};\n",
              "        dt_args[\"data\"] = data;\n",
              "\n",
              "        \n",
              "        new DataTable(table, dt_args);\n",
              "    });\n",
              "</script>\n"
            ],
            "text/plain": [
              "<IPython.core.display.HTML object>"
            ]
          },
          "metadata": {},
          "output_type": "display_data"
        }
      ],
      "source": [
        "# Coloque el código que responda a la pregunta aqui exactamente lo que se pregunta\n",
        "\n",
        "# Lista de países de Centroamérica\n",
        "central_america_countries = ['El Salvador', 'Honduras', 'Guatemala', 'Costa Rica', 'Nicaragua']\n",
        "\n",
        "# Filtrar el dataframe para incluir solo los países de Centroamérica\n",
        "df_central_america = df_emissions_co2[df_emissions_co2['Country'].isin(central_america_countries)]\n",
        "\n",
        "# Agrupar por año y sumar las emisiones totales por año\n",
        "df_central_america_report = df_central_america.groupby('Year')['Value'].sum().reset_index()\n",
        "\n",
        "# Renombrar columnas\n",
        "df_central_america_report.columns = ['Year', 'total_por_año']\n",
        "\n",
        "# Convertir de miles de toneladas métricas a toneladas métricas\n",
        "df_central_america_report['total_por_año'] = df_central_america_report['total_por_año'] * 1000\n",
        "\n",
        "import ace_tools_open as tools; tools.display_dataframe_to_user(\"Emisiones Totales Centroamérica\", df_central_america_report)"
      ]
    },
    {
      "cell_type": "markdown",
      "id": "8fdaae3d",
      "metadata": {
        "id": "8fdaae3d"
      },
      "source": [
        "# Pregunta 13"
      ]
    },
    {
      "cell_type": "markdown",
      "id": "8a7e17ff",
      "metadata": {
        "id": "8a7e17ff"
      },
      "source": [
        "Para sólo los países de Centroamérica ['El Salvador', 'Honduras', 'Guatemala', 'Costa Rica', 'Nicaragua'] obtener un reporte por año de las emisiones en promedio en Centroamérica usando el dataframe 'df_emisions_co2_per_capita'?\n",
        "Se espera un dataframe de 2 columnas: 'Year' y 'promedio_por_año'"
      ]
    },
    {
      "cell_type": "code",
      "execution_count": 22,
      "id": "4ec787f4",
      "metadata": {
        "id": "4ec787f4"
      },
      "outputs": [
        {
          "name": "stdout",
          "output_type": "stream",
          "text": [
            "Promedio Emisiones Per Cápita Centroamérica\n"
          ]
        },
        {
          "data": {
            "text/html": [
              "<table id=\"itables_6e5dc669_07ee_45ea_b7fb_8f4659a3cd78\" class=\"display nowrap\" data-quarto-disable-processing=\"true\" style=\"table-layout:auto;width:auto;margin:auto;caption-side:bottom\">\n",
              "<thead>\n",
              "    <tr style=\"text-align: right;\">\n",
              "      \n",
              "      <th>Year</th>\n",
              "      <th>promedio_por_año</th>\n",
              "    </tr>\n",
              "  </thead><tbody><tr>\n",
              "<td style=\"vertical-align:middle; text-align:left\">\n",
              "<a href=https://mwouts.github.io/itables/><svg class=\"main-svg\" xmlns=\"http://www.w3.org/2000/svg\" xmlns:xlink=\"http://www.w3.org/1999/xlink\"\n",
              "width=\"64\" viewBox=\"0 0 500 400\" style=\"font-family: 'Droid Sans', sans-serif;\">\n",
              "    <g style=\"fill:#d9d7fc\">\n",
              "        <path d=\"M100,400H500V357H100Z\" />\n",
              "        <path d=\"M100,300H400V257H100Z\" />\n",
              "        <path d=\"M0,200H400V157H0Z\" />\n",
              "        <path d=\"M100,100H500V57H100Z\" />\n",
              "        <path d=\"M100,350H500V307H100Z\" />\n",
              "        <path d=\"M100,250H400V207H100Z\" />\n",
              "        <path d=\"M0,150H400V107H0Z\" />\n",
              "        <path d=\"M100,50H500V7H100Z\" />\n",
              "    </g>\n",
              "    <g style=\"fill:#1a1366;stroke:#1a1366;\">\n",
              "   <rect x=\"100\" y=\"7\" width=\"400\" height=\"43\">\n",
              "    <animate\n",
              "      attributeName=\"width\"\n",
              "      values=\"0;400;0\"\n",
              "      dur=\"5s\"\n",
              "      repeatCount=\"indefinite\" />\n",
              "      <animate\n",
              "      attributeName=\"x\"\n",
              "      values=\"100;100;500\"\n",
              "      dur=\"5s\"\n",
              "      repeatCount=\"indefinite\" />\n",
              "  </rect>\n",
              "        <rect x=\"0\" y=\"107\" width=\"400\" height=\"43\">\n",
              "    <animate\n",
              "      attributeName=\"width\"\n",
              "      values=\"0;400;0\"\n",
              "      dur=\"3.5s\"\n",
              "      repeatCount=\"indefinite\" />\n",
              "    <animate\n",
              "      attributeName=\"x\"\n",
              "      values=\"0;0;400\"\n",
              "      dur=\"3.5s\"\n",
              "      repeatCount=\"indefinite\" />\n",
              "  </rect>\n",
              "        <rect x=\"100\" y=\"207\" width=\"300\" height=\"43\">\n",
              "    <animate\n",
              "      attributeName=\"width\"\n",
              "      values=\"0;300;0\"\n",
              "      dur=\"3s\"\n",
              "      repeatCount=\"indefinite\" />\n",
              "    <animate\n",
              "      attributeName=\"x\"\n",
              "      values=\"100;100;400\"\n",
              "      dur=\"3s\"\n",
              "      repeatCount=\"indefinite\" />\n",
              "  </rect>\n",
              "        <rect x=\"100\" y=\"307\" width=\"400\" height=\"43\">\n",
              "    <animate\n",
              "      attributeName=\"width\"\n",
              "      values=\"0;400;0\"\n",
              "      dur=\"4s\"\n",
              "      repeatCount=\"indefinite\" />\n",
              "      <animate\n",
              "      attributeName=\"x\"\n",
              "      values=\"100;100;500\"\n",
              "      dur=\"4s\"\n",
              "      repeatCount=\"indefinite\" />\n",
              "  </rect>\n",
              "        <g style=\"fill:transparent;stroke-width:8; stroke-linejoin:round\" rx=\"5\">\n",
              "            <g transform=\"translate(45 50) rotate(-45)\">\n",
              "                <circle r=\"33\" cx=\"0\" cy=\"0\" />\n",
              "                <rect x=\"-8\" y=\"32\" width=\"16\" height=\"30\" />\n",
              "            </g>\n",
              "\n",
              "            <g transform=\"translate(450 152)\">\n",
              "                <polyline points=\"-15,-20 -35,-20 -35,40 25,40 25,20\" />\n",
              "                <rect x=\"-15\" y=\"-40\" width=\"60\" height=\"60\" />\n",
              "            </g>\n",
              "\n",
              "            <g transform=\"translate(50 352)\">\n",
              "                <polygon points=\"-35,-5 0,-40 35,-5\" />\n",
              "                <polygon points=\"-35,10 0,45 35,10\" />\n",
              "            </g>\n",
              "\n",
              "            <g transform=\"translate(75 250)\">\n",
              "                <polyline points=\"-30,30 -60,0 -30,-30\" />\n",
              "                <polyline points=\"0,30 -30,0 0,-30\" />\n",
              "            </g>\n",
              "\n",
              "            <g transform=\"translate(425 250) rotate(180)\">\n",
              "                <polyline points=\"-30,30 -60,0 -30,-30\" />\n",
              "                <polyline points=\"0,30 -30,0 0,-30\" />\n",
              "            </g>\n",
              "        </g>\n",
              "    </g>\n",
              "</svg>\n",
              "</a>\n",
              "Loading ITables v2.2.4 from the internet...\n",
              "(need <a href=https://mwouts.github.io/itables/troubleshooting.html>help</a>?)</td>\n",
              "</tr></tbody>\n",
              "</table>\n",
              "<link href=\"https://www.unpkg.com/dt_for_itables@2.0.13/dt_bundle.css\" rel=\"stylesheet\">\n",
              "<script type=\"module\">\n",
              "    import {DataTable, jQuery as $} from 'https://www.unpkg.com/dt_for_itables@2.0.13/dt_bundle.js';\n",
              "\n",
              "    document.querySelectorAll(\"#itables_6e5dc669_07ee_45ea_b7fb_8f4659a3cd78:not(.dataTable)\").forEach(table => {\n",
              "        if (!(table instanceof HTMLTableElement))\n",
              "            return;\n",
              "\n",
              "        // Define the table data\n",
              "        const data = [[1975, 0.569], [1985, 0.462], [1995, 0.7626], [2005, 0.972], [2010, 0.9538], [2015, 1.0572], [2016, 1.072], [2017, 1.0422]];\n",
              "\n",
              "        // Define the dt_args\n",
              "        let dt_args = {\"layout\": {\"topStart\": null, \"topEnd\": null, \"bottomStart\": null, \"bottomEnd\": null}, \"order\": [], \"warn_on_selected_rows_not_rendered\": true};\n",
              "        dt_args[\"data\"] = data;\n",
              "\n",
              "        \n",
              "        new DataTable(table, dt_args);\n",
              "    });\n",
              "</script>\n"
            ],
            "text/plain": [
              "<IPython.core.display.HTML object>"
            ]
          },
          "metadata": {},
          "output_type": "display_data"
        }
      ],
      "source": [
        "# Coloque el código que responda a la pregunta aqui exactamente lo que se pregunta\n",
        "\n",
        "# Filtrar el dataframe de emisiones per cápita para incluir solo los países de Centroamérica\n",
        "df_central_america_per_capita = df_emissions_co2_per_capita[\n",
        "    df_emissions_co2_per_capita['Country'].isin(central_america_countries)\n",
        "]\n",
        "\n",
        "# Agrupar por año y calcular el promedio de emisiones per cápita por año\n",
        "df_central_america_per_capita_report = df_central_america_per_capita.groupby('Year')['Value'].mean().reset_index()\n",
        "\n",
        "# Renombrar columnas\n",
        "df_central_america_per_capita_report.columns = ['Year', 'promedio_por_año']\n",
        "\n",
        "# Mostrar el dataframe al usuario\n",
        "tools.display_dataframe_to_user(\"Promedio Emisiones Per Cápita Centroamérica\", df_central_america_per_capita_report)"
      ]
    },
    {
      "cell_type": "markdown",
      "id": "944ac865",
      "metadata": {
        "id": "944ac865"
      },
      "source": [
        "# Pregunta 14"
      ]
    },
    {
      "cell_type": "markdown",
      "id": "b961da55",
      "metadata": {
        "id": "b961da55"
      },
      "source": [
        "Cuál es el promedio de las emisiones per capita para el año 2005 usando el dataframe 'df_emisions_co2_per_capita'?\n"
      ]
    },
    {
      "cell_type": "code",
      "execution_count": 23,
      "id": "e2f0a786",
      "metadata": {
        "id": "e2f0a786"
      },
      "outputs": [
        {
          "data": {
            "text/plain": [
              "np.float64(5.29775)"
            ]
          },
          "execution_count": 23,
          "metadata": {},
          "output_type": "execute_result"
        }
      ],
      "source": [
        "# Coloque el código que responda a la pregunta aqui exactamente lo que se pregunta\n",
        "\n",
        "# Filtrar el dataframe de emisiones per cápita para el año 2005\n",
        "df_2005_per_capita = df_emissions_co2_per_capita[df_emissions_co2_per_capita['Year'] == 2005]\n",
        "\n",
        "# Calcular el promedio de emisiones per cápita para el año 2005\n",
        "promedio_2005_per_capita = df_2005_per_capita['Value'].mean()\n",
        "\n",
        "promedio_2005_per_capita"
      ]
    }
  ],
  "metadata": {
    "colab": {
      "provenance": []
    },
    "kernelspec": {
      "display_name": "Python 3",
      "language": "python",
      "name": "python3"
    },
    "language_info": {
      "codemirror_mode": {
        "name": "ipython",
        "version": 3
      },
      "file_extension": ".py",
      "mimetype": "text/x-python",
      "name": "python",
      "nbconvert_exporter": "python",
      "pygments_lexer": "ipython3",
      "version": "3.13.1"
    }
  },
  "nbformat": 4,
  "nbformat_minor": 5
}
